{
 "cells": [
  {
   "cell_type": "markdown",
   "metadata": {},
   "source": [
    "# DS-SF-36 | 03 | `pandas` | Codealong | Answer Key"
   ]
  },
  {
   "cell_type": "markdown",
   "metadata": {},
   "source": [
    "(http://pandas.pydata.org/pandas-docs/stable)"
   ]
  },
  {
   "cell_type": "markdown",
   "metadata": {},
   "source": [
    "## Part A | Introduction to `pandas`"
   ]
  },
  {
   "cell_type": "code",
   "execution_count": 1,
   "metadata": {
    "collapsed": true
   },
   "outputs": [],
   "source": [
    "import os\n",
    "\n",
    "import pandas as pd\n",
    "pd.set_option('display.max_rows', 10)\n",
    "pd.set_option('display.notebook_repr_html', True)\n",
    "pd.set_option('display.max_columns', 10)"
   ]
  },
  {
   "cell_type": "markdown",
   "metadata": {},
   "source": [
    "> ## `pd.read_csv()`: load datasets from files (or even over the Internet)"
   ]
  },
  {
   "cell_type": "markdown",
   "metadata": {},
   "source": [
    "(http://pandas.pydata.org/pandas-docs/stable/generated/pandas.read_csv.html)"
   ]
  },
  {
   "cell_type": "code",
   "execution_count": 2,
   "metadata": {
    "collapsed": true
   },
   "outputs": [],
   "source": [
    "df = pd.read_csv(os.path.join('..', 'datasets', 'dataset-03-zillow-properties.csv'))"
   ]
  },
  {
   "cell_type": "markdown",
   "metadata": {},
   "source": [
    "> ## `DataFrame`"
   ]
  },
  {
   "cell_type": "markdown",
   "metadata": {},
   "source": [
    "Let's check `df`'s type:"
   ]
  },
  {
   "cell_type": "code",
   "execution_count": 3,
   "metadata": {
    "collapsed": false
   },
   "outputs": [
    {
     "data": {
      "text/plain": [
       "pandas.core.frame.DataFrame"
      ]
     },
     "execution_count": 3,
     "metadata": {},
     "output_type": "execute_result"
    }
   ],
   "source": [
    "type(df)"
   ]
  },
  {
   "cell_type": "markdown",
   "metadata": {},
   "source": [
    "`df` is a `DataFrame`.  (http://pandas.pydata.org/pandas-docs/stable/dsintro.html)"
   ]
  },
  {
   "cell_type": "markdown",
   "metadata": {},
   "source": [
    "A `DataFrame` stores tabular data.  Let's have a look at its content:"
   ]
  },
  {
   "cell_type": "code",
   "execution_count": 4,
   "metadata": {
    "collapsed": false
   },
   "outputs": [
    {
     "data": {
      "text/html": [
       "<div>\n",
       "<table border=\"1\" class=\"dataframe\">\n",
       "  <thead>\n",
       "    <tr style=\"text-align: right;\">\n",
       "      <th></th>\n",
       "      <th>ID</th>\n",
       "      <th>Address</th>\n",
       "      <th>Latitude</th>\n",
       "      <th>Longitude</th>\n",
       "      <th>IsAStudio</th>\n",
       "      <th>...</th>\n",
       "      <th>Size</th>\n",
       "      <th>SizeUnit</th>\n",
       "      <th>LotSize</th>\n",
       "      <th>LotSizeUnit</th>\n",
       "      <th>BuiltInYear</th>\n",
       "    </tr>\n",
       "  </thead>\n",
       "  <tbody>\n",
       "    <tr>\n",
       "      <th>0</th>\n",
       "      <td>2121978635</td>\n",
       "      <td>829 Folsom St UNIT 906, San Francisco, CA</td>\n",
       "      <td>37781429</td>\n",
       "      <td>-122401860</td>\n",
       "      <td>False</td>\n",
       "      <td>...</td>\n",
       "      <td>557.0</td>\n",
       "      <td>sqft</td>\n",
       "      <td>NaN</td>\n",
       "      <td>NaN</td>\n",
       "      <td>2010.0</td>\n",
       "    </tr>\n",
       "    <tr>\n",
       "      <th>1</th>\n",
       "      <td>89239580</td>\n",
       "      <td>690 Market St UNIT 1705, San Francisco, CA</td>\n",
       "      <td>37788246</td>\n",
       "      <td>-122403198</td>\n",
       "      <td>False</td>\n",
       "      <td>...</td>\n",
       "      <td>1050.0</td>\n",
       "      <td>sqft</td>\n",
       "      <td>NaN</td>\n",
       "      <td>NaN</td>\n",
       "      <td>2007.0</td>\n",
       "    </tr>\n",
       "    <tr>\n",
       "      <th>2</th>\n",
       "      <td>15131782</td>\n",
       "      <td>401 Grand View Ave APT 3, San Francisco, CA</td>\n",
       "      <td>37752157</td>\n",
       "      <td>-122442356</td>\n",
       "      <td>False</td>\n",
       "      <td>...</td>\n",
       "      <td>937.0</td>\n",
       "      <td>sqft</td>\n",
       "      <td>NaN</td>\n",
       "      <td>NaN</td>\n",
       "      <td>1983.0</td>\n",
       "    </tr>\n",
       "    <tr>\n",
       "      <th>3</th>\n",
       "      <td>15179502</td>\n",
       "      <td>250 Concord St, San Francisco, CA</td>\n",
       "      <td>37710141</td>\n",
       "      <td>-122442063</td>\n",
       "      <td>False</td>\n",
       "      <td>...</td>\n",
       "      <td>1574.0</td>\n",
       "      <td>sqft</td>\n",
       "      <td>1947.0</td>\n",
       "      <td>sqft</td>\n",
       "      <td>1959.0</td>\n",
       "    </tr>\n",
       "    <tr>\n",
       "      <th>4</th>\n",
       "      <td>52266124</td>\n",
       "      <td>88 King St APT 317, San Francisco, CA</td>\n",
       "      <td>37780630</td>\n",
       "      <td>-122389635</td>\n",
       "      <td>False</td>\n",
       "      <td>...</td>\n",
       "      <td>1205.0</td>\n",
       "      <td>sqft</td>\n",
       "      <td>NaN</td>\n",
       "      <td>NaN</td>\n",
       "      <td>2000.0</td>\n",
       "    </tr>\n",
       "    <tr>\n",
       "      <th>...</th>\n",
       "      <td>...</td>\n",
       "      <td>...</td>\n",
       "      <td>...</td>\n",
       "      <td>...</td>\n",
       "      <td>...</td>\n",
       "      <td>...</td>\n",
       "      <td>...</td>\n",
       "      <td>...</td>\n",
       "      <td>...</td>\n",
       "      <td>...</td>\n",
       "      <td>...</td>\n",
       "    </tr>\n",
       "    <tr>\n",
       "      <th>995</th>\n",
       "      <td>82786211</td>\n",
       "      <td>310 Townsend St APT 311, San Francisco, CA</td>\n",
       "      <td>37777027</td>\n",
       "      <td>-122395736</td>\n",
       "      <td>False</td>\n",
       "      <td>...</td>\n",
       "      <td>853.0</td>\n",
       "      <td>sqft</td>\n",
       "      <td>NaN</td>\n",
       "      <td>NaN</td>\n",
       "      <td>2006.0</td>\n",
       "    </tr>\n",
       "    <tr>\n",
       "      <th>996</th>\n",
       "      <td>15103435</td>\n",
       "      <td>1343 31st Ave, San Francisco, CA</td>\n",
       "      <td>37762152</td>\n",
       "      <td>-122490254</td>\n",
       "      <td>False</td>\n",
       "      <td>...</td>\n",
       "      <td>1886.0</td>\n",
       "      <td>sqft</td>\n",
       "      <td>3000.0</td>\n",
       "      <td>sqft</td>\n",
       "      <td>1934.0</td>\n",
       "    </tr>\n",
       "    <tr>\n",
       "      <th>997</th>\n",
       "      <td>15195183</td>\n",
       "      <td>3916 Alemany Blvd, San Francisco, CA</td>\n",
       "      <td>37711527</td>\n",
       "      <td>-122467755</td>\n",
       "      <td>False</td>\n",
       "      <td>...</td>\n",
       "      <td>1300.0</td>\n",
       "      <td>sqft</td>\n",
       "      <td>2553.0</td>\n",
       "      <td>sqft</td>\n",
       "      <td>1941.0</td>\n",
       "    </tr>\n",
       "    <tr>\n",
       "      <th>998</th>\n",
       "      <td>15180783</td>\n",
       "      <td>430 Fair Oaks St, San Francisco, CA</td>\n",
       "      <td>37749725</td>\n",
       "      <td>-122424094</td>\n",
       "      <td>False</td>\n",
       "      <td>...</td>\n",
       "      <td>2678.0</td>\n",
       "      <td>sqft</td>\n",
       "      <td>NaN</td>\n",
       "      <td>NaN</td>\n",
       "      <td>1911.0</td>\n",
       "    </tr>\n",
       "    <tr>\n",
       "      <th>999</th>\n",
       "      <td>54854296</td>\n",
       "      <td>720 Stockton St APT 3, San Francisco, CA</td>\n",
       "      <td>37792578</td>\n",
       "      <td>-122407366</td>\n",
       "      <td>False</td>\n",
       "      <td>...</td>\n",
       "      <td>886.0</td>\n",
       "      <td>sqft</td>\n",
       "      <td>NaN</td>\n",
       "      <td>NaN</td>\n",
       "      <td>2001.0</td>\n",
       "    </tr>\n",
       "  </tbody>\n",
       "</table>\n",
       "<p>1000 rows × 12 columns</p>\n",
       "</div>"
      ],
      "text/plain": [
       "             ID                                      Address  Latitude  \\\n",
       "0    2121978635    829 Folsom St UNIT 906, San Francisco, CA  37781429   \n",
       "1      89239580   690 Market St UNIT 1705, San Francisco, CA  37788246   \n",
       "2      15131782  401 Grand View Ave APT 3, San Francisco, CA  37752157   \n",
       "3      15179502            250 Concord St, San Francisco, CA  37710141   \n",
       "4      52266124        88 King St APT 317, San Francisco, CA  37780630   \n",
       "..          ...                                          ...       ...   \n",
       "995    82786211   310 Townsend St APT 311, San Francisco, CA  37777027   \n",
       "996    15103435             1343 31st Ave, San Francisco, CA  37762152   \n",
       "997    15195183         3916 Alemany Blvd, San Francisco, CA  37711527   \n",
       "998    15180783          430 Fair Oaks St, San Francisco, CA  37749725   \n",
       "999    54854296     720 Stockton St APT 3, San Francisco, CA  37792578   \n",
       "\n",
       "     Longitude IsAStudio     ...         Size  SizeUnit  LotSize LotSizeUnit  \\\n",
       "0   -122401860     False     ...        557.0      sqft      NaN         NaN   \n",
       "1   -122403198     False     ...       1050.0      sqft      NaN         NaN   \n",
       "2   -122442356     False     ...        937.0      sqft      NaN         NaN   \n",
       "3   -122442063     False     ...       1574.0      sqft   1947.0        sqft   \n",
       "4   -122389635     False     ...       1205.0      sqft      NaN         NaN   \n",
       "..         ...       ...     ...          ...       ...      ...         ...   \n",
       "995 -122395736     False     ...        853.0      sqft      NaN         NaN   \n",
       "996 -122490254     False     ...       1886.0      sqft   3000.0        sqft   \n",
       "997 -122467755     False     ...       1300.0      sqft   2553.0        sqft   \n",
       "998 -122424094     False     ...       2678.0      sqft      NaN         NaN   \n",
       "999 -122407366     False     ...        886.0      sqft      NaN         NaN   \n",
       "\n",
       "     BuiltInYear  \n",
       "0         2010.0  \n",
       "1         2007.0  \n",
       "2         1983.0  \n",
       "3         1959.0  \n",
       "4         2000.0  \n",
       "..           ...  \n",
       "995       2006.0  \n",
       "996       1934.0  \n",
       "997       1941.0  \n",
       "998       1911.0  \n",
       "999       2001.0  \n",
       "\n",
       "[1000 rows x 12 columns]"
      ]
     },
     "execution_count": 4,
     "metadata": {},
     "output_type": "execute_result"
    }
   ],
   "source": [
    "df"
   ]
  },
  {
   "cell_type": "markdown",
   "metadata": {},
   "source": [
    "> ## `.head()`: first 5 (default) rows"
   ]
  },
  {
   "cell_type": "markdown",
   "metadata": {},
   "source": [
    "- (http://pandas.pydata.org/pandas-docs/stable/generated/pandas.DataFrame.head.html)\n",
    "- (http://pandas.pydata.org/pandas-docs/stable/generated/pandas.Series.head.html)"
   ]
  },
  {
   "cell_type": "code",
   "execution_count": 5,
   "metadata": {
    "collapsed": false
   },
   "outputs": [
    {
     "data": {
      "text/html": [
       "<div>\n",
       "<table border=\"1\" class=\"dataframe\">\n",
       "  <thead>\n",
       "    <tr style=\"text-align: right;\">\n",
       "      <th></th>\n",
       "      <th>ID</th>\n",
       "      <th>Address</th>\n",
       "      <th>Latitude</th>\n",
       "      <th>Longitude</th>\n",
       "      <th>IsAStudio</th>\n",
       "      <th>...</th>\n",
       "      <th>Size</th>\n",
       "      <th>SizeUnit</th>\n",
       "      <th>LotSize</th>\n",
       "      <th>LotSizeUnit</th>\n",
       "      <th>BuiltInYear</th>\n",
       "    </tr>\n",
       "  </thead>\n",
       "  <tbody>\n",
       "    <tr>\n",
       "      <th>0</th>\n",
       "      <td>2121978635</td>\n",
       "      <td>829 Folsom St UNIT 906, San Francisco, CA</td>\n",
       "      <td>37781429</td>\n",
       "      <td>-122401860</td>\n",
       "      <td>False</td>\n",
       "      <td>...</td>\n",
       "      <td>557.0</td>\n",
       "      <td>sqft</td>\n",
       "      <td>NaN</td>\n",
       "      <td>NaN</td>\n",
       "      <td>2010.0</td>\n",
       "    </tr>\n",
       "    <tr>\n",
       "      <th>1</th>\n",
       "      <td>89239580</td>\n",
       "      <td>690 Market St UNIT 1705, San Francisco, CA</td>\n",
       "      <td>37788246</td>\n",
       "      <td>-122403198</td>\n",
       "      <td>False</td>\n",
       "      <td>...</td>\n",
       "      <td>1050.0</td>\n",
       "      <td>sqft</td>\n",
       "      <td>NaN</td>\n",
       "      <td>NaN</td>\n",
       "      <td>2007.0</td>\n",
       "    </tr>\n",
       "    <tr>\n",
       "      <th>2</th>\n",
       "      <td>15131782</td>\n",
       "      <td>401 Grand View Ave APT 3, San Francisco, CA</td>\n",
       "      <td>37752157</td>\n",
       "      <td>-122442356</td>\n",
       "      <td>False</td>\n",
       "      <td>...</td>\n",
       "      <td>937.0</td>\n",
       "      <td>sqft</td>\n",
       "      <td>NaN</td>\n",
       "      <td>NaN</td>\n",
       "      <td>1983.0</td>\n",
       "    </tr>\n",
       "    <tr>\n",
       "      <th>3</th>\n",
       "      <td>15179502</td>\n",
       "      <td>250 Concord St, San Francisco, CA</td>\n",
       "      <td>37710141</td>\n",
       "      <td>-122442063</td>\n",
       "      <td>False</td>\n",
       "      <td>...</td>\n",
       "      <td>1574.0</td>\n",
       "      <td>sqft</td>\n",
       "      <td>1947.0</td>\n",
       "      <td>sqft</td>\n",
       "      <td>1959.0</td>\n",
       "    </tr>\n",
       "    <tr>\n",
       "      <th>4</th>\n",
       "      <td>52266124</td>\n",
       "      <td>88 King St APT 317, San Francisco, CA</td>\n",
       "      <td>37780630</td>\n",
       "      <td>-122389635</td>\n",
       "      <td>False</td>\n",
       "      <td>...</td>\n",
       "      <td>1205.0</td>\n",
       "      <td>sqft</td>\n",
       "      <td>NaN</td>\n",
       "      <td>NaN</td>\n",
       "      <td>2000.0</td>\n",
       "    </tr>\n",
       "  </tbody>\n",
       "</table>\n",
       "<p>5 rows × 12 columns</p>\n",
       "</div>"
      ],
      "text/plain": [
       "           ID                                      Address  Latitude  \\\n",
       "0  2121978635    829 Folsom St UNIT 906, San Francisco, CA  37781429   \n",
       "1    89239580   690 Market St UNIT 1705, San Francisco, CA  37788246   \n",
       "2    15131782  401 Grand View Ave APT 3, San Francisco, CA  37752157   \n",
       "3    15179502            250 Concord St, San Francisco, CA  37710141   \n",
       "4    52266124        88 King St APT 317, San Francisco, CA  37780630   \n",
       "\n",
       "   Longitude IsAStudio     ...         Size  SizeUnit  LotSize LotSizeUnit  \\\n",
       "0 -122401860     False     ...        557.0      sqft      NaN         NaN   \n",
       "1 -122403198     False     ...       1050.0      sqft      NaN         NaN   \n",
       "2 -122442356     False     ...        937.0      sqft      NaN         NaN   \n",
       "3 -122442063     False     ...       1574.0      sqft   1947.0        sqft   \n",
       "4 -122389635     False     ...       1205.0      sqft      NaN         NaN   \n",
       "\n",
       "   BuiltInYear  \n",
       "0       2010.0  \n",
       "1       2007.0  \n",
       "2       1983.0  \n",
       "3       1959.0  \n",
       "4       2000.0  \n",
       "\n",
       "[5 rows x 12 columns]"
      ]
     },
     "execution_count": 5,
     "metadata": {},
     "output_type": "execute_result"
    }
   ],
   "source": [
    "df.head()"
   ]
  },
  {
   "cell_type": "markdown",
   "metadata": {},
   "source": [
    "> ## `.tail()`: last 5 (default) rows"
   ]
  },
  {
   "cell_type": "markdown",
   "metadata": {},
   "source": [
    "- (http://pandas.pydata.org/pandas-docs/stable/generated/pandas.DataFrame.tail.html)\n",
    "- (http://pandas.pydata.org/pandas-docs/stable/generated/pandas.Series.tail.html)"
   ]
  },
  {
   "cell_type": "code",
   "execution_count": 6,
   "metadata": {
    "collapsed": false
   },
   "outputs": [
    {
     "data": {
      "text/html": [
       "<div>\n",
       "<table border=\"1\" class=\"dataframe\">\n",
       "  <thead>\n",
       "    <tr style=\"text-align: right;\">\n",
       "      <th></th>\n",
       "      <th>ID</th>\n",
       "      <th>Address</th>\n",
       "      <th>Latitude</th>\n",
       "      <th>Longitude</th>\n",
       "      <th>IsAStudio</th>\n",
       "      <th>...</th>\n",
       "      <th>Size</th>\n",
       "      <th>SizeUnit</th>\n",
       "      <th>LotSize</th>\n",
       "      <th>LotSizeUnit</th>\n",
       "      <th>BuiltInYear</th>\n",
       "    </tr>\n",
       "  </thead>\n",
       "  <tbody>\n",
       "    <tr>\n",
       "      <th>995</th>\n",
       "      <td>82786211</td>\n",
       "      <td>310 Townsend St APT 311, San Francisco, CA</td>\n",
       "      <td>37777027</td>\n",
       "      <td>-122395736</td>\n",
       "      <td>False</td>\n",
       "      <td>...</td>\n",
       "      <td>853.0</td>\n",
       "      <td>sqft</td>\n",
       "      <td>NaN</td>\n",
       "      <td>NaN</td>\n",
       "      <td>2006.0</td>\n",
       "    </tr>\n",
       "    <tr>\n",
       "      <th>996</th>\n",
       "      <td>15103435</td>\n",
       "      <td>1343 31st Ave, San Francisco, CA</td>\n",
       "      <td>37762152</td>\n",
       "      <td>-122490254</td>\n",
       "      <td>False</td>\n",
       "      <td>...</td>\n",
       "      <td>1886.0</td>\n",
       "      <td>sqft</td>\n",
       "      <td>3000.0</td>\n",
       "      <td>sqft</td>\n",
       "      <td>1934.0</td>\n",
       "    </tr>\n",
       "    <tr>\n",
       "      <th>997</th>\n",
       "      <td>15195183</td>\n",
       "      <td>3916 Alemany Blvd, San Francisco, CA</td>\n",
       "      <td>37711527</td>\n",
       "      <td>-122467755</td>\n",
       "      <td>False</td>\n",
       "      <td>...</td>\n",
       "      <td>1300.0</td>\n",
       "      <td>sqft</td>\n",
       "      <td>2553.0</td>\n",
       "      <td>sqft</td>\n",
       "      <td>1941.0</td>\n",
       "    </tr>\n",
       "    <tr>\n",
       "      <th>998</th>\n",
       "      <td>15180783</td>\n",
       "      <td>430 Fair Oaks St, San Francisco, CA</td>\n",
       "      <td>37749725</td>\n",
       "      <td>-122424094</td>\n",
       "      <td>False</td>\n",
       "      <td>...</td>\n",
       "      <td>2678.0</td>\n",
       "      <td>sqft</td>\n",
       "      <td>NaN</td>\n",
       "      <td>NaN</td>\n",
       "      <td>1911.0</td>\n",
       "    </tr>\n",
       "    <tr>\n",
       "      <th>999</th>\n",
       "      <td>54854296</td>\n",
       "      <td>720 Stockton St APT 3, San Francisco, CA</td>\n",
       "      <td>37792578</td>\n",
       "      <td>-122407366</td>\n",
       "      <td>False</td>\n",
       "      <td>...</td>\n",
       "      <td>886.0</td>\n",
       "      <td>sqft</td>\n",
       "      <td>NaN</td>\n",
       "      <td>NaN</td>\n",
       "      <td>2001.0</td>\n",
       "    </tr>\n",
       "  </tbody>\n",
       "</table>\n",
       "<p>5 rows × 12 columns</p>\n",
       "</div>"
      ],
      "text/plain": [
       "           ID                                     Address  Latitude  \\\n",
       "995  82786211  310 Townsend St APT 311, San Francisco, CA  37777027   \n",
       "996  15103435            1343 31st Ave, San Francisco, CA  37762152   \n",
       "997  15195183        3916 Alemany Blvd, San Francisco, CA  37711527   \n",
       "998  15180783         430 Fair Oaks St, San Francisco, CA  37749725   \n",
       "999  54854296    720 Stockton St APT 3, San Francisco, CA  37792578   \n",
       "\n",
       "     Longitude IsAStudio     ...         Size  SizeUnit  LotSize LotSizeUnit  \\\n",
       "995 -122395736     False     ...        853.0      sqft      NaN         NaN   \n",
       "996 -122490254     False     ...       1886.0      sqft   3000.0        sqft   \n",
       "997 -122467755     False     ...       1300.0      sqft   2553.0        sqft   \n",
       "998 -122424094     False     ...       2678.0      sqft      NaN         NaN   \n",
       "999 -122407366     False     ...        886.0      sqft      NaN         NaN   \n",
       "\n",
       "     BuiltInYear  \n",
       "995       2006.0  \n",
       "996       1934.0  \n",
       "997       1941.0  \n",
       "998       1911.0  \n",
       "999       2001.0  \n",
       "\n",
       "[5 rows x 12 columns]"
      ]
     },
     "execution_count": 6,
     "metadata": {},
     "output_type": "execute_result"
    }
   ],
   "source": [
    "df.tail()"
   ]
  },
  {
   "cell_type": "markdown",
   "metadata": {},
   "source": [
    "> ## `.shape`: shape (i.e., number of rows and columns)"
   ]
  },
  {
   "cell_type": "markdown",
   "metadata": {},
   "source": [
    "- (http://pandas.pydata.org/pandas-docs/stable/generated/pandas.DataFrame.shape.html)\n",
    "- (http://pandas.pydata.org/pandas-docs/stable/generated/pandas.Series.shape.html)"
   ]
  },
  {
   "cell_type": "code",
   "execution_count": 7,
   "metadata": {
    "collapsed": false
   },
   "outputs": [
    {
     "data": {
      "text/plain": [
       "(1000, 12)"
      ]
     },
     "execution_count": 7,
     "metadata": {},
     "output_type": "execute_result"
    }
   ],
   "source": [
    "df.shape"
   ]
  },
  {
   "cell_type": "markdown",
   "metadata": {},
   "source": [
    "The first value (at index 0) is the number of rows, the second (at index 1), the number of columns:"
   ]
  },
  {
   "cell_type": "code",
   "execution_count": 8,
   "metadata": {
    "collapsed": false
   },
   "outputs": [
    {
     "data": {
      "text/plain": [
       "1000"
      ]
     },
     "execution_count": 8,
     "metadata": {},
     "output_type": "execute_result"
    }
   ],
   "source": [
    "df.shape[0]"
   ]
  },
  {
   "cell_type": "code",
   "execution_count": 9,
   "metadata": {
    "collapsed": false
   },
   "outputs": [
    {
     "data": {
      "text/plain": [
       "12"
      ]
     },
     "execution_count": 9,
     "metadata": {},
     "output_type": "execute_result"
    }
   ],
   "source": [
    "df.shape[1]"
   ]
  },
  {
   "cell_type": "markdown",
   "metadata": {},
   "source": [
    "You can also use the idiomatic Python `len` function to get the number of rows:"
   ]
  },
  {
   "cell_type": "code",
   "execution_count": 10,
   "metadata": {
    "collapsed": false
   },
   "outputs": [
    {
     "data": {
      "text/plain": [
       "1000"
      ]
     },
     "execution_count": 10,
     "metadata": {},
     "output_type": "execute_result"
    }
   ],
   "source": [
    "len(df)"
   ]
  },
  {
   "cell_type": "markdown",
   "metadata": {},
   "source": [
    "> ## `.dtypes`: column types"
   ]
  },
  {
   "cell_type": "markdown",
   "metadata": {},
   "source": [
    "- (http://pandas.pydata.org/pandas-docs/stable/generated/pandas.DataFrame.dtypes.html)\n",
    "- (http://pandas.pydata.org/pandas-docs/stable/basics.html)"
   ]
  },
  {
   "cell_type": "code",
   "execution_count": 11,
   "metadata": {
    "collapsed": false
   },
   "outputs": [
    {
     "data": {
      "text/plain": [
       "ID               int64\n",
       "Address         object\n",
       "Latitude         int64\n",
       "Longitude        int64\n",
       "IsAStudio       object\n",
       "                ...   \n",
       "Size           float64\n",
       "SizeUnit        object\n",
       "LotSize        float64\n",
       "LotSizeUnit     object\n",
       "BuiltInYear    float64\n",
       "dtype: object"
      ]
     },
     "execution_count": 11,
     "metadata": {},
     "output_type": "execute_result"
    }
   ],
   "source": [
    "df.dtypes"
   ]
  },
  {
   "cell_type": "markdown",
   "metadata": {},
   "source": [
    "> ## `.isnull()` and `.notnull()`: NaN (Not-a-Number)"
   ]
  },
  {
   "cell_type": "markdown",
   "metadata": {},
   "source": [
    "- (http://pandas.pydata.org/pandas-docs/stable/generated/pandas.isnull.html)\n",
    "- (http://pandas.pydata.org/pandas-docs/stable/generated/pandas.DataFrame.isnull.html)\n",
    "- (http://pandas.pydata.org/pandas-docs/stable/generated/pandas.Series.isnull.html)"
   ]
  },
  {
   "cell_type": "markdown",
   "metadata": {},
   "source": [
    "- (http://pandas.pydata.org/pandas-docs/stable/generated/pandas.notnull.html)\n",
    "- (http://pandas.pydata.org/pandas-docs/stable/generated/pandas.DataFrame.notnull.html)\n",
    "- (http://pandas.pydata.org/pandas-docs/stable/generated/pandas.Series.notnull.html)"
   ]
  },
  {
   "cell_type": "markdown",
   "metadata": {},
   "source": [
    "- (http://pandas.pydata.org/pandas-docs/stable/generated/pandas.DataFrame.sum.html)\n",
    "- (http://pandas.pydata.org/pandas-docs/stable/generated/pandas.Series.sum.html)"
   ]
  },
  {
   "cell_type": "markdown",
   "metadata": {},
   "source": [
    "As a data scientist, we will have to decide what to do when encountering missing values (a.k.a, not-a-numbers).  We might decide to drop the row containing it, drop the whole column, or impute it.  Today, let's focus on finding these NaNs."
   ]
  },
  {
   "cell_type": "code",
   "execution_count": 12,
   "metadata": {
    "collapsed": false
   },
   "outputs": [
    {
     "data": {
      "text/html": [
       "<div>\n",
       "<table border=\"1\" class=\"dataframe\">\n",
       "  <thead>\n",
       "    <tr style=\"text-align: right;\">\n",
       "      <th></th>\n",
       "      <th>ID</th>\n",
       "      <th>Address</th>\n",
       "      <th>Latitude</th>\n",
       "      <th>Longitude</th>\n",
       "      <th>IsAStudio</th>\n",
       "      <th>...</th>\n",
       "      <th>Size</th>\n",
       "      <th>SizeUnit</th>\n",
       "      <th>LotSize</th>\n",
       "      <th>LotSizeUnit</th>\n",
       "      <th>BuiltInYear</th>\n",
       "    </tr>\n",
       "  </thead>\n",
       "  <tbody>\n",
       "    <tr>\n",
       "      <th>0</th>\n",
       "      <td>False</td>\n",
       "      <td>False</td>\n",
       "      <td>False</td>\n",
       "      <td>False</td>\n",
       "      <td>False</td>\n",
       "      <td>...</td>\n",
       "      <td>False</td>\n",
       "      <td>False</td>\n",
       "      <td>True</td>\n",
       "      <td>True</td>\n",
       "      <td>False</td>\n",
       "    </tr>\n",
       "    <tr>\n",
       "      <th>1</th>\n",
       "      <td>False</td>\n",
       "      <td>False</td>\n",
       "      <td>False</td>\n",
       "      <td>False</td>\n",
       "      <td>False</td>\n",
       "      <td>...</td>\n",
       "      <td>False</td>\n",
       "      <td>False</td>\n",
       "      <td>True</td>\n",
       "      <td>True</td>\n",
       "      <td>False</td>\n",
       "    </tr>\n",
       "    <tr>\n",
       "      <th>2</th>\n",
       "      <td>False</td>\n",
       "      <td>False</td>\n",
       "      <td>False</td>\n",
       "      <td>False</td>\n",
       "      <td>False</td>\n",
       "      <td>...</td>\n",
       "      <td>False</td>\n",
       "      <td>False</td>\n",
       "      <td>True</td>\n",
       "      <td>True</td>\n",
       "      <td>False</td>\n",
       "    </tr>\n",
       "    <tr>\n",
       "      <th>3</th>\n",
       "      <td>False</td>\n",
       "      <td>False</td>\n",
       "      <td>False</td>\n",
       "      <td>False</td>\n",
       "      <td>False</td>\n",
       "      <td>...</td>\n",
       "      <td>False</td>\n",
       "      <td>False</td>\n",
       "      <td>False</td>\n",
       "      <td>False</td>\n",
       "      <td>False</td>\n",
       "    </tr>\n",
       "    <tr>\n",
       "      <th>4</th>\n",
       "      <td>False</td>\n",
       "      <td>False</td>\n",
       "      <td>False</td>\n",
       "      <td>False</td>\n",
       "      <td>False</td>\n",
       "      <td>...</td>\n",
       "      <td>False</td>\n",
       "      <td>False</td>\n",
       "      <td>True</td>\n",
       "      <td>True</td>\n",
       "      <td>False</td>\n",
       "    </tr>\n",
       "    <tr>\n",
       "      <th>...</th>\n",
       "      <td>...</td>\n",
       "      <td>...</td>\n",
       "      <td>...</td>\n",
       "      <td>...</td>\n",
       "      <td>...</td>\n",
       "      <td>...</td>\n",
       "      <td>...</td>\n",
       "      <td>...</td>\n",
       "      <td>...</td>\n",
       "      <td>...</td>\n",
       "      <td>...</td>\n",
       "    </tr>\n",
       "    <tr>\n",
       "      <th>995</th>\n",
       "      <td>False</td>\n",
       "      <td>False</td>\n",
       "      <td>False</td>\n",
       "      <td>False</td>\n",
       "      <td>False</td>\n",
       "      <td>...</td>\n",
       "      <td>False</td>\n",
       "      <td>False</td>\n",
       "      <td>True</td>\n",
       "      <td>True</td>\n",
       "      <td>False</td>\n",
       "    </tr>\n",
       "    <tr>\n",
       "      <th>996</th>\n",
       "      <td>False</td>\n",
       "      <td>False</td>\n",
       "      <td>False</td>\n",
       "      <td>False</td>\n",
       "      <td>False</td>\n",
       "      <td>...</td>\n",
       "      <td>False</td>\n",
       "      <td>False</td>\n",
       "      <td>False</td>\n",
       "      <td>False</td>\n",
       "      <td>False</td>\n",
       "    </tr>\n",
       "    <tr>\n",
       "      <th>997</th>\n",
       "      <td>False</td>\n",
       "      <td>False</td>\n",
       "      <td>False</td>\n",
       "      <td>False</td>\n",
       "      <td>False</td>\n",
       "      <td>...</td>\n",
       "      <td>False</td>\n",
       "      <td>False</td>\n",
       "      <td>False</td>\n",
       "      <td>False</td>\n",
       "      <td>False</td>\n",
       "    </tr>\n",
       "    <tr>\n",
       "      <th>998</th>\n",
       "      <td>False</td>\n",
       "      <td>False</td>\n",
       "      <td>False</td>\n",
       "      <td>False</td>\n",
       "      <td>False</td>\n",
       "      <td>...</td>\n",
       "      <td>False</td>\n",
       "      <td>False</td>\n",
       "      <td>True</td>\n",
       "      <td>True</td>\n",
       "      <td>False</td>\n",
       "    </tr>\n",
       "    <tr>\n",
       "      <th>999</th>\n",
       "      <td>False</td>\n",
       "      <td>False</td>\n",
       "      <td>False</td>\n",
       "      <td>False</td>\n",
       "      <td>False</td>\n",
       "      <td>...</td>\n",
       "      <td>False</td>\n",
       "      <td>False</td>\n",
       "      <td>True</td>\n",
       "      <td>True</td>\n",
       "      <td>False</td>\n",
       "    </tr>\n",
       "  </tbody>\n",
       "</table>\n",
       "<p>1000 rows × 12 columns</p>\n",
       "</div>"
      ],
      "text/plain": [
       "        ID Address Latitude Longitude IsAStudio     ...       Size SizeUnit  \\\n",
       "0    False   False    False     False     False     ...      False    False   \n",
       "1    False   False    False     False     False     ...      False    False   \n",
       "2    False   False    False     False     False     ...      False    False   \n",
       "3    False   False    False     False     False     ...      False    False   \n",
       "4    False   False    False     False     False     ...      False    False   \n",
       "..     ...     ...      ...       ...       ...     ...        ...      ...   \n",
       "995  False   False    False     False     False     ...      False    False   \n",
       "996  False   False    False     False     False     ...      False    False   \n",
       "997  False   False    False     False     False     ...      False    False   \n",
       "998  False   False    False     False     False     ...      False    False   \n",
       "999  False   False    False     False     False     ...      False    False   \n",
       "\n",
       "    LotSize LotSizeUnit BuiltInYear  \n",
       "0      True        True       False  \n",
       "1      True        True       False  \n",
       "2      True        True       False  \n",
       "3     False       False       False  \n",
       "4      True        True       False  \n",
       "..      ...         ...         ...  \n",
       "995    True        True       False  \n",
       "996   False       False       False  \n",
       "997   False       False       False  \n",
       "998    True        True       False  \n",
       "999    True        True       False  \n",
       "\n",
       "[1000 rows x 12 columns]"
      ]
     },
     "execution_count": 12,
     "metadata": {},
     "output_type": "execute_result"
    }
   ],
   "source": [
    "df.isnull()"
   ]
  },
  {
   "cell_type": "markdown",
   "metadata": {},
   "source": [
    "In return, we get a new `DataFrame` with Boolean values.  `True` if the value is `NaN`, `False` otherwise."
   ]
  },
  {
   "cell_type": "markdown",
   "metadata": {},
   "source": [
    "We can also get the count per column:"
   ]
  },
  {
   "cell_type": "code",
   "execution_count": 13,
   "metadata": {
    "collapsed": false
   },
   "outputs": [
    {
     "data": {
      "text/plain": [
       "ID               0\n",
       "Address          0\n",
       "Latitude         0\n",
       "Longitude        0\n",
       "IsAStudio       14\n",
       "              ... \n",
       "Size            33\n",
       "SizeUnit        33\n",
       "LotSize        444\n",
       "LotSizeUnit    444\n",
       "BuiltInYear     25\n",
       "dtype: int64"
      ]
     },
     "execution_count": 13,
     "metadata": {},
     "output_type": "execute_result"
    }
   ],
   "source": [
    "df.isnull().sum()"
   ]
  },
  {
   "cell_type": "markdown",
   "metadata": {},
   "source": [
    "Summing again will return the number of cells in the `DataFrame` with missing values."
   ]
  },
  {
   "cell_type": "code",
   "execution_count": 14,
   "metadata": {
    "collapsed": false
   },
   "outputs": [
    {
     "data": {
      "text/plain": [
       "1215"
      ]
     },
     "execution_count": 14,
     "metadata": {},
     "output_type": "execute_result"
    }
   ],
   "source": [
    "df.isnull().sum().sum()"
   ]
  },
  {
   "cell_type": "markdown",
   "metadata": {},
   "source": [
    "Equivalently, we can also use the `.isnull()` function:"
   ]
  },
  {
   "cell_type": "code",
   "execution_count": 15,
   "metadata": {
    "collapsed": false
   },
   "outputs": [
    {
     "data": {
      "text/html": [
       "<div>\n",
       "<table border=\"1\" class=\"dataframe\">\n",
       "  <thead>\n",
       "    <tr style=\"text-align: right;\">\n",
       "      <th></th>\n",
       "      <th>ID</th>\n",
       "      <th>Address</th>\n",
       "      <th>Latitude</th>\n",
       "      <th>Longitude</th>\n",
       "      <th>IsAStudio</th>\n",
       "      <th>...</th>\n",
       "      <th>Size</th>\n",
       "      <th>SizeUnit</th>\n",
       "      <th>LotSize</th>\n",
       "      <th>LotSizeUnit</th>\n",
       "      <th>BuiltInYear</th>\n",
       "    </tr>\n",
       "  </thead>\n",
       "  <tbody>\n",
       "    <tr>\n",
       "      <th>0</th>\n",
       "      <td>False</td>\n",
       "      <td>False</td>\n",
       "      <td>False</td>\n",
       "      <td>False</td>\n",
       "      <td>False</td>\n",
       "      <td>...</td>\n",
       "      <td>False</td>\n",
       "      <td>False</td>\n",
       "      <td>True</td>\n",
       "      <td>True</td>\n",
       "      <td>False</td>\n",
       "    </tr>\n",
       "    <tr>\n",
       "      <th>1</th>\n",
       "      <td>False</td>\n",
       "      <td>False</td>\n",
       "      <td>False</td>\n",
       "      <td>False</td>\n",
       "      <td>False</td>\n",
       "      <td>...</td>\n",
       "      <td>False</td>\n",
       "      <td>False</td>\n",
       "      <td>True</td>\n",
       "      <td>True</td>\n",
       "      <td>False</td>\n",
       "    </tr>\n",
       "    <tr>\n",
       "      <th>2</th>\n",
       "      <td>False</td>\n",
       "      <td>False</td>\n",
       "      <td>False</td>\n",
       "      <td>False</td>\n",
       "      <td>False</td>\n",
       "      <td>...</td>\n",
       "      <td>False</td>\n",
       "      <td>False</td>\n",
       "      <td>True</td>\n",
       "      <td>True</td>\n",
       "      <td>False</td>\n",
       "    </tr>\n",
       "    <tr>\n",
       "      <th>3</th>\n",
       "      <td>False</td>\n",
       "      <td>False</td>\n",
       "      <td>False</td>\n",
       "      <td>False</td>\n",
       "      <td>False</td>\n",
       "      <td>...</td>\n",
       "      <td>False</td>\n",
       "      <td>False</td>\n",
       "      <td>False</td>\n",
       "      <td>False</td>\n",
       "      <td>False</td>\n",
       "    </tr>\n",
       "    <tr>\n",
       "      <th>4</th>\n",
       "      <td>False</td>\n",
       "      <td>False</td>\n",
       "      <td>False</td>\n",
       "      <td>False</td>\n",
       "      <td>False</td>\n",
       "      <td>...</td>\n",
       "      <td>False</td>\n",
       "      <td>False</td>\n",
       "      <td>True</td>\n",
       "      <td>True</td>\n",
       "      <td>False</td>\n",
       "    </tr>\n",
       "    <tr>\n",
       "      <th>...</th>\n",
       "      <td>...</td>\n",
       "      <td>...</td>\n",
       "      <td>...</td>\n",
       "      <td>...</td>\n",
       "      <td>...</td>\n",
       "      <td>...</td>\n",
       "      <td>...</td>\n",
       "      <td>...</td>\n",
       "      <td>...</td>\n",
       "      <td>...</td>\n",
       "      <td>...</td>\n",
       "    </tr>\n",
       "    <tr>\n",
       "      <th>995</th>\n",
       "      <td>False</td>\n",
       "      <td>False</td>\n",
       "      <td>False</td>\n",
       "      <td>False</td>\n",
       "      <td>False</td>\n",
       "      <td>...</td>\n",
       "      <td>False</td>\n",
       "      <td>False</td>\n",
       "      <td>True</td>\n",
       "      <td>True</td>\n",
       "      <td>False</td>\n",
       "    </tr>\n",
       "    <tr>\n",
       "      <th>996</th>\n",
       "      <td>False</td>\n",
       "      <td>False</td>\n",
       "      <td>False</td>\n",
       "      <td>False</td>\n",
       "      <td>False</td>\n",
       "      <td>...</td>\n",
       "      <td>False</td>\n",
       "      <td>False</td>\n",
       "      <td>False</td>\n",
       "      <td>False</td>\n",
       "      <td>False</td>\n",
       "    </tr>\n",
       "    <tr>\n",
       "      <th>997</th>\n",
       "      <td>False</td>\n",
       "      <td>False</td>\n",
       "      <td>False</td>\n",
       "      <td>False</td>\n",
       "      <td>False</td>\n",
       "      <td>...</td>\n",
       "      <td>False</td>\n",
       "      <td>False</td>\n",
       "      <td>False</td>\n",
       "      <td>False</td>\n",
       "      <td>False</td>\n",
       "    </tr>\n",
       "    <tr>\n",
       "      <th>998</th>\n",
       "      <td>False</td>\n",
       "      <td>False</td>\n",
       "      <td>False</td>\n",
       "      <td>False</td>\n",
       "      <td>False</td>\n",
       "      <td>...</td>\n",
       "      <td>False</td>\n",
       "      <td>False</td>\n",
       "      <td>True</td>\n",
       "      <td>True</td>\n",
       "      <td>False</td>\n",
       "    </tr>\n",
       "    <tr>\n",
       "      <th>999</th>\n",
       "      <td>False</td>\n",
       "      <td>False</td>\n",
       "      <td>False</td>\n",
       "      <td>False</td>\n",
       "      <td>False</td>\n",
       "      <td>...</td>\n",
       "      <td>False</td>\n",
       "      <td>False</td>\n",
       "      <td>True</td>\n",
       "      <td>True</td>\n",
       "      <td>False</td>\n",
       "    </tr>\n",
       "  </tbody>\n",
       "</table>\n",
       "<p>1000 rows × 12 columns</p>\n",
       "</div>"
      ],
      "text/plain": [
       "        ID Address Latitude Longitude IsAStudio     ...       Size SizeUnit  \\\n",
       "0    False   False    False     False     False     ...      False    False   \n",
       "1    False   False    False     False     False     ...      False    False   \n",
       "2    False   False    False     False     False     ...      False    False   \n",
       "3    False   False    False     False     False     ...      False    False   \n",
       "4    False   False    False     False     False     ...      False    False   \n",
       "..     ...     ...      ...       ...       ...     ...        ...      ...   \n",
       "995  False   False    False     False     False     ...      False    False   \n",
       "996  False   False    False     False     False     ...      False    False   \n",
       "997  False   False    False     False     False     ...      False    False   \n",
       "998  False   False    False     False     False     ...      False    False   \n",
       "999  False   False    False     False     False     ...      False    False   \n",
       "\n",
       "    LotSize LotSizeUnit BuiltInYear  \n",
       "0      True        True       False  \n",
       "1      True        True       False  \n",
       "2      True        True       False  \n",
       "3     False       False       False  \n",
       "4      True        True       False  \n",
       "..      ...         ...         ...  \n",
       "995    True        True       False  \n",
       "996   False       False       False  \n",
       "997   False       False       False  \n",
       "998    True        True       False  \n",
       "999    True        True       False  \n",
       "\n",
       "[1000 rows x 12 columns]"
      ]
     },
     "execution_count": 15,
     "metadata": {},
     "output_type": "execute_result"
    }
   ],
   "source": [
    "pd.isnull(df)"
   ]
  },
  {
   "cell_type": "markdown",
   "metadata": {},
   "source": [
    "We also also use `.notnull()`, its complement method:"
   ]
  },
  {
   "cell_type": "code",
   "execution_count": 16,
   "metadata": {
    "collapsed": false
   },
   "outputs": [
    {
     "data": {
      "text/html": [
       "<div>\n",
       "<table border=\"1\" class=\"dataframe\">\n",
       "  <thead>\n",
       "    <tr style=\"text-align: right;\">\n",
       "      <th></th>\n",
       "      <th>ID</th>\n",
       "      <th>Address</th>\n",
       "      <th>Latitude</th>\n",
       "      <th>Longitude</th>\n",
       "      <th>IsAStudio</th>\n",
       "      <th>...</th>\n",
       "      <th>Size</th>\n",
       "      <th>SizeUnit</th>\n",
       "      <th>LotSize</th>\n",
       "      <th>LotSizeUnit</th>\n",
       "      <th>BuiltInYear</th>\n",
       "    </tr>\n",
       "  </thead>\n",
       "  <tbody>\n",
       "    <tr>\n",
       "      <th>0</th>\n",
       "      <td>True</td>\n",
       "      <td>True</td>\n",
       "      <td>True</td>\n",
       "      <td>True</td>\n",
       "      <td>True</td>\n",
       "      <td>...</td>\n",
       "      <td>True</td>\n",
       "      <td>True</td>\n",
       "      <td>False</td>\n",
       "      <td>False</td>\n",
       "      <td>True</td>\n",
       "    </tr>\n",
       "    <tr>\n",
       "      <th>1</th>\n",
       "      <td>True</td>\n",
       "      <td>True</td>\n",
       "      <td>True</td>\n",
       "      <td>True</td>\n",
       "      <td>True</td>\n",
       "      <td>...</td>\n",
       "      <td>True</td>\n",
       "      <td>True</td>\n",
       "      <td>False</td>\n",
       "      <td>False</td>\n",
       "      <td>True</td>\n",
       "    </tr>\n",
       "    <tr>\n",
       "      <th>2</th>\n",
       "      <td>True</td>\n",
       "      <td>True</td>\n",
       "      <td>True</td>\n",
       "      <td>True</td>\n",
       "      <td>True</td>\n",
       "      <td>...</td>\n",
       "      <td>True</td>\n",
       "      <td>True</td>\n",
       "      <td>False</td>\n",
       "      <td>False</td>\n",
       "      <td>True</td>\n",
       "    </tr>\n",
       "    <tr>\n",
       "      <th>3</th>\n",
       "      <td>True</td>\n",
       "      <td>True</td>\n",
       "      <td>True</td>\n",
       "      <td>True</td>\n",
       "      <td>True</td>\n",
       "      <td>...</td>\n",
       "      <td>True</td>\n",
       "      <td>True</td>\n",
       "      <td>True</td>\n",
       "      <td>True</td>\n",
       "      <td>True</td>\n",
       "    </tr>\n",
       "    <tr>\n",
       "      <th>4</th>\n",
       "      <td>True</td>\n",
       "      <td>True</td>\n",
       "      <td>True</td>\n",
       "      <td>True</td>\n",
       "      <td>True</td>\n",
       "      <td>...</td>\n",
       "      <td>True</td>\n",
       "      <td>True</td>\n",
       "      <td>False</td>\n",
       "      <td>False</td>\n",
       "      <td>True</td>\n",
       "    </tr>\n",
       "    <tr>\n",
       "      <th>...</th>\n",
       "      <td>...</td>\n",
       "      <td>...</td>\n",
       "      <td>...</td>\n",
       "      <td>...</td>\n",
       "      <td>...</td>\n",
       "      <td>...</td>\n",
       "      <td>...</td>\n",
       "      <td>...</td>\n",
       "      <td>...</td>\n",
       "      <td>...</td>\n",
       "      <td>...</td>\n",
       "    </tr>\n",
       "    <tr>\n",
       "      <th>995</th>\n",
       "      <td>True</td>\n",
       "      <td>True</td>\n",
       "      <td>True</td>\n",
       "      <td>True</td>\n",
       "      <td>True</td>\n",
       "      <td>...</td>\n",
       "      <td>True</td>\n",
       "      <td>True</td>\n",
       "      <td>False</td>\n",
       "      <td>False</td>\n",
       "      <td>True</td>\n",
       "    </tr>\n",
       "    <tr>\n",
       "      <th>996</th>\n",
       "      <td>True</td>\n",
       "      <td>True</td>\n",
       "      <td>True</td>\n",
       "      <td>True</td>\n",
       "      <td>True</td>\n",
       "      <td>...</td>\n",
       "      <td>True</td>\n",
       "      <td>True</td>\n",
       "      <td>True</td>\n",
       "      <td>True</td>\n",
       "      <td>True</td>\n",
       "    </tr>\n",
       "    <tr>\n",
       "      <th>997</th>\n",
       "      <td>True</td>\n",
       "      <td>True</td>\n",
       "      <td>True</td>\n",
       "      <td>True</td>\n",
       "      <td>True</td>\n",
       "      <td>...</td>\n",
       "      <td>True</td>\n",
       "      <td>True</td>\n",
       "      <td>True</td>\n",
       "      <td>True</td>\n",
       "      <td>True</td>\n",
       "    </tr>\n",
       "    <tr>\n",
       "      <th>998</th>\n",
       "      <td>True</td>\n",
       "      <td>True</td>\n",
       "      <td>True</td>\n",
       "      <td>True</td>\n",
       "      <td>True</td>\n",
       "      <td>...</td>\n",
       "      <td>True</td>\n",
       "      <td>True</td>\n",
       "      <td>False</td>\n",
       "      <td>False</td>\n",
       "      <td>True</td>\n",
       "    </tr>\n",
       "    <tr>\n",
       "      <th>999</th>\n",
       "      <td>True</td>\n",
       "      <td>True</td>\n",
       "      <td>True</td>\n",
       "      <td>True</td>\n",
       "      <td>True</td>\n",
       "      <td>...</td>\n",
       "      <td>True</td>\n",
       "      <td>True</td>\n",
       "      <td>False</td>\n",
       "      <td>False</td>\n",
       "      <td>True</td>\n",
       "    </tr>\n",
       "  </tbody>\n",
       "</table>\n",
       "<p>1000 rows × 12 columns</p>\n",
       "</div>"
      ],
      "text/plain": [
       "       ID Address Latitude Longitude IsAStudio     ...      Size SizeUnit  \\\n",
       "0    True    True     True      True      True     ...      True     True   \n",
       "1    True    True     True      True      True     ...      True     True   \n",
       "2    True    True     True      True      True     ...      True     True   \n",
       "3    True    True     True      True      True     ...      True     True   \n",
       "4    True    True     True      True      True     ...      True     True   \n",
       "..    ...     ...      ...       ...       ...     ...       ...      ...   \n",
       "995  True    True     True      True      True     ...      True     True   \n",
       "996  True    True     True      True      True     ...      True     True   \n",
       "997  True    True     True      True      True     ...      True     True   \n",
       "998  True    True     True      True      True     ...      True     True   \n",
       "999  True    True     True      True      True     ...      True     True   \n",
       "\n",
       "    LotSize LotSizeUnit BuiltInYear  \n",
       "0     False       False        True  \n",
       "1     False       False        True  \n",
       "2     False       False        True  \n",
       "3      True        True        True  \n",
       "4     False       False        True  \n",
       "..      ...         ...         ...  \n",
       "995   False       False        True  \n",
       "996    True        True        True  \n",
       "997    True        True        True  \n",
       "998   False       False        True  \n",
       "999   False       False        True  \n",
       "\n",
       "[1000 rows x 12 columns]"
      ]
     },
     "execution_count": 16,
     "metadata": {},
     "output_type": "execute_result"
    }
   ],
   "source": [
    "df.notnull()"
   ]
  },
  {
   "cell_type": "code",
   "execution_count": 17,
   "metadata": {
    "collapsed": false
   },
   "outputs": [
    {
     "data": {
      "text/html": [
       "<div>\n",
       "<table border=\"1\" class=\"dataframe\">\n",
       "  <thead>\n",
       "    <tr style=\"text-align: right;\">\n",
       "      <th></th>\n",
       "      <th>ID</th>\n",
       "      <th>Address</th>\n",
       "      <th>Latitude</th>\n",
       "      <th>Longitude</th>\n",
       "      <th>IsAStudio</th>\n",
       "      <th>...</th>\n",
       "      <th>Size</th>\n",
       "      <th>SizeUnit</th>\n",
       "      <th>LotSize</th>\n",
       "      <th>LotSizeUnit</th>\n",
       "      <th>BuiltInYear</th>\n",
       "    </tr>\n",
       "  </thead>\n",
       "  <tbody>\n",
       "    <tr>\n",
       "      <th>0</th>\n",
       "      <td>True</td>\n",
       "      <td>True</td>\n",
       "      <td>True</td>\n",
       "      <td>True</td>\n",
       "      <td>True</td>\n",
       "      <td>...</td>\n",
       "      <td>True</td>\n",
       "      <td>True</td>\n",
       "      <td>False</td>\n",
       "      <td>False</td>\n",
       "      <td>True</td>\n",
       "    </tr>\n",
       "    <tr>\n",
       "      <th>1</th>\n",
       "      <td>True</td>\n",
       "      <td>True</td>\n",
       "      <td>True</td>\n",
       "      <td>True</td>\n",
       "      <td>True</td>\n",
       "      <td>...</td>\n",
       "      <td>True</td>\n",
       "      <td>True</td>\n",
       "      <td>False</td>\n",
       "      <td>False</td>\n",
       "      <td>True</td>\n",
       "    </tr>\n",
       "    <tr>\n",
       "      <th>2</th>\n",
       "      <td>True</td>\n",
       "      <td>True</td>\n",
       "      <td>True</td>\n",
       "      <td>True</td>\n",
       "      <td>True</td>\n",
       "      <td>...</td>\n",
       "      <td>True</td>\n",
       "      <td>True</td>\n",
       "      <td>False</td>\n",
       "      <td>False</td>\n",
       "      <td>True</td>\n",
       "    </tr>\n",
       "    <tr>\n",
       "      <th>3</th>\n",
       "      <td>True</td>\n",
       "      <td>True</td>\n",
       "      <td>True</td>\n",
       "      <td>True</td>\n",
       "      <td>True</td>\n",
       "      <td>...</td>\n",
       "      <td>True</td>\n",
       "      <td>True</td>\n",
       "      <td>True</td>\n",
       "      <td>True</td>\n",
       "      <td>True</td>\n",
       "    </tr>\n",
       "    <tr>\n",
       "      <th>4</th>\n",
       "      <td>True</td>\n",
       "      <td>True</td>\n",
       "      <td>True</td>\n",
       "      <td>True</td>\n",
       "      <td>True</td>\n",
       "      <td>...</td>\n",
       "      <td>True</td>\n",
       "      <td>True</td>\n",
       "      <td>False</td>\n",
       "      <td>False</td>\n",
       "      <td>True</td>\n",
       "    </tr>\n",
       "    <tr>\n",
       "      <th>...</th>\n",
       "      <td>...</td>\n",
       "      <td>...</td>\n",
       "      <td>...</td>\n",
       "      <td>...</td>\n",
       "      <td>...</td>\n",
       "      <td>...</td>\n",
       "      <td>...</td>\n",
       "      <td>...</td>\n",
       "      <td>...</td>\n",
       "      <td>...</td>\n",
       "      <td>...</td>\n",
       "    </tr>\n",
       "    <tr>\n",
       "      <th>995</th>\n",
       "      <td>True</td>\n",
       "      <td>True</td>\n",
       "      <td>True</td>\n",
       "      <td>True</td>\n",
       "      <td>True</td>\n",
       "      <td>...</td>\n",
       "      <td>True</td>\n",
       "      <td>True</td>\n",
       "      <td>False</td>\n",
       "      <td>False</td>\n",
       "      <td>True</td>\n",
       "    </tr>\n",
       "    <tr>\n",
       "      <th>996</th>\n",
       "      <td>True</td>\n",
       "      <td>True</td>\n",
       "      <td>True</td>\n",
       "      <td>True</td>\n",
       "      <td>True</td>\n",
       "      <td>...</td>\n",
       "      <td>True</td>\n",
       "      <td>True</td>\n",
       "      <td>True</td>\n",
       "      <td>True</td>\n",
       "      <td>True</td>\n",
       "    </tr>\n",
       "    <tr>\n",
       "      <th>997</th>\n",
       "      <td>True</td>\n",
       "      <td>True</td>\n",
       "      <td>True</td>\n",
       "      <td>True</td>\n",
       "      <td>True</td>\n",
       "      <td>...</td>\n",
       "      <td>True</td>\n",
       "      <td>True</td>\n",
       "      <td>True</td>\n",
       "      <td>True</td>\n",
       "      <td>True</td>\n",
       "    </tr>\n",
       "    <tr>\n",
       "      <th>998</th>\n",
       "      <td>True</td>\n",
       "      <td>True</td>\n",
       "      <td>True</td>\n",
       "      <td>True</td>\n",
       "      <td>True</td>\n",
       "      <td>...</td>\n",
       "      <td>True</td>\n",
       "      <td>True</td>\n",
       "      <td>False</td>\n",
       "      <td>False</td>\n",
       "      <td>True</td>\n",
       "    </tr>\n",
       "    <tr>\n",
       "      <th>999</th>\n",
       "      <td>True</td>\n",
       "      <td>True</td>\n",
       "      <td>True</td>\n",
       "      <td>True</td>\n",
       "      <td>True</td>\n",
       "      <td>...</td>\n",
       "      <td>True</td>\n",
       "      <td>True</td>\n",
       "      <td>False</td>\n",
       "      <td>False</td>\n",
       "      <td>True</td>\n",
       "    </tr>\n",
       "  </tbody>\n",
       "</table>\n",
       "<p>1000 rows × 12 columns</p>\n",
       "</div>"
      ],
      "text/plain": [
       "       ID Address Latitude Longitude IsAStudio     ...      Size SizeUnit  \\\n",
       "0    True    True     True      True      True     ...      True     True   \n",
       "1    True    True     True      True      True     ...      True     True   \n",
       "2    True    True     True      True      True     ...      True     True   \n",
       "3    True    True     True      True      True     ...      True     True   \n",
       "4    True    True     True      True      True     ...      True     True   \n",
       "..    ...     ...      ...       ...       ...     ...       ...      ...   \n",
       "995  True    True     True      True      True     ...      True     True   \n",
       "996  True    True     True      True      True     ...      True     True   \n",
       "997  True    True     True      True      True     ...      True     True   \n",
       "998  True    True     True      True      True     ...      True     True   \n",
       "999  True    True     True      True      True     ...      True     True   \n",
       "\n",
       "    LotSize LotSizeUnit BuiltInYear  \n",
       "0     False       False        True  \n",
       "1     False       False        True  \n",
       "2     False       False        True  \n",
       "3      True        True        True  \n",
       "4     False       False        True  \n",
       "..      ...         ...         ...  \n",
       "995   False       False        True  \n",
       "996    True        True        True  \n",
       "997    True        True        True  \n",
       "998   False       False        True  \n",
       "999   False       False        True  \n",
       "\n",
       "[1000 rows x 12 columns]"
      ]
     },
     "execution_count": 17,
     "metadata": {},
     "output_type": "execute_result"
    }
   ],
   "source": [
    "pd.notnull(df)"
   ]
  },
  {
   "cell_type": "markdown",
   "metadata": {},
   "source": [
    "> ### `.index` and `.columns`: row and column labels"
   ]
  },
  {
   "cell_type": "markdown",
   "metadata": {},
   "source": [
    "(http://pandas.pydata.org/pandas-docs/stable/generated/pandas.Index.html)"
   ]
  },
  {
   "cell_type": "markdown",
   "metadata": {},
   "source": [
    "Use the `.index` property to get the label for rows.  For columns, use the `.columns` property."
   ]
  },
  {
   "cell_type": "code",
   "execution_count": 18,
   "metadata": {
    "collapsed": false
   },
   "outputs": [
    {
     "data": {
      "text/plain": [
       "RangeIndex(start=0, stop=1000, step=1)"
      ]
     },
     "execution_count": 18,
     "metadata": {},
     "output_type": "execute_result"
    }
   ],
   "source": [
    "df.index"
   ]
  },
  {
   "cell_type": "code",
   "execution_count": 19,
   "metadata": {
    "collapsed": false
   },
   "outputs": [
    {
     "data": {
      "text/plain": [
       "pandas.indexes.range.RangeIndex"
      ]
     },
     "execution_count": 19,
     "metadata": {},
     "output_type": "execute_result"
    }
   ],
   "source": [
    "type(df.index)"
   ]
  },
  {
   "cell_type": "markdown",
   "metadata": {},
   "source": [
    "In this specific case, rows are just numbered from 0 to 1,000.  Note that, similarly to Python's standard `range` function, this range also excludes the last number."
   ]
  },
  {
   "cell_type": "code",
   "execution_count": 20,
   "metadata": {
    "collapsed": false
   },
   "outputs": [
    {
     "data": {
      "text/plain": [
       "Index([u'ID', u'Address', u'Latitude', u'Longitude', u'IsAStudio', u'Beds',\n",
       "       u'Baths', u'Size', u'SizeUnit', u'LotSize', u'LotSizeUnit',\n",
       "       u'BuiltInYear'],\n",
       "      dtype='object')"
      ]
     },
     "execution_count": 20,
     "metadata": {},
     "output_type": "execute_result"
    }
   ],
   "source": [
    "df.columns"
   ]
  },
  {
   "cell_type": "code",
   "execution_count": 21,
   "metadata": {
    "collapsed": false
   },
   "outputs": [
    {
     "data": {
      "text/plain": [
       "pandas.indexes.base.Index"
      ]
     },
     "execution_count": 21,
     "metadata": {},
     "output_type": "execute_result"
    }
   ],
   "source": [
    "type(df.columns)"
   ]
  },
  {
   "cell_type": "markdown",
   "metadata": {},
   "source": [
    "> ## `[ [] ]` and `[]`: subsetting on columns"
   ]
  },
  {
   "cell_type": "markdown",
   "metadata": {},
   "source": [
    "Selecting specific columns is performed by using the `[]` operator.\n",
    "\n",
    "If the values passed to `[]` are non-integers, the `DataFrame` will attempt to match them to those in the `columns` property."
   ]
  },
  {
   "cell_type": "markdown",
   "metadata": {},
   "source": [
    "> Let's subset the `DataFrame` on columns `Size` and `SizeUnit`:"
   ]
  },
  {
   "cell_type": "code",
   "execution_count": 22,
   "metadata": {
    "collapsed": false
   },
   "outputs": [
    {
     "data": {
      "text/html": [
       "<div>\n",
       "<table border=\"1\" class=\"dataframe\">\n",
       "  <thead>\n",
       "    <tr style=\"text-align: right;\">\n",
       "      <th></th>\n",
       "      <th>Size</th>\n",
       "      <th>SizeUnit</th>\n",
       "    </tr>\n",
       "  </thead>\n",
       "  <tbody>\n",
       "    <tr>\n",
       "      <th>0</th>\n",
       "      <td>557.0</td>\n",
       "      <td>sqft</td>\n",
       "    </tr>\n",
       "    <tr>\n",
       "      <th>1</th>\n",
       "      <td>1050.0</td>\n",
       "      <td>sqft</td>\n",
       "    </tr>\n",
       "    <tr>\n",
       "      <th>2</th>\n",
       "      <td>937.0</td>\n",
       "      <td>sqft</td>\n",
       "    </tr>\n",
       "    <tr>\n",
       "      <th>3</th>\n",
       "      <td>1574.0</td>\n",
       "      <td>sqft</td>\n",
       "    </tr>\n",
       "    <tr>\n",
       "      <th>4</th>\n",
       "      <td>1205.0</td>\n",
       "      <td>sqft</td>\n",
       "    </tr>\n",
       "    <tr>\n",
       "      <th>...</th>\n",
       "      <td>...</td>\n",
       "      <td>...</td>\n",
       "    </tr>\n",
       "    <tr>\n",
       "      <th>995</th>\n",
       "      <td>853.0</td>\n",
       "      <td>sqft</td>\n",
       "    </tr>\n",
       "    <tr>\n",
       "      <th>996</th>\n",
       "      <td>1886.0</td>\n",
       "      <td>sqft</td>\n",
       "    </tr>\n",
       "    <tr>\n",
       "      <th>997</th>\n",
       "      <td>1300.0</td>\n",
       "      <td>sqft</td>\n",
       "    </tr>\n",
       "    <tr>\n",
       "      <th>998</th>\n",
       "      <td>2678.0</td>\n",
       "      <td>sqft</td>\n",
       "    </tr>\n",
       "    <tr>\n",
       "      <th>999</th>\n",
       "      <td>886.0</td>\n",
       "      <td>sqft</td>\n",
       "    </tr>\n",
       "  </tbody>\n",
       "</table>\n",
       "<p>1000 rows × 2 columns</p>\n",
       "</div>"
      ],
      "text/plain": [
       "       Size SizeUnit\n",
       "0     557.0     sqft\n",
       "1    1050.0     sqft\n",
       "2     937.0     sqft\n",
       "3    1574.0     sqft\n",
       "4    1205.0     sqft\n",
       "..      ...      ...\n",
       "995   853.0     sqft\n",
       "996  1886.0     sqft\n",
       "997  1300.0     sqft\n",
       "998  2678.0     sqft\n",
       "999   886.0     sqft\n",
       "\n",
       "[1000 rows x 2 columns]"
      ]
     },
     "execution_count": 22,
     "metadata": {},
     "output_type": "execute_result"
    }
   ],
   "source": [
    "df[ ['Size', 'SizeUnit'] ]"
   ]
  },
  {
   "cell_type": "markdown",
   "metadata": {},
   "source": [
    "> How about just on `Address`?"
   ]
  },
  {
   "cell_type": "code",
   "execution_count": 23,
   "metadata": {
    "collapsed": false
   },
   "outputs": [
    {
     "data": {
      "text/html": [
       "<div>\n",
       "<table border=\"1\" class=\"dataframe\">\n",
       "  <thead>\n",
       "    <tr style=\"text-align: right;\">\n",
       "      <th></th>\n",
       "      <th>Address</th>\n",
       "    </tr>\n",
       "  </thead>\n",
       "  <tbody>\n",
       "    <tr>\n",
       "      <th>0</th>\n",
       "      <td>829 Folsom St UNIT 906, San Francisco, CA</td>\n",
       "    </tr>\n",
       "    <tr>\n",
       "      <th>1</th>\n",
       "      <td>690 Market St UNIT 1705, San Francisco, CA</td>\n",
       "    </tr>\n",
       "    <tr>\n",
       "      <th>2</th>\n",
       "      <td>401 Grand View Ave APT 3, San Francisco, CA</td>\n",
       "    </tr>\n",
       "    <tr>\n",
       "      <th>3</th>\n",
       "      <td>250 Concord St, San Francisco, CA</td>\n",
       "    </tr>\n",
       "    <tr>\n",
       "      <th>4</th>\n",
       "      <td>88 King St APT 317, San Francisco, CA</td>\n",
       "    </tr>\n",
       "    <tr>\n",
       "      <th>...</th>\n",
       "      <td>...</td>\n",
       "    </tr>\n",
       "    <tr>\n",
       "      <th>995</th>\n",
       "      <td>310 Townsend St APT 311, San Francisco, CA</td>\n",
       "    </tr>\n",
       "    <tr>\n",
       "      <th>996</th>\n",
       "      <td>1343 31st Ave, San Francisco, CA</td>\n",
       "    </tr>\n",
       "    <tr>\n",
       "      <th>997</th>\n",
       "      <td>3916 Alemany Blvd, San Francisco, CA</td>\n",
       "    </tr>\n",
       "    <tr>\n",
       "      <th>998</th>\n",
       "      <td>430 Fair Oaks St, San Francisco, CA</td>\n",
       "    </tr>\n",
       "    <tr>\n",
       "      <th>999</th>\n",
       "      <td>720 Stockton St APT 3, San Francisco, CA</td>\n",
       "    </tr>\n",
       "  </tbody>\n",
       "</table>\n",
       "<p>1000 rows × 1 columns</p>\n",
       "</div>"
      ],
      "text/plain": [
       "                                         Address\n",
       "0      829 Folsom St UNIT 906, San Francisco, CA\n",
       "1     690 Market St UNIT 1705, San Francisco, CA\n",
       "2    401 Grand View Ave APT 3, San Francisco, CA\n",
       "3              250 Concord St, San Francisco, CA\n",
       "4          88 King St APT 317, San Francisco, CA\n",
       "..                                           ...\n",
       "995   310 Townsend St APT 311, San Francisco, CA\n",
       "996             1343 31st Ave, San Francisco, CA\n",
       "997         3916 Alemany Blvd, San Francisco, CA\n",
       "998          430 Fair Oaks St, San Francisco, CA\n",
       "999     720 Stockton St APT 3, San Francisco, CA\n",
       "\n",
       "[1000 rows x 1 columns]"
      ]
     },
     "execution_count": 23,
     "metadata": {},
     "output_type": "execute_result"
    }
   ],
   "source": [
    "df[ ['Address'] ]"
   ]
  },
  {
   "cell_type": "markdown",
   "metadata": {},
   "source": [
    "> ## `Series`"
   ]
  },
  {
   "cell_type": "markdown",
   "metadata": {},
   "source": [
    "(http://pandas.pydata.org/pandas-docs/stable/dsintro.html)"
   ]
  },
  {
   "cell_type": "markdown",
   "metadata": {},
   "source": [
    "Not passing a list will result in a `Series`:"
   ]
  },
  {
   "cell_type": "code",
   "execution_count": 24,
   "metadata": {
    "collapsed": false
   },
   "outputs": [
    {
     "data": {
      "text/plain": [
       "0        829 Folsom St UNIT 906, San Francisco, CA\n",
       "1       690 Market St UNIT 1705, San Francisco, CA\n",
       "2      401 Grand View Ave APT 3, San Francisco, CA\n",
       "3                250 Concord St, San Francisco, CA\n",
       "4            88 King St APT 317, San Francisco, CA\n",
       "                          ...                     \n",
       "995     310 Townsend St APT 311, San Francisco, CA\n",
       "996               1343 31st Ave, San Francisco, CA\n",
       "997           3916 Alemany Blvd, San Francisco, CA\n",
       "998            430 Fair Oaks St, San Francisco, CA\n",
       "999       720 Stockton St APT 3, San Francisco, CA\n",
       "Name: Address, dtype: object"
      ]
     },
     "execution_count": 24,
     "metadata": {},
     "output_type": "execute_result"
    }
   ],
   "source": [
    "df['Address']"
   ]
  },
  {
   "cell_type": "markdown",
   "metadata": {},
   "source": [
    "> Let's check the result type:"
   ]
  },
  {
   "cell_type": "code",
   "execution_count": 25,
   "metadata": {
    "collapsed": false
   },
   "outputs": [
    {
     "data": {
      "text/plain": [
       "pandas.core.series.Series"
      ]
     },
     "execution_count": 25,
     "metadata": {},
     "output_type": "execute_result"
    }
   ],
   "source": [
    "type(df['Address'])"
   ]
  },
  {
   "cell_type": "markdown",
   "metadata": {},
   "source": [
    "Columns can also be retrieved using \"attribute\" access as `DataFrame`s add a property for each column with the names of the properties as the names of the columns.  This won't work however for columns that have spaces or dots in their name."
   ]
  },
  {
   "cell_type": "markdown",
   "metadata": {},
   "source": [
    "> Let's check the value of `df`'s `.Address` property:"
   ]
  },
  {
   "cell_type": "code",
   "execution_count": 26,
   "metadata": {
    "collapsed": false
   },
   "outputs": [
    {
     "data": {
      "text/plain": [
       "0        829 Folsom St UNIT 906, San Francisco, CA\n",
       "1       690 Market St UNIT 1705, San Francisco, CA\n",
       "2      401 Grand View Ave APT 3, San Francisco, CA\n",
       "3                250 Concord St, San Francisco, CA\n",
       "4            88 King St APT 317, San Francisco, CA\n",
       "                          ...                     \n",
       "995     310 Townsend St APT 311, San Francisco, CA\n",
       "996               1343 31st Ave, San Francisco, CA\n",
       "997           3916 Alemany Blvd, San Francisco, CA\n",
       "998            430 Fair Oaks St, San Francisco, CA\n",
       "999       720 Stockton St APT 3, San Francisco, CA\n",
       "Name: Address, dtype: object"
      ]
     },
     "execution_count": 26,
     "metadata": {},
     "output_type": "execute_result"
    }
   ],
   "source": [
    "df.Address"
   ]
  },
  {
   "cell_type": "markdown",
   "metadata": {},
   "source": [
    "> Use the `.name` property (not `.columns`, that's for a `DataFrame`) to get the name of the variable stored inside it."
   ]
  },
  {
   "cell_type": "markdown",
   "metadata": {},
   "source": [
    "(http://pandas.pydata.org/pandas-docs/stable/generated/pandas.Series.name.html)"
   ]
  },
  {
   "cell_type": "code",
   "execution_count": 27,
   "metadata": {
    "collapsed": false
   },
   "outputs": [
    {
     "data": {
      "text/plain": [
       "'Address'"
      ]
     },
     "execution_count": 27,
     "metadata": {},
     "output_type": "execute_result"
    }
   ],
   "source": [
    "df.Address.name"
   ]
  },
  {
   "cell_type": "markdown",
   "metadata": {},
   "source": [
    "> ## `[]`: slicing on rows"
   ]
  },
  {
   "cell_type": "markdown",
   "metadata": {},
   "source": [
    "> E.g., on the first five rows:"
   ]
  },
  {
   "cell_type": "code",
   "execution_count": 28,
   "metadata": {
    "collapsed": false
   },
   "outputs": [
    {
     "data": {
      "text/html": [
       "<div>\n",
       "<table border=\"1\" class=\"dataframe\">\n",
       "  <thead>\n",
       "    <tr style=\"text-align: right;\">\n",
       "      <th></th>\n",
       "      <th>ID</th>\n",
       "      <th>Address</th>\n",
       "      <th>Latitude</th>\n",
       "      <th>Longitude</th>\n",
       "      <th>IsAStudio</th>\n",
       "      <th>...</th>\n",
       "      <th>Size</th>\n",
       "      <th>SizeUnit</th>\n",
       "      <th>LotSize</th>\n",
       "      <th>LotSizeUnit</th>\n",
       "      <th>BuiltInYear</th>\n",
       "    </tr>\n",
       "  </thead>\n",
       "  <tbody>\n",
       "    <tr>\n",
       "      <th>0</th>\n",
       "      <td>2121978635</td>\n",
       "      <td>829 Folsom St UNIT 906, San Francisco, CA</td>\n",
       "      <td>37781429</td>\n",
       "      <td>-122401860</td>\n",
       "      <td>False</td>\n",
       "      <td>...</td>\n",
       "      <td>557.0</td>\n",
       "      <td>sqft</td>\n",
       "      <td>NaN</td>\n",
       "      <td>NaN</td>\n",
       "      <td>2010.0</td>\n",
       "    </tr>\n",
       "    <tr>\n",
       "      <th>1</th>\n",
       "      <td>89239580</td>\n",
       "      <td>690 Market St UNIT 1705, San Francisco, CA</td>\n",
       "      <td>37788246</td>\n",
       "      <td>-122403198</td>\n",
       "      <td>False</td>\n",
       "      <td>...</td>\n",
       "      <td>1050.0</td>\n",
       "      <td>sqft</td>\n",
       "      <td>NaN</td>\n",
       "      <td>NaN</td>\n",
       "      <td>2007.0</td>\n",
       "    </tr>\n",
       "    <tr>\n",
       "      <th>2</th>\n",
       "      <td>15131782</td>\n",
       "      <td>401 Grand View Ave APT 3, San Francisco, CA</td>\n",
       "      <td>37752157</td>\n",
       "      <td>-122442356</td>\n",
       "      <td>False</td>\n",
       "      <td>...</td>\n",
       "      <td>937.0</td>\n",
       "      <td>sqft</td>\n",
       "      <td>NaN</td>\n",
       "      <td>NaN</td>\n",
       "      <td>1983.0</td>\n",
       "    </tr>\n",
       "    <tr>\n",
       "      <th>3</th>\n",
       "      <td>15179502</td>\n",
       "      <td>250 Concord St, San Francisco, CA</td>\n",
       "      <td>37710141</td>\n",
       "      <td>-122442063</td>\n",
       "      <td>False</td>\n",
       "      <td>...</td>\n",
       "      <td>1574.0</td>\n",
       "      <td>sqft</td>\n",
       "      <td>1947.0</td>\n",
       "      <td>sqft</td>\n",
       "      <td>1959.0</td>\n",
       "    </tr>\n",
       "    <tr>\n",
       "      <th>4</th>\n",
       "      <td>52266124</td>\n",
       "      <td>88 King St APT 317, San Francisco, CA</td>\n",
       "      <td>37780630</td>\n",
       "      <td>-122389635</td>\n",
       "      <td>False</td>\n",
       "      <td>...</td>\n",
       "      <td>1205.0</td>\n",
       "      <td>sqft</td>\n",
       "      <td>NaN</td>\n",
       "      <td>NaN</td>\n",
       "      <td>2000.0</td>\n",
       "    </tr>\n",
       "  </tbody>\n",
       "</table>\n",
       "<p>5 rows × 12 columns</p>\n",
       "</div>"
      ],
      "text/plain": [
       "           ID                                      Address  Latitude  \\\n",
       "0  2121978635    829 Folsom St UNIT 906, San Francisco, CA  37781429   \n",
       "1    89239580   690 Market St UNIT 1705, San Francisco, CA  37788246   \n",
       "2    15131782  401 Grand View Ave APT 3, San Francisco, CA  37752157   \n",
       "3    15179502            250 Concord St, San Francisco, CA  37710141   \n",
       "4    52266124        88 King St APT 317, San Francisco, CA  37780630   \n",
       "\n",
       "   Longitude IsAStudio     ...         Size  SizeUnit  LotSize LotSizeUnit  \\\n",
       "0 -122401860     False     ...        557.0      sqft      NaN         NaN   \n",
       "1 -122403198     False     ...       1050.0      sqft      NaN         NaN   \n",
       "2 -122442356     False     ...        937.0      sqft      NaN         NaN   \n",
       "3 -122442063     False     ...       1574.0      sqft   1947.0        sqft   \n",
       "4 -122389635     False     ...       1205.0      sqft      NaN         NaN   \n",
       "\n",
       "   BuiltInYear  \n",
       "0       2010.0  \n",
       "1       2007.0  \n",
       "2       1983.0  \n",
       "3       1959.0  \n",
       "4       2000.0  \n",
       "\n",
       "[5 rows x 12 columns]"
      ]
     },
     "execution_count": 28,
     "metadata": {},
     "output_type": "execute_result"
    }
   ],
   "source": [
    "df[:5]"
   ]
  },
  {
   "cell_type": "markdown",
   "metadata": {},
   "source": [
    "> ## `.loc[]` and `.iloc[]`: subsetting rows by index label and location"
   ]
  },
  {
   "cell_type": "markdown",
   "metadata": {},
   "source": [
    "- (http://pandas.pydata.org/pandas-docs/stable/generated/pandas.DataFrame.loc.html)\n",
    "- (http://pandas.pydata.org/pandas-docs/stable/generated/pandas.Series.loc.html)"
   ]
  },
  {
   "cell_type": "markdown",
   "metadata": {},
   "source": [
    "- (http://pandas.pydata.org/pandas-docs/stable/generated/pandas.DataFrame.iloc.html)\n",
    "- (http://pandas.pydata.org/pandas-docs/stable/generated/pandas.Series.iloc.html)"
   ]
  },
  {
   "cell_type": "markdown",
   "metadata": {},
   "source": [
    "- (http://pandas.pydata.org/pandas-docs/stable/generated/pandas.DataFrame.set_index.html)\n",
    "- (http://pandas.pydata.org/pandas-docs/stable/generated/pandas.Series.set_index.html)"
   ]
  },
  {
   "cell_type": "markdown",
   "metadata": {},
   "source": [
    "- (http://pandas.pydata.org/pandas-docs/stable/generated/pandas.DataFrame.reset_index.html)\n",
    "- (http://pandas.pydata.org/pandas-docs/stable/generated/pandas.Series.reset_index.html)"
   ]
  },
  {
   "cell_type": "markdown",
   "metadata": {},
   "source": [
    "Until now, the index of the `DataFrame` is a numerical starting from 0 but you can specify which column(s) should be in the index."
   ]
  },
  {
   "cell_type": "markdown",
   "metadata": {},
   "source": [
    "> E.g., `ID`:"
   ]
  },
  {
   "cell_type": "code",
   "execution_count": 29,
   "metadata": {
    "collapsed": true
   },
   "outputs": [],
   "source": [
    "df = df.set_index('ID')"
   ]
  },
  {
   "cell_type": "code",
   "execution_count": 30,
   "metadata": {
    "collapsed": false
   },
   "outputs": [
    {
     "data": {
      "text/plain": [
       "Int64Index([2121978635,   89239580,   15131782,   15179502,   52266124,\n",
       "            2100994004,   15067755,   15112556,   15133321,   61288341,\n",
       "            ...\n",
       "              63197318,   15064669,   15142024,   61288364,   69819412,\n",
       "              82786211,   15103435,   15195183,   15180783,   54854296],\n",
       "           dtype='int64', name=u'ID', length=1000)"
      ]
     },
     "execution_count": 30,
     "metadata": {},
     "output_type": "execute_result"
    }
   ],
   "source": [
    "df.index"
   ]
  },
  {
   "cell_type": "code",
   "execution_count": 31,
   "metadata": {
    "collapsed": false
   },
   "outputs": [
    {
     "data": {
      "text/html": [
       "<div>\n",
       "<table border=\"1\" class=\"dataframe\">\n",
       "  <thead>\n",
       "    <tr style=\"text-align: right;\">\n",
       "      <th></th>\n",
       "      <th>Address</th>\n",
       "      <th>Latitude</th>\n",
       "      <th>Longitude</th>\n",
       "      <th>IsAStudio</th>\n",
       "      <th>Beds</th>\n",
       "      <th>...</th>\n",
       "      <th>Size</th>\n",
       "      <th>SizeUnit</th>\n",
       "      <th>LotSize</th>\n",
       "      <th>LotSizeUnit</th>\n",
       "      <th>BuiltInYear</th>\n",
       "    </tr>\n",
       "    <tr>\n",
       "      <th>ID</th>\n",
       "      <th></th>\n",
       "      <th></th>\n",
       "      <th></th>\n",
       "      <th></th>\n",
       "      <th></th>\n",
       "      <th></th>\n",
       "      <th></th>\n",
       "      <th></th>\n",
       "      <th></th>\n",
       "      <th></th>\n",
       "      <th></th>\n",
       "    </tr>\n",
       "  </thead>\n",
       "  <tbody>\n",
       "    <tr>\n",
       "      <th>2121978635</th>\n",
       "      <td>829 Folsom St UNIT 906, San Francisco, CA</td>\n",
       "      <td>37781429</td>\n",
       "      <td>-122401860</td>\n",
       "      <td>False</td>\n",
       "      <td>1.0</td>\n",
       "      <td>...</td>\n",
       "      <td>557.0</td>\n",
       "      <td>sqft</td>\n",
       "      <td>NaN</td>\n",
       "      <td>NaN</td>\n",
       "      <td>2010.0</td>\n",
       "    </tr>\n",
       "    <tr>\n",
       "      <th>89239580</th>\n",
       "      <td>690 Market St UNIT 1705, San Francisco, CA</td>\n",
       "      <td>37788246</td>\n",
       "      <td>-122403198</td>\n",
       "      <td>False</td>\n",
       "      <td>2.0</td>\n",
       "      <td>...</td>\n",
       "      <td>1050.0</td>\n",
       "      <td>sqft</td>\n",
       "      <td>NaN</td>\n",
       "      <td>NaN</td>\n",
       "      <td>2007.0</td>\n",
       "    </tr>\n",
       "    <tr>\n",
       "      <th>15131782</th>\n",
       "      <td>401 Grand View Ave APT 3, San Francisco, CA</td>\n",
       "      <td>37752157</td>\n",
       "      <td>-122442356</td>\n",
       "      <td>False</td>\n",
       "      <td>2.0</td>\n",
       "      <td>...</td>\n",
       "      <td>937.0</td>\n",
       "      <td>sqft</td>\n",
       "      <td>NaN</td>\n",
       "      <td>NaN</td>\n",
       "      <td>1983.0</td>\n",
       "    </tr>\n",
       "    <tr>\n",
       "      <th>15179502</th>\n",
       "      <td>250 Concord St, San Francisco, CA</td>\n",
       "      <td>37710141</td>\n",
       "      <td>-122442063</td>\n",
       "      <td>False</td>\n",
       "      <td>4.0</td>\n",
       "      <td>...</td>\n",
       "      <td>1574.0</td>\n",
       "      <td>sqft</td>\n",
       "      <td>1947.0</td>\n",
       "      <td>sqft</td>\n",
       "      <td>1959.0</td>\n",
       "    </tr>\n",
       "    <tr>\n",
       "      <th>52266124</th>\n",
       "      <td>88 King St APT 317, San Francisco, CA</td>\n",
       "      <td>37780630</td>\n",
       "      <td>-122389635</td>\n",
       "      <td>False</td>\n",
       "      <td>2.0</td>\n",
       "      <td>...</td>\n",
       "      <td>1205.0</td>\n",
       "      <td>sqft</td>\n",
       "      <td>NaN</td>\n",
       "      <td>NaN</td>\n",
       "      <td>2000.0</td>\n",
       "    </tr>\n",
       "    <tr>\n",
       "      <th>...</th>\n",
       "      <td>...</td>\n",
       "      <td>...</td>\n",
       "      <td>...</td>\n",
       "      <td>...</td>\n",
       "      <td>...</td>\n",
       "      <td>...</td>\n",
       "      <td>...</td>\n",
       "      <td>...</td>\n",
       "      <td>...</td>\n",
       "      <td>...</td>\n",
       "      <td>...</td>\n",
       "    </tr>\n",
       "    <tr>\n",
       "      <th>82786211</th>\n",
       "      <td>310 Townsend St APT 311, San Francisco, CA</td>\n",
       "      <td>37777027</td>\n",
       "      <td>-122395736</td>\n",
       "      <td>False</td>\n",
       "      <td>1.0</td>\n",
       "      <td>...</td>\n",
       "      <td>853.0</td>\n",
       "      <td>sqft</td>\n",
       "      <td>NaN</td>\n",
       "      <td>NaN</td>\n",
       "      <td>2006.0</td>\n",
       "    </tr>\n",
       "    <tr>\n",
       "      <th>15103435</th>\n",
       "      <td>1343 31st Ave, San Francisco, CA</td>\n",
       "      <td>37762152</td>\n",
       "      <td>-122490254</td>\n",
       "      <td>False</td>\n",
       "      <td>3.0</td>\n",
       "      <td>...</td>\n",
       "      <td>1886.0</td>\n",
       "      <td>sqft</td>\n",
       "      <td>3000.0</td>\n",
       "      <td>sqft</td>\n",
       "      <td>1934.0</td>\n",
       "    </tr>\n",
       "    <tr>\n",
       "      <th>15195183</th>\n",
       "      <td>3916 Alemany Blvd, San Francisco, CA</td>\n",
       "      <td>37711527</td>\n",
       "      <td>-122467755</td>\n",
       "      <td>False</td>\n",
       "      <td>3.0</td>\n",
       "      <td>...</td>\n",
       "      <td>1300.0</td>\n",
       "      <td>sqft</td>\n",
       "      <td>2553.0</td>\n",
       "      <td>sqft</td>\n",
       "      <td>1941.0</td>\n",
       "    </tr>\n",
       "    <tr>\n",
       "      <th>15180783</th>\n",
       "      <td>430 Fair Oaks St, San Francisco, CA</td>\n",
       "      <td>37749725</td>\n",
       "      <td>-122424094</td>\n",
       "      <td>False</td>\n",
       "      <td>4.0</td>\n",
       "      <td>...</td>\n",
       "      <td>2678.0</td>\n",
       "      <td>sqft</td>\n",
       "      <td>NaN</td>\n",
       "      <td>NaN</td>\n",
       "      <td>1911.0</td>\n",
       "    </tr>\n",
       "    <tr>\n",
       "      <th>54854296</th>\n",
       "      <td>720 Stockton St APT 3, San Francisco, CA</td>\n",
       "      <td>37792578</td>\n",
       "      <td>-122407366</td>\n",
       "      <td>False</td>\n",
       "      <td>2.0</td>\n",
       "      <td>...</td>\n",
       "      <td>886.0</td>\n",
       "      <td>sqft</td>\n",
       "      <td>NaN</td>\n",
       "      <td>NaN</td>\n",
       "      <td>2001.0</td>\n",
       "    </tr>\n",
       "  </tbody>\n",
       "</table>\n",
       "<p>1000 rows × 11 columns</p>\n",
       "</div>"
      ],
      "text/plain": [
       "                                                Address  Latitude  Longitude  \\\n",
       "ID                                                                             \n",
       "2121978635    829 Folsom St UNIT 906, San Francisco, CA  37781429 -122401860   \n",
       "89239580     690 Market St UNIT 1705, San Francisco, CA  37788246 -122403198   \n",
       "15131782    401 Grand View Ave APT 3, San Francisco, CA  37752157 -122442356   \n",
       "15179502              250 Concord St, San Francisco, CA  37710141 -122442063   \n",
       "52266124          88 King St APT 317, San Francisco, CA  37780630 -122389635   \n",
       "...                                                 ...       ...        ...   \n",
       "82786211     310 Townsend St APT 311, San Francisco, CA  37777027 -122395736   \n",
       "15103435               1343 31st Ave, San Francisco, CA  37762152 -122490254   \n",
       "15195183           3916 Alemany Blvd, San Francisco, CA  37711527 -122467755   \n",
       "15180783            430 Fair Oaks St, San Francisco, CA  37749725 -122424094   \n",
       "54854296       720 Stockton St APT 3, San Francisco, CA  37792578 -122407366   \n",
       "\n",
       "           IsAStudio  Beds     ...        Size  SizeUnit LotSize  LotSizeUnit  \\\n",
       "ID                             ...                                              \n",
       "2121978635     False   1.0     ...       557.0      sqft     NaN          NaN   \n",
       "89239580       False   2.0     ...      1050.0      sqft     NaN          NaN   \n",
       "15131782       False   2.0     ...       937.0      sqft     NaN          NaN   \n",
       "15179502       False   4.0     ...      1574.0      sqft  1947.0         sqft   \n",
       "52266124       False   2.0     ...      1205.0      sqft     NaN          NaN   \n",
       "...              ...   ...     ...         ...       ...     ...          ...   \n",
       "82786211       False   1.0     ...       853.0      sqft     NaN          NaN   \n",
       "15103435       False   3.0     ...      1886.0      sqft  3000.0         sqft   \n",
       "15195183       False   3.0     ...      1300.0      sqft  2553.0         sqft   \n",
       "15180783       False   4.0     ...      2678.0      sqft     NaN          NaN   \n",
       "54854296       False   2.0     ...       886.0      sqft     NaN          NaN   \n",
       "\n",
       "           BuiltInYear  \n",
       "ID                      \n",
       "2121978635      2010.0  \n",
       "89239580        2007.0  \n",
       "15131782        1983.0  \n",
       "15179502        1959.0  \n",
       "52266124        2000.0  \n",
       "...                ...  \n",
       "82786211        2006.0  \n",
       "15103435        1934.0  \n",
       "15195183        1941.0  \n",
       "15180783        1911.0  \n",
       "54854296        2001.0  \n",
       "\n",
       "[1000 rows x 11 columns]"
      ]
     },
     "execution_count": 31,
     "metadata": {},
     "output_type": "execute_result"
    }
   ],
   "source": [
    "df"
   ]
  },
  {
   "cell_type": "markdown",
   "metadata": {},
   "source": [
    "> E.g., row with index 15063505:"
   ]
  },
  {
   "cell_type": "code",
   "execution_count": 32,
   "metadata": {
    "collapsed": false
   },
   "outputs": [
    {
     "data": {
      "text/plain": [
       "Address        740 Francisco St, San Francisco, CA\n",
       "Latitude                                  37804420\n",
       "Longitude                               -122417389\n",
       "IsAStudio                                    False\n",
       "Beds                                           NaN\n",
       "                              ...                 \n",
       "Size                                          1430\n",
       "SizeUnit                                      sqft\n",
       "LotSize                                       2435\n",
       "LotSizeUnit                                   sqft\n",
       "BuiltInYear                                   1948\n",
       "Name: 15063505, dtype: object"
      ]
     },
     "execution_count": 32,
     "metadata": {},
     "output_type": "execute_result"
    }
   ],
   "source": [
    "df.loc[15063505]"
   ]
  },
  {
   "cell_type": "code",
   "execution_count": 33,
   "metadata": {
    "collapsed": false
   },
   "outputs": [
    {
     "data": {
      "text/plain": [
       "pandas.core.series.Series"
      ]
     },
     "execution_count": 33,
     "metadata": {},
     "output_type": "execute_result"
    }
   ],
   "source": [
    "type(df.loc[15063505])"
   ]
  },
  {
   "cell_type": "markdown",
   "metadata": {},
   "source": [
    "A single row is also a `Series`."
   ]
  },
  {
   "cell_type": "code",
   "execution_count": 34,
   "metadata": {
    "collapsed": false
   },
   "outputs": [
    {
     "data": {
      "text/plain": [
       "15063505"
      ]
     },
     "execution_count": 34,
     "metadata": {},
     "output_type": "execute_result"
    }
   ],
   "source": [
    "df.loc[15063505].name"
   ]
  },
  {
   "cell_type": "markdown",
   "metadata": {},
   "source": [
    "Its name is its value in the index."
   ]
  },
  {
   "cell_type": "markdown",
   "metadata": {},
   "source": [
    "> E.g., rows with indices 15063505 and 15064044:"
   ]
  },
  {
   "cell_type": "code",
   "execution_count": 35,
   "metadata": {
    "collapsed": false
   },
   "outputs": [
    {
     "data": {
      "text/html": [
       "<div>\n",
       "<table border=\"1\" class=\"dataframe\">\n",
       "  <thead>\n",
       "    <tr style=\"text-align: right;\">\n",
       "      <th></th>\n",
       "      <th>Address</th>\n",
       "      <th>Latitude</th>\n",
       "      <th>Longitude</th>\n",
       "      <th>IsAStudio</th>\n",
       "      <th>Beds</th>\n",
       "      <th>...</th>\n",
       "      <th>Size</th>\n",
       "      <th>SizeUnit</th>\n",
       "      <th>LotSize</th>\n",
       "      <th>LotSizeUnit</th>\n",
       "      <th>BuiltInYear</th>\n",
       "    </tr>\n",
       "    <tr>\n",
       "      <th>ID</th>\n",
       "      <th></th>\n",
       "      <th></th>\n",
       "      <th></th>\n",
       "      <th></th>\n",
       "      <th></th>\n",
       "      <th></th>\n",
       "      <th></th>\n",
       "      <th></th>\n",
       "      <th></th>\n",
       "      <th></th>\n",
       "      <th></th>\n",
       "    </tr>\n",
       "  </thead>\n",
       "  <tbody>\n",
       "    <tr>\n",
       "      <th>15063505</th>\n",
       "      <td>740 Francisco St, San Francisco, CA</td>\n",
       "      <td>37804420</td>\n",
       "      <td>-122417389</td>\n",
       "      <td>False</td>\n",
       "      <td>NaN</td>\n",
       "      <td>...</td>\n",
       "      <td>1430.0</td>\n",
       "      <td>sqft</td>\n",
       "      <td>2435.0</td>\n",
       "      <td>sqft</td>\n",
       "      <td>1948.0</td>\n",
       "    </tr>\n",
       "    <tr>\n",
       "      <th>15064044</th>\n",
       "      <td>199 Chestnut St APT 5, San Francisco, CA</td>\n",
       "      <td>37804392</td>\n",
       "      <td>-122406590</td>\n",
       "      <td>False</td>\n",
       "      <td>1.0</td>\n",
       "      <td>...</td>\n",
       "      <td>1060.0</td>\n",
       "      <td>sqft</td>\n",
       "      <td>NaN</td>\n",
       "      <td>NaN</td>\n",
       "      <td>1930.0</td>\n",
       "    </tr>\n",
       "  </tbody>\n",
       "</table>\n",
       "<p>2 rows × 11 columns</p>\n",
       "</div>"
      ],
      "text/plain": [
       "                                           Address  Latitude  Longitude  \\\n",
       "ID                                                                        \n",
       "15063505       740 Francisco St, San Francisco, CA  37804420 -122417389   \n",
       "15064044  199 Chestnut St APT 5, San Francisco, CA  37804392 -122406590   \n",
       "\n",
       "         IsAStudio  Beds     ...        Size  SizeUnit LotSize  LotSizeUnit  \\\n",
       "ID                           ...                                              \n",
       "15063505     False   NaN     ...      1430.0      sqft  2435.0         sqft   \n",
       "15064044     False   1.0     ...      1060.0      sqft     NaN          NaN   \n",
       "\n",
       "         BuiltInYear  \n",
       "ID                    \n",
       "15063505      1948.0  \n",
       "15064044      1930.0  \n",
       "\n",
       "[2 rows x 11 columns]"
      ]
     },
     "execution_count": 35,
     "metadata": {},
     "output_type": "execute_result"
    }
   ],
   "source": [
    "df.loc[ [15063505, 15064044] ]"
   ]
  },
  {
   "cell_type": "markdown",
   "metadata": {},
   "source": [
    "> E.g., rows #1 and #3:"
   ]
  },
  {
   "cell_type": "code",
   "execution_count": 36,
   "metadata": {
    "collapsed": false
   },
   "outputs": [
    {
     "data": {
      "text/html": [
       "<div>\n",
       "<table border=\"1\" class=\"dataframe\">\n",
       "  <thead>\n",
       "    <tr style=\"text-align: right;\">\n",
       "      <th></th>\n",
       "      <th>Address</th>\n",
       "      <th>Latitude</th>\n",
       "      <th>Longitude</th>\n",
       "      <th>IsAStudio</th>\n",
       "      <th>Beds</th>\n",
       "      <th>...</th>\n",
       "      <th>Size</th>\n",
       "      <th>SizeUnit</th>\n",
       "      <th>LotSize</th>\n",
       "      <th>LotSizeUnit</th>\n",
       "      <th>BuiltInYear</th>\n",
       "    </tr>\n",
       "    <tr>\n",
       "      <th>ID</th>\n",
       "      <th></th>\n",
       "      <th></th>\n",
       "      <th></th>\n",
       "      <th></th>\n",
       "      <th></th>\n",
       "      <th></th>\n",
       "      <th></th>\n",
       "      <th></th>\n",
       "      <th></th>\n",
       "      <th></th>\n",
       "      <th></th>\n",
       "    </tr>\n",
       "  </thead>\n",
       "  <tbody>\n",
       "    <tr>\n",
       "      <th>89239580</th>\n",
       "      <td>690 Market St UNIT 1705, San Francisco, CA</td>\n",
       "      <td>37788246</td>\n",
       "      <td>-122403198</td>\n",
       "      <td>False</td>\n",
       "      <td>2.0</td>\n",
       "      <td>...</td>\n",
       "      <td>1050.0</td>\n",
       "      <td>sqft</td>\n",
       "      <td>NaN</td>\n",
       "      <td>NaN</td>\n",
       "      <td>2007.0</td>\n",
       "    </tr>\n",
       "    <tr>\n",
       "      <th>15179502</th>\n",
       "      <td>250 Concord St, San Francisco, CA</td>\n",
       "      <td>37710141</td>\n",
       "      <td>-122442063</td>\n",
       "      <td>False</td>\n",
       "      <td>4.0</td>\n",
       "      <td>...</td>\n",
       "      <td>1574.0</td>\n",
       "      <td>sqft</td>\n",
       "      <td>1947.0</td>\n",
       "      <td>sqft</td>\n",
       "      <td>1959.0</td>\n",
       "    </tr>\n",
       "  </tbody>\n",
       "</table>\n",
       "<p>2 rows × 11 columns</p>\n",
       "</div>"
      ],
      "text/plain": [
       "                                             Address  Latitude  Longitude  \\\n",
       "ID                                                                          \n",
       "89239580  690 Market St UNIT 1705, San Francisco, CA  37788246 -122403198   \n",
       "15179502           250 Concord St, San Francisco, CA  37710141 -122442063   \n",
       "\n",
       "         IsAStudio  Beds     ...        Size  SizeUnit LotSize  LotSizeUnit  \\\n",
       "ID                           ...                                              \n",
       "89239580     False   2.0     ...      1050.0      sqft     NaN          NaN   \n",
       "15179502     False   4.0     ...      1574.0      sqft  1947.0         sqft   \n",
       "\n",
       "         BuiltInYear  \n",
       "ID                    \n",
       "89239580      2007.0  \n",
       "15179502      1959.0  \n",
       "\n",
       "[2 rows x 11 columns]"
      ]
     },
     "execution_count": 36,
     "metadata": {},
     "output_type": "execute_result"
    }
   ],
   "source": [
    "df.iloc[ [1, 3] ]"
   ]
  },
  {
   "cell_type": "markdown",
   "metadata": {},
   "source": [
    "> ## Subsetting rows by Boolean selection (a.k.a., masking)"
   ]
  },
  {
   "cell_type": "markdown",
   "metadata": {},
   "source": [
    "Rows can also be selected by using Boolean selection, using an array calculated from the result of applying a logical condition on the values in any of the columns.  This allows us to build more complicated selections than those based simply upon index labels or positions."
   ]
  },
  {
   "cell_type": "markdown",
   "metadata": {},
   "source": [
    "> E.g., what homes have been built before 1900?"
   ]
  },
  {
   "cell_type": "code",
   "execution_count": 37,
   "metadata": {
    "collapsed": false
   },
   "outputs": [
    {
     "data": {
      "text/plain": [
       "ID\n",
       "2121978635    False\n",
       "89239580      False\n",
       "15131782      False\n",
       "15179502      False\n",
       "52266124      False\n",
       "              ...  \n",
       "82786211      False\n",
       "15103435      False\n",
       "15195183      False\n",
       "15180783      False\n",
       "54854296      False\n",
       "Name: BuiltInYear, dtype: bool"
      ]
     },
     "execution_count": 37,
     "metadata": {},
     "output_type": "execute_result"
    }
   ],
   "source": [
    "df.BuiltInYear < 1900"
   ]
  },
  {
   "cell_type": "markdown",
   "metadata": {},
   "source": [
    "This results in a `Series` that can be used to subset on the rows which values are `True`."
   ]
  },
  {
   "cell_type": "markdown",
   "metadata": {},
   "source": [
    "> Let's subset on that `Series`:"
   ]
  },
  {
   "cell_type": "code",
   "execution_count": 38,
   "metadata": {
    "collapsed": false
   },
   "outputs": [
    {
     "data": {
      "text/html": [
       "<div>\n",
       "<table border=\"1\" class=\"dataframe\">\n",
       "  <thead>\n",
       "    <tr style=\"text-align: right;\">\n",
       "      <th></th>\n",
       "      <th>Address</th>\n",
       "      <th>Latitude</th>\n",
       "      <th>Longitude</th>\n",
       "      <th>IsAStudio</th>\n",
       "      <th>Beds</th>\n",
       "      <th>...</th>\n",
       "      <th>Size</th>\n",
       "      <th>SizeUnit</th>\n",
       "      <th>LotSize</th>\n",
       "      <th>LotSizeUnit</th>\n",
       "      <th>BuiltInYear</th>\n",
       "    </tr>\n",
       "    <tr>\n",
       "      <th>ID</th>\n",
       "      <th></th>\n",
       "      <th></th>\n",
       "      <th></th>\n",
       "      <th></th>\n",
       "      <th></th>\n",
       "      <th></th>\n",
       "      <th></th>\n",
       "      <th></th>\n",
       "      <th></th>\n",
       "      <th></th>\n",
       "      <th></th>\n",
       "    </tr>\n",
       "  </thead>\n",
       "  <tbody>\n",
       "    <tr>\n",
       "      <th>123597388</th>\n",
       "      <td>667 Shotwell St # A, San Francisco, CA</td>\n",
       "      <td>37757851</td>\n",
       "      <td>-122415629</td>\n",
       "      <td>False</td>\n",
       "      <td>1.0</td>\n",
       "      <td>...</td>\n",
       "      <td>1212.0</td>\n",
       "      <td>sqft</td>\n",
       "      <td>NaN</td>\n",
       "      <td>NaN</td>\n",
       "      <td>1890.0</td>\n",
       "    </tr>\n",
       "    <tr>\n",
       "      <th>63197592</th>\n",
       "      <td>3021 20th St, San Francisco, CA</td>\n",
       "      <td>37758878</td>\n",
       "      <td>-122411147</td>\n",
       "      <td>False</td>\n",
       "      <td>1.0</td>\n",
       "      <td>...</td>\n",
       "      <td>1267.0</td>\n",
       "      <td>sqft</td>\n",
       "      <td>NaN</td>\n",
       "      <td>NaN</td>\n",
       "      <td>1890.0</td>\n",
       "    </tr>\n",
       "    <tr>\n",
       "      <th>15145720</th>\n",
       "      <td>956 S Van Ness Ave, San Francisco, CA</td>\n",
       "      <td>37757832</td>\n",
       "      <td>-122417139</td>\n",
       "      <td>False</td>\n",
       "      <td>4.0</td>\n",
       "      <td>...</td>\n",
       "      <td>3500.0</td>\n",
       "      <td>sqft</td>\n",
       "      <td>4165.0</td>\n",
       "      <td>sqft</td>\n",
       "      <td>1872.0</td>\n",
       "    </tr>\n",
       "    <tr>\n",
       "      <th>119684777</th>\n",
       "      <td>967 Hayes St, San Francisco, CA</td>\n",
       "      <td>37775645</td>\n",
       "      <td>-122432222</td>\n",
       "      <td>False</td>\n",
       "      <td>4.0</td>\n",
       "      <td>...</td>\n",
       "      <td>3006.0</td>\n",
       "      <td>sqft</td>\n",
       "      <td>NaN</td>\n",
       "      <td>NaN</td>\n",
       "      <td>1885.0</td>\n",
       "    </tr>\n",
       "    <tr>\n",
       "      <th>15181209</th>\n",
       "      <td>1001 Diamond St # 1001A, San Francisco, CA</td>\n",
       "      <td>37749461</td>\n",
       "      <td>-122435844</td>\n",
       "      <td>False</td>\n",
       "      <td>3.0</td>\n",
       "      <td>...</td>\n",
       "      <td>2032.0</td>\n",
       "      <td>sqft</td>\n",
       "      <td>1913.0</td>\n",
       "      <td>sqft</td>\n",
       "      <td>1892.0</td>\n",
       "    </tr>\n",
       "    <tr>\n",
       "      <th>...</th>\n",
       "      <td>...</td>\n",
       "      <td>...</td>\n",
       "      <td>...</td>\n",
       "      <td>...</td>\n",
       "      <td>...</td>\n",
       "      <td>...</td>\n",
       "      <td>...</td>\n",
       "      <td>...</td>\n",
       "      <td>...</td>\n",
       "      <td>...</td>\n",
       "      <td>...</td>\n",
       "    </tr>\n",
       "    <tr>\n",
       "      <th>15065140</th>\n",
       "      <td>1407 Montgomery St APT 2, San Francisco, CA</td>\n",
       "      <td>37802299</td>\n",
       "      <td>-122404941</td>\n",
       "      <td>False</td>\n",
       "      <td>1.0</td>\n",
       "      <td>...</td>\n",
       "      <td>1000.0</td>\n",
       "      <td>sqft</td>\n",
       "      <td>NaN</td>\n",
       "      <td>NaN</td>\n",
       "      <td>1870.0</td>\n",
       "    </tr>\n",
       "    <tr>\n",
       "      <th>15084954</th>\n",
       "      <td>1954 Golden Gate Ave, San Francisco, CA</td>\n",
       "      <td>37778420</td>\n",
       "      <td>-122443073</td>\n",
       "      <td>False</td>\n",
       "      <td>2.0</td>\n",
       "      <td>...</td>\n",
       "      <td>1515.0</td>\n",
       "      <td>sqft</td>\n",
       "      <td>NaN</td>\n",
       "      <td>NaN</td>\n",
       "      <td>1895.0</td>\n",
       "    </tr>\n",
       "    <tr>\n",
       "      <th>15078536</th>\n",
       "      <td>640 Steiner St, San Francisco, CA</td>\n",
       "      <td>37775399</td>\n",
       "      <td>-122432491</td>\n",
       "      <td>False</td>\n",
       "      <td>2.0</td>\n",
       "      <td>...</td>\n",
       "      <td>1593.0</td>\n",
       "      <td>sqft</td>\n",
       "      <td>NaN</td>\n",
       "      <td>NaN</td>\n",
       "      <td>1895.0</td>\n",
       "    </tr>\n",
       "    <tr>\n",
       "      <th>15082108</th>\n",
       "      <td>3016 Sacramento St, San Francisco, CA</td>\n",
       "      <td>37788970</td>\n",
       "      <td>-122442995</td>\n",
       "      <td>False</td>\n",
       "      <td>2.0</td>\n",
       "      <td>...</td>\n",
       "      <td>1408.0</td>\n",
       "      <td>sqft</td>\n",
       "      <td>NaN</td>\n",
       "      <td>NaN</td>\n",
       "      <td>1890.0</td>\n",
       "    </tr>\n",
       "    <tr>\n",
       "      <th>15076156</th>\n",
       "      <td>1533 Sutter St, San Francisco, CA</td>\n",
       "      <td>37786658</td>\n",
       "      <td>-122426481</td>\n",
       "      <td>False</td>\n",
       "      <td>6.0</td>\n",
       "      <td>...</td>\n",
       "      <td>7375.0</td>\n",
       "      <td>sqft</td>\n",
       "      <td>2748.0</td>\n",
       "      <td>sqft</td>\n",
       "      <td>1890.0</td>\n",
       "    </tr>\n",
       "  </tbody>\n",
       "</table>\n",
       "<p>15 rows × 11 columns</p>\n",
       "</div>"
      ],
      "text/plain": [
       "                                               Address  Latitude  Longitude  \\\n",
       "ID                                                                            \n",
       "123597388       667 Shotwell St # A, San Francisco, CA  37757851 -122415629   \n",
       "63197592               3021 20th St, San Francisco, CA  37758878 -122411147   \n",
       "15145720         956 S Van Ness Ave, San Francisco, CA  37757832 -122417139   \n",
       "119684777              967 Hayes St, San Francisco, CA  37775645 -122432222   \n",
       "15181209    1001 Diamond St # 1001A, San Francisco, CA  37749461 -122435844   \n",
       "...                                                ...       ...        ...   \n",
       "15065140   1407 Montgomery St APT 2, San Francisco, CA  37802299 -122404941   \n",
       "15084954       1954 Golden Gate Ave, San Francisco, CA  37778420 -122443073   \n",
       "15078536             640 Steiner St, San Francisco, CA  37775399 -122432491   \n",
       "15082108         3016 Sacramento St, San Francisco, CA  37788970 -122442995   \n",
       "15076156             1533 Sutter St, San Francisco, CA  37786658 -122426481   \n",
       "\n",
       "          IsAStudio  Beds     ...        Size  SizeUnit LotSize  LotSizeUnit  \\\n",
       "ID                            ...                                              \n",
       "123597388     False   1.0     ...      1212.0      sqft     NaN          NaN   \n",
       "63197592      False   1.0     ...      1267.0      sqft     NaN          NaN   \n",
       "15145720      False   4.0     ...      3500.0      sqft  4165.0         sqft   \n",
       "119684777     False   4.0     ...      3006.0      sqft     NaN          NaN   \n",
       "15181209      False   3.0     ...      2032.0      sqft  1913.0         sqft   \n",
       "...             ...   ...     ...         ...       ...     ...          ...   \n",
       "15065140      False   1.0     ...      1000.0      sqft     NaN          NaN   \n",
       "15084954      False   2.0     ...      1515.0      sqft     NaN          NaN   \n",
       "15078536      False   2.0     ...      1593.0      sqft     NaN          NaN   \n",
       "15082108      False   2.0     ...      1408.0      sqft     NaN          NaN   \n",
       "15076156      False   6.0     ...      7375.0      sqft  2748.0         sqft   \n",
       "\n",
       "          BuiltInYear  \n",
       "ID                     \n",
       "123597388      1890.0  \n",
       "63197592       1890.0  \n",
       "15145720       1872.0  \n",
       "119684777      1885.0  \n",
       "15181209       1892.0  \n",
       "...               ...  \n",
       "15065140       1870.0  \n",
       "15084954       1895.0  \n",
       "15078536       1895.0  \n",
       "15082108       1890.0  \n",
       "15076156       1890.0  \n",
       "\n",
       "[15 rows x 11 columns]"
      ]
     },
     "execution_count": 38,
     "metadata": {},
     "output_type": "execute_result"
    }
   ],
   "source": [
    "df[df.BuiltInYear < 1900]"
   ]
  },
  {
   "cell_type": "markdown",
   "metadata": {},
   "source": [
    "Multiple conditions can be put together."
   ]
  },
  {
   "cell_type": "markdown",
   "metadata": {},
   "source": [
    "> E.g., subset for `BuiltInYear` below 1900 and `Size` over 1500:"
   ]
  },
  {
   "cell_type": "code",
   "execution_count": 39,
   "metadata": {
    "collapsed": false
   },
   "outputs": [
    {
     "data": {
      "text/html": [
       "<div>\n",
       "<table border=\"1\" class=\"dataframe\">\n",
       "  <thead>\n",
       "    <tr style=\"text-align: right;\">\n",
       "      <th></th>\n",
       "      <th>Address</th>\n",
       "      <th>Latitude</th>\n",
       "      <th>Longitude</th>\n",
       "      <th>IsAStudio</th>\n",
       "      <th>Beds</th>\n",
       "      <th>...</th>\n",
       "      <th>Size</th>\n",
       "      <th>SizeUnit</th>\n",
       "      <th>LotSize</th>\n",
       "      <th>LotSizeUnit</th>\n",
       "      <th>BuiltInYear</th>\n",
       "    </tr>\n",
       "    <tr>\n",
       "      <th>ID</th>\n",
       "      <th></th>\n",
       "      <th></th>\n",
       "      <th></th>\n",
       "      <th></th>\n",
       "      <th></th>\n",
       "      <th></th>\n",
       "      <th></th>\n",
       "      <th></th>\n",
       "      <th></th>\n",
       "      <th></th>\n",
       "      <th></th>\n",
       "    </tr>\n",
       "  </thead>\n",
       "  <tbody>\n",
       "    <tr>\n",
       "      <th>15145720</th>\n",
       "      <td>956 S Van Ness Ave, San Francisco, CA</td>\n",
       "      <td>37757832</td>\n",
       "      <td>-122417139</td>\n",
       "      <td>False</td>\n",
       "      <td>4.0</td>\n",
       "      <td>...</td>\n",
       "      <td>3500.0</td>\n",
       "      <td>sqft</td>\n",
       "      <td>4165.0</td>\n",
       "      <td>sqft</td>\n",
       "      <td>1872.0</td>\n",
       "    </tr>\n",
       "    <tr>\n",
       "      <th>119684777</th>\n",
       "      <td>967 Hayes St, San Francisco, CA</td>\n",
       "      <td>37775645</td>\n",
       "      <td>-122432222</td>\n",
       "      <td>False</td>\n",
       "      <td>4.0</td>\n",
       "      <td>...</td>\n",
       "      <td>3006.0</td>\n",
       "      <td>sqft</td>\n",
       "      <td>NaN</td>\n",
       "      <td>NaN</td>\n",
       "      <td>1885.0</td>\n",
       "    </tr>\n",
       "    <tr>\n",
       "      <th>15181209</th>\n",
       "      <td>1001 Diamond St # 1001A, San Francisco, CA</td>\n",
       "      <td>37749461</td>\n",
       "      <td>-122435844</td>\n",
       "      <td>False</td>\n",
       "      <td>3.0</td>\n",
       "      <td>...</td>\n",
       "      <td>2032.0</td>\n",
       "      <td>sqft</td>\n",
       "      <td>1913.0</td>\n",
       "      <td>sqft</td>\n",
       "      <td>1892.0</td>\n",
       "    </tr>\n",
       "    <tr>\n",
       "      <th>82785514</th>\n",
       "      <td>1394 Mcallister St, San Francisco, CA</td>\n",
       "      <td>37778463</td>\n",
       "      <td>-122434933</td>\n",
       "      <td>False</td>\n",
       "      <td>3.0</td>\n",
       "      <td>...</td>\n",
       "      <td>2300.0</td>\n",
       "      <td>sqft</td>\n",
       "      <td>NaN</td>\n",
       "      <td>NaN</td>\n",
       "      <td>1890.0</td>\n",
       "    </tr>\n",
       "    <tr>\n",
       "      <th>15078866</th>\n",
       "      <td>753-755 Oak St, San Francisco, CA</td>\n",
       "      <td>37773576</td>\n",
       "      <td>-122431663</td>\n",
       "      <td>False</td>\n",
       "      <td>NaN</td>\n",
       "      <td>...</td>\n",
       "      <td>2430.0</td>\n",
       "      <td>sqft</td>\n",
       "      <td>3781.0</td>\n",
       "      <td>sqft</td>\n",
       "      <td>1890.0</td>\n",
       "    </tr>\n",
       "    <tr>\n",
       "      <th>2122992200</th>\n",
       "      <td>129 Octavia St, San Francisco, CA</td>\n",
       "      <td>37773192</td>\n",
       "      <td>-122424037</td>\n",
       "      <td>True</td>\n",
       "      <td>NaN</td>\n",
       "      <td>...</td>\n",
       "      <td>3655.0</td>\n",
       "      <td>sqft</td>\n",
       "      <td>NaN</td>\n",
       "      <td>NaN</td>\n",
       "      <td>1883.0</td>\n",
       "    </tr>\n",
       "    <tr>\n",
       "      <th>15084954</th>\n",
       "      <td>1954 Golden Gate Ave, San Francisco, CA</td>\n",
       "      <td>37778420</td>\n",
       "      <td>-122443073</td>\n",
       "      <td>False</td>\n",
       "      <td>2.0</td>\n",
       "      <td>...</td>\n",
       "      <td>1515.0</td>\n",
       "      <td>sqft</td>\n",
       "      <td>NaN</td>\n",
       "      <td>NaN</td>\n",
       "      <td>1895.0</td>\n",
       "    </tr>\n",
       "    <tr>\n",
       "      <th>15078536</th>\n",
       "      <td>640 Steiner St, San Francisco, CA</td>\n",
       "      <td>37775399</td>\n",
       "      <td>-122432491</td>\n",
       "      <td>False</td>\n",
       "      <td>2.0</td>\n",
       "      <td>...</td>\n",
       "      <td>1593.0</td>\n",
       "      <td>sqft</td>\n",
       "      <td>NaN</td>\n",
       "      <td>NaN</td>\n",
       "      <td>1895.0</td>\n",
       "    </tr>\n",
       "    <tr>\n",
       "      <th>15076156</th>\n",
       "      <td>1533 Sutter St, San Francisco, CA</td>\n",
       "      <td>37786658</td>\n",
       "      <td>-122426481</td>\n",
       "      <td>False</td>\n",
       "      <td>6.0</td>\n",
       "      <td>...</td>\n",
       "      <td>7375.0</td>\n",
       "      <td>sqft</td>\n",
       "      <td>2748.0</td>\n",
       "      <td>sqft</td>\n",
       "      <td>1890.0</td>\n",
       "    </tr>\n",
       "  </tbody>\n",
       "</table>\n",
       "<p>9 rows × 11 columns</p>\n",
       "</div>"
      ],
      "text/plain": [
       "                                               Address  Latitude  Longitude  \\\n",
       "ID                                                                            \n",
       "15145720         956 S Van Ness Ave, San Francisco, CA  37757832 -122417139   \n",
       "119684777              967 Hayes St, San Francisco, CA  37775645 -122432222   \n",
       "15181209    1001 Diamond St # 1001A, San Francisco, CA  37749461 -122435844   \n",
       "82785514         1394 Mcallister St, San Francisco, CA  37778463 -122434933   \n",
       "15078866             753-755 Oak St, San Francisco, CA  37773576 -122431663   \n",
       "2122992200           129 Octavia St, San Francisco, CA  37773192 -122424037   \n",
       "15084954       1954 Golden Gate Ave, San Francisco, CA  37778420 -122443073   \n",
       "15078536             640 Steiner St, San Francisco, CA  37775399 -122432491   \n",
       "15076156             1533 Sutter St, San Francisco, CA  37786658 -122426481   \n",
       "\n",
       "           IsAStudio  Beds     ...        Size  SizeUnit LotSize  LotSizeUnit  \\\n",
       "ID                             ...                                              \n",
       "15145720       False   4.0     ...      3500.0      sqft  4165.0         sqft   \n",
       "119684777      False   4.0     ...      3006.0      sqft     NaN          NaN   \n",
       "15181209       False   3.0     ...      2032.0      sqft  1913.0         sqft   \n",
       "82785514       False   3.0     ...      2300.0      sqft     NaN          NaN   \n",
       "15078866       False   NaN     ...      2430.0      sqft  3781.0         sqft   \n",
       "2122992200      True   NaN     ...      3655.0      sqft     NaN          NaN   \n",
       "15084954       False   2.0     ...      1515.0      sqft     NaN          NaN   \n",
       "15078536       False   2.0     ...      1593.0      sqft     NaN          NaN   \n",
       "15076156       False   6.0     ...      7375.0      sqft  2748.0         sqft   \n",
       "\n",
       "           BuiltInYear  \n",
       "ID                      \n",
       "15145720        1872.0  \n",
       "119684777       1885.0  \n",
       "15181209        1892.0  \n",
       "82785514        1890.0  \n",
       "15078866        1890.0  \n",
       "2122992200      1883.0  \n",
       "15084954        1895.0  \n",
       "15078536        1895.0  \n",
       "15076156        1890.0  \n",
       "\n",
       "[9 rows x 11 columns]"
      ]
     },
     "execution_count": 39,
     "metadata": {},
     "output_type": "execute_result"
    }
   ],
   "source": [
    "df[df.BuiltInYear < 1900][df.Size > 1500]"
   ]
  },
  {
   "cell_type": "markdown",
   "metadata": {},
   "source": [
    "(or)"
   ]
  },
  {
   "cell_type": "code",
   "execution_count": 40,
   "metadata": {
    "collapsed": false
   },
   "outputs": [
    {
     "data": {
      "text/html": [
       "<div>\n",
       "<table border=\"1\" class=\"dataframe\">\n",
       "  <thead>\n",
       "    <tr style=\"text-align: right;\">\n",
       "      <th></th>\n",
       "      <th>Address</th>\n",
       "      <th>Latitude</th>\n",
       "      <th>Longitude</th>\n",
       "      <th>IsAStudio</th>\n",
       "      <th>Beds</th>\n",
       "      <th>...</th>\n",
       "      <th>Size</th>\n",
       "      <th>SizeUnit</th>\n",
       "      <th>LotSize</th>\n",
       "      <th>LotSizeUnit</th>\n",
       "      <th>BuiltInYear</th>\n",
       "    </tr>\n",
       "    <tr>\n",
       "      <th>ID</th>\n",
       "      <th></th>\n",
       "      <th></th>\n",
       "      <th></th>\n",
       "      <th></th>\n",
       "      <th></th>\n",
       "      <th></th>\n",
       "      <th></th>\n",
       "      <th></th>\n",
       "      <th></th>\n",
       "      <th></th>\n",
       "      <th></th>\n",
       "    </tr>\n",
       "  </thead>\n",
       "  <tbody>\n",
       "    <tr>\n",
       "      <th>15145720</th>\n",
       "      <td>956 S Van Ness Ave, San Francisco, CA</td>\n",
       "      <td>37757832</td>\n",
       "      <td>-122417139</td>\n",
       "      <td>False</td>\n",
       "      <td>4.0</td>\n",
       "      <td>...</td>\n",
       "      <td>3500.0</td>\n",
       "      <td>sqft</td>\n",
       "      <td>4165.0</td>\n",
       "      <td>sqft</td>\n",
       "      <td>1872.0</td>\n",
       "    </tr>\n",
       "    <tr>\n",
       "      <th>119684777</th>\n",
       "      <td>967 Hayes St, San Francisco, CA</td>\n",
       "      <td>37775645</td>\n",
       "      <td>-122432222</td>\n",
       "      <td>False</td>\n",
       "      <td>4.0</td>\n",
       "      <td>...</td>\n",
       "      <td>3006.0</td>\n",
       "      <td>sqft</td>\n",
       "      <td>NaN</td>\n",
       "      <td>NaN</td>\n",
       "      <td>1885.0</td>\n",
       "    </tr>\n",
       "    <tr>\n",
       "      <th>15181209</th>\n",
       "      <td>1001 Diamond St # 1001A, San Francisco, CA</td>\n",
       "      <td>37749461</td>\n",
       "      <td>-122435844</td>\n",
       "      <td>False</td>\n",
       "      <td>3.0</td>\n",
       "      <td>...</td>\n",
       "      <td>2032.0</td>\n",
       "      <td>sqft</td>\n",
       "      <td>1913.0</td>\n",
       "      <td>sqft</td>\n",
       "      <td>1892.0</td>\n",
       "    </tr>\n",
       "    <tr>\n",
       "      <th>82785514</th>\n",
       "      <td>1394 Mcallister St, San Francisco, CA</td>\n",
       "      <td>37778463</td>\n",
       "      <td>-122434933</td>\n",
       "      <td>False</td>\n",
       "      <td>3.0</td>\n",
       "      <td>...</td>\n",
       "      <td>2300.0</td>\n",
       "      <td>sqft</td>\n",
       "      <td>NaN</td>\n",
       "      <td>NaN</td>\n",
       "      <td>1890.0</td>\n",
       "    </tr>\n",
       "    <tr>\n",
       "      <th>15078866</th>\n",
       "      <td>753-755 Oak St, San Francisco, CA</td>\n",
       "      <td>37773576</td>\n",
       "      <td>-122431663</td>\n",
       "      <td>False</td>\n",
       "      <td>NaN</td>\n",
       "      <td>...</td>\n",
       "      <td>2430.0</td>\n",
       "      <td>sqft</td>\n",
       "      <td>3781.0</td>\n",
       "      <td>sqft</td>\n",
       "      <td>1890.0</td>\n",
       "    </tr>\n",
       "    <tr>\n",
       "      <th>2122992200</th>\n",
       "      <td>129 Octavia St, San Francisco, CA</td>\n",
       "      <td>37773192</td>\n",
       "      <td>-122424037</td>\n",
       "      <td>True</td>\n",
       "      <td>NaN</td>\n",
       "      <td>...</td>\n",
       "      <td>3655.0</td>\n",
       "      <td>sqft</td>\n",
       "      <td>NaN</td>\n",
       "      <td>NaN</td>\n",
       "      <td>1883.0</td>\n",
       "    </tr>\n",
       "    <tr>\n",
       "      <th>15084954</th>\n",
       "      <td>1954 Golden Gate Ave, San Francisco, CA</td>\n",
       "      <td>37778420</td>\n",
       "      <td>-122443073</td>\n",
       "      <td>False</td>\n",
       "      <td>2.0</td>\n",
       "      <td>...</td>\n",
       "      <td>1515.0</td>\n",
       "      <td>sqft</td>\n",
       "      <td>NaN</td>\n",
       "      <td>NaN</td>\n",
       "      <td>1895.0</td>\n",
       "    </tr>\n",
       "    <tr>\n",
       "      <th>15078536</th>\n",
       "      <td>640 Steiner St, San Francisco, CA</td>\n",
       "      <td>37775399</td>\n",
       "      <td>-122432491</td>\n",
       "      <td>False</td>\n",
       "      <td>2.0</td>\n",
       "      <td>...</td>\n",
       "      <td>1593.0</td>\n",
       "      <td>sqft</td>\n",
       "      <td>NaN</td>\n",
       "      <td>NaN</td>\n",
       "      <td>1895.0</td>\n",
       "    </tr>\n",
       "    <tr>\n",
       "      <th>15076156</th>\n",
       "      <td>1533 Sutter St, San Francisco, CA</td>\n",
       "      <td>37786658</td>\n",
       "      <td>-122426481</td>\n",
       "      <td>False</td>\n",
       "      <td>6.0</td>\n",
       "      <td>...</td>\n",
       "      <td>7375.0</td>\n",
       "      <td>sqft</td>\n",
       "      <td>2748.0</td>\n",
       "      <td>sqft</td>\n",
       "      <td>1890.0</td>\n",
       "    </tr>\n",
       "  </tbody>\n",
       "</table>\n",
       "<p>9 rows × 11 columns</p>\n",
       "</div>"
      ],
      "text/plain": [
       "                                               Address  Latitude  Longitude  \\\n",
       "ID                                                                            \n",
       "15145720         956 S Van Ness Ave, San Francisco, CA  37757832 -122417139   \n",
       "119684777              967 Hayes St, San Francisco, CA  37775645 -122432222   \n",
       "15181209    1001 Diamond St # 1001A, San Francisco, CA  37749461 -122435844   \n",
       "82785514         1394 Mcallister St, San Francisco, CA  37778463 -122434933   \n",
       "15078866             753-755 Oak St, San Francisco, CA  37773576 -122431663   \n",
       "2122992200           129 Octavia St, San Francisco, CA  37773192 -122424037   \n",
       "15084954       1954 Golden Gate Ave, San Francisco, CA  37778420 -122443073   \n",
       "15078536             640 Steiner St, San Francisco, CA  37775399 -122432491   \n",
       "15076156             1533 Sutter St, San Francisco, CA  37786658 -122426481   \n",
       "\n",
       "           IsAStudio  Beds     ...        Size  SizeUnit LotSize  LotSizeUnit  \\\n",
       "ID                             ...                                              \n",
       "15145720       False   4.0     ...      3500.0      sqft  4165.0         sqft   \n",
       "119684777      False   4.0     ...      3006.0      sqft     NaN          NaN   \n",
       "15181209       False   3.0     ...      2032.0      sqft  1913.0         sqft   \n",
       "82785514       False   3.0     ...      2300.0      sqft     NaN          NaN   \n",
       "15078866       False   NaN     ...      2430.0      sqft  3781.0         sqft   \n",
       "2122992200      True   NaN     ...      3655.0      sqft     NaN          NaN   \n",
       "15084954       False   2.0     ...      1515.0      sqft     NaN          NaN   \n",
       "15078536       False   2.0     ...      1593.0      sqft     NaN          NaN   \n",
       "15076156       False   6.0     ...      7375.0      sqft  2748.0         sqft   \n",
       "\n",
       "           BuiltInYear  \n",
       "ID                      \n",
       "15145720        1872.0  \n",
       "119684777       1885.0  \n",
       "15181209        1892.0  \n",
       "82785514        1890.0  \n",
       "15078866        1890.0  \n",
       "2122992200      1883.0  \n",
       "15084954        1895.0  \n",
       "15078536        1895.0  \n",
       "15076156        1890.0  \n",
       "\n",
       "[9 rows x 11 columns]"
      ]
     },
     "execution_count": 40,
     "metadata": {},
     "output_type": "execute_result"
    }
   ],
   "source": [
    "df[(df.BuiltInYear < 1900) & (df.Size > 1500)]"
   ]
  },
  {
   "cell_type": "markdown",
   "metadata": {},
   "source": [
    "It is possible to subset on columns simultaneously."
   ]
  },
  {
   "cell_type": "markdown",
   "metadata": {},
   "source": [
    "> E.g., subset (a `DataFrame`) on `Address` for `BuiltInYear` below 1900 and `Size` over 1500:"
   ]
  },
  {
   "cell_type": "code",
   "execution_count": 41,
   "metadata": {
    "collapsed": false
   },
   "outputs": [
    {
     "data": {
      "text/html": [
       "<div>\n",
       "<table border=\"1\" class=\"dataframe\">\n",
       "  <thead>\n",
       "    <tr style=\"text-align: right;\">\n",
       "      <th></th>\n",
       "      <th>Address</th>\n",
       "    </tr>\n",
       "    <tr>\n",
       "      <th>ID</th>\n",
       "      <th></th>\n",
       "    </tr>\n",
       "  </thead>\n",
       "  <tbody>\n",
       "    <tr>\n",
       "      <th>15145720</th>\n",
       "      <td>956 S Van Ness Ave, San Francisco, CA</td>\n",
       "    </tr>\n",
       "    <tr>\n",
       "      <th>119684777</th>\n",
       "      <td>967 Hayes St, San Francisco, CA</td>\n",
       "    </tr>\n",
       "    <tr>\n",
       "      <th>15181209</th>\n",
       "      <td>1001 Diamond St # 1001A, San Francisco, CA</td>\n",
       "    </tr>\n",
       "    <tr>\n",
       "      <th>82785514</th>\n",
       "      <td>1394 Mcallister St, San Francisco, CA</td>\n",
       "    </tr>\n",
       "    <tr>\n",
       "      <th>15078866</th>\n",
       "      <td>753-755 Oak St, San Francisco, CA</td>\n",
       "    </tr>\n",
       "    <tr>\n",
       "      <th>2122992200</th>\n",
       "      <td>129 Octavia St, San Francisco, CA</td>\n",
       "    </tr>\n",
       "    <tr>\n",
       "      <th>15084954</th>\n",
       "      <td>1954 Golden Gate Ave, San Francisco, CA</td>\n",
       "    </tr>\n",
       "    <tr>\n",
       "      <th>15078536</th>\n",
       "      <td>640 Steiner St, San Francisco, CA</td>\n",
       "    </tr>\n",
       "    <tr>\n",
       "      <th>15076156</th>\n",
       "      <td>1533 Sutter St, San Francisco, CA</td>\n",
       "    </tr>\n",
       "  </tbody>\n",
       "</table>\n",
       "</div>"
      ],
      "text/plain": [
       "                                               Address\n",
       "ID                                                    \n",
       "15145720         956 S Van Ness Ave, San Francisco, CA\n",
       "119684777              967 Hayes St, San Francisco, CA\n",
       "15181209    1001 Diamond St # 1001A, San Francisco, CA\n",
       "82785514         1394 Mcallister St, San Francisco, CA\n",
       "15078866             753-755 Oak St, San Francisco, CA\n",
       "2122992200           129 Octavia St, San Francisco, CA\n",
       "15084954       1954 Golden Gate Ave, San Francisco, CA\n",
       "15078536             640 Steiner St, San Francisco, CA\n",
       "15076156             1533 Sutter St, San Francisco, CA"
      ]
     },
     "execution_count": 41,
     "metadata": {},
     "output_type": "execute_result"
    }
   ],
   "source": [
    "df[(df.BuiltInYear < 1900) & (df.Size > 1500)][ ['Address'] ]"
   ]
  },
  {
   "cell_type": "markdown",
   "metadata": {},
   "source": [
    "> To get a `Series` instead of a `DataFrame`:"
   ]
  },
  {
   "cell_type": "code",
   "execution_count": 42,
   "metadata": {
    "collapsed": false
   },
   "outputs": [
    {
     "data": {
      "text/plain": [
       "ID\n",
       "15145720           956 S Van Ness Ave, San Francisco, CA\n",
       "119684777                967 Hayes St, San Francisco, CA\n",
       "15181209      1001 Diamond St # 1001A, San Francisco, CA\n",
       "82785514           1394 Mcallister St, San Francisco, CA\n",
       "15078866               753-755 Oak St, San Francisco, CA\n",
       "2122992200             129 Octavia St, San Francisco, CA\n",
       "15084954         1954 Golden Gate Ave, San Francisco, CA\n",
       "15078536               640 Steiner St, San Francisco, CA\n",
       "15076156               1533 Sutter St, San Francisco, CA\n",
       "Name: Address, dtype: object"
      ]
     },
     "execution_count": 42,
     "metadata": {},
     "output_type": "execute_result"
    }
   ],
   "source": [
    "df[(df.BuiltInYear < 1900) & (df.Size > 1500)]['Address']"
   ]
  },
  {
   "cell_type": "markdown",
   "metadata": {},
   "source": [
    "(or)"
   ]
  },
  {
   "cell_type": "code",
   "execution_count": 43,
   "metadata": {
    "collapsed": false
   },
   "outputs": [
    {
     "data": {
      "text/plain": [
       "ID\n",
       "15145720           956 S Van Ness Ave, San Francisco, CA\n",
       "119684777                967 Hayes St, San Francisco, CA\n",
       "15181209      1001 Diamond St # 1001A, San Francisco, CA\n",
       "82785514           1394 Mcallister St, San Francisco, CA\n",
       "15078866               753-755 Oak St, San Francisco, CA\n",
       "2122992200             129 Octavia St, San Francisco, CA\n",
       "15084954         1954 Golden Gate Ave, San Francisco, CA\n",
       "15078536               640 Steiner St, San Francisco, CA\n",
       "15076156               1533 Sutter St, San Francisco, CA\n",
       "Name: Address, dtype: object"
      ]
     },
     "execution_count": 43,
     "metadata": {},
     "output_type": "execute_result"
    }
   ],
   "source": [
    "df[(df.BuiltInYear < 1900) & (df.Size > 1500)].Address"
   ]
  },
  {
   "cell_type": "markdown",
   "metadata": {},
   "source": [
    "## Part B | Wrangling the SF Housing dataset (take 2) with `pandas`"
   ]
  },
  {
   "cell_type": "code",
   "execution_count": 44,
   "metadata": {
    "collapsed": true
   },
   "outputs": [],
   "source": [
    "properties_df = pd.read_csv(os.path.join('..', 'datasets', 'dataset-03-zillow-properties.csv'), index_col = 'ID')\n",
    "transactions_df = pd.read_csv(os.path.join('..', 'datasets', 'dataset-03-zillow-transactions.csv'), index_col = 'ID')"
   ]
  },
  {
   "cell_type": "markdown",
   "metadata": {},
   "source": [
    "(`pd.read_csv` can load the dataset and set the index column for the `DataFrame` at the same time)"
   ]
  },
  {
   "cell_type": "code",
   "execution_count": 45,
   "metadata": {
    "collapsed": false
   },
   "outputs": [
    {
     "data": {
      "text/html": [
       "<div>\n",
       "<table border=\"1\" class=\"dataframe\">\n",
       "  <thead>\n",
       "    <tr style=\"text-align: right;\">\n",
       "      <th></th>\n",
       "      <th>Address</th>\n",
       "      <th>Latitude</th>\n",
       "      <th>Longitude</th>\n",
       "      <th>IsAStudio</th>\n",
       "      <th>Beds</th>\n",
       "      <th>...</th>\n",
       "      <th>Size</th>\n",
       "      <th>SizeUnit</th>\n",
       "      <th>LotSize</th>\n",
       "      <th>LotSizeUnit</th>\n",
       "      <th>BuiltInYear</th>\n",
       "    </tr>\n",
       "    <tr>\n",
       "      <th>ID</th>\n",
       "      <th></th>\n",
       "      <th></th>\n",
       "      <th></th>\n",
       "      <th></th>\n",
       "      <th></th>\n",
       "      <th></th>\n",
       "      <th></th>\n",
       "      <th></th>\n",
       "      <th></th>\n",
       "      <th></th>\n",
       "      <th></th>\n",
       "    </tr>\n",
       "  </thead>\n",
       "  <tbody>\n",
       "    <tr>\n",
       "      <th>2121978635</th>\n",
       "      <td>829 Folsom St UNIT 906, San Francisco, CA</td>\n",
       "      <td>37781429</td>\n",
       "      <td>-122401860</td>\n",
       "      <td>False</td>\n",
       "      <td>1.0</td>\n",
       "      <td>...</td>\n",
       "      <td>557.0</td>\n",
       "      <td>sqft</td>\n",
       "      <td>NaN</td>\n",
       "      <td>NaN</td>\n",
       "      <td>2010.0</td>\n",
       "    </tr>\n",
       "    <tr>\n",
       "      <th>89239580</th>\n",
       "      <td>690 Market St UNIT 1705, San Francisco, CA</td>\n",
       "      <td>37788246</td>\n",
       "      <td>-122403198</td>\n",
       "      <td>False</td>\n",
       "      <td>2.0</td>\n",
       "      <td>...</td>\n",
       "      <td>1050.0</td>\n",
       "      <td>sqft</td>\n",
       "      <td>NaN</td>\n",
       "      <td>NaN</td>\n",
       "      <td>2007.0</td>\n",
       "    </tr>\n",
       "    <tr>\n",
       "      <th>15131782</th>\n",
       "      <td>401 Grand View Ave APT 3, San Francisco, CA</td>\n",
       "      <td>37752157</td>\n",
       "      <td>-122442356</td>\n",
       "      <td>False</td>\n",
       "      <td>2.0</td>\n",
       "      <td>...</td>\n",
       "      <td>937.0</td>\n",
       "      <td>sqft</td>\n",
       "      <td>NaN</td>\n",
       "      <td>NaN</td>\n",
       "      <td>1983.0</td>\n",
       "    </tr>\n",
       "    <tr>\n",
       "      <th>15179502</th>\n",
       "      <td>250 Concord St, San Francisco, CA</td>\n",
       "      <td>37710141</td>\n",
       "      <td>-122442063</td>\n",
       "      <td>False</td>\n",
       "      <td>4.0</td>\n",
       "      <td>...</td>\n",
       "      <td>1574.0</td>\n",
       "      <td>sqft</td>\n",
       "      <td>1947.0</td>\n",
       "      <td>sqft</td>\n",
       "      <td>1959.0</td>\n",
       "    </tr>\n",
       "    <tr>\n",
       "      <th>52266124</th>\n",
       "      <td>88 King St APT 317, San Francisco, CA</td>\n",
       "      <td>37780630</td>\n",
       "      <td>-122389635</td>\n",
       "      <td>False</td>\n",
       "      <td>2.0</td>\n",
       "      <td>...</td>\n",
       "      <td>1205.0</td>\n",
       "      <td>sqft</td>\n",
       "      <td>NaN</td>\n",
       "      <td>NaN</td>\n",
       "      <td>2000.0</td>\n",
       "    </tr>\n",
       "  </tbody>\n",
       "</table>\n",
       "<p>5 rows × 11 columns</p>\n",
       "</div>"
      ],
      "text/plain": [
       "                                                Address  Latitude  Longitude  \\\n",
       "ID                                                                             \n",
       "2121978635    829 Folsom St UNIT 906, San Francisco, CA  37781429 -122401860   \n",
       "89239580     690 Market St UNIT 1705, San Francisco, CA  37788246 -122403198   \n",
       "15131782    401 Grand View Ave APT 3, San Francisco, CA  37752157 -122442356   \n",
       "15179502              250 Concord St, San Francisco, CA  37710141 -122442063   \n",
       "52266124          88 King St APT 317, San Francisco, CA  37780630 -122389635   \n",
       "\n",
       "           IsAStudio  Beds     ...        Size  SizeUnit LotSize  LotSizeUnit  \\\n",
       "ID                             ...                                              \n",
       "2121978635     False   1.0     ...       557.0      sqft     NaN          NaN   \n",
       "89239580       False   2.0     ...      1050.0      sqft     NaN          NaN   \n",
       "15131782       False   2.0     ...       937.0      sqft     NaN          NaN   \n",
       "15179502       False   4.0     ...      1574.0      sqft  1947.0         sqft   \n",
       "52266124       False   2.0     ...      1205.0      sqft     NaN          NaN   \n",
       "\n",
       "           BuiltInYear  \n",
       "ID                      \n",
       "2121978635      2010.0  \n",
       "89239580        2007.0  \n",
       "15131782        1983.0  \n",
       "15179502        1959.0  \n",
       "52266124        2000.0  \n",
       "\n",
       "[5 rows x 11 columns]"
      ]
     },
     "execution_count": 45,
     "metadata": {},
     "output_type": "execute_result"
    }
   ],
   "source": [
    "properties_df.head()"
   ]
  },
  {
   "cell_type": "code",
   "execution_count": 46,
   "metadata": {
    "collapsed": false
   },
   "outputs": [
    {
     "data": {
      "text/html": [
       "<div>\n",
       "<table border=\"1\" class=\"dataframe\">\n",
       "  <thead>\n",
       "    <tr style=\"text-align: right;\">\n",
       "      <th></th>\n",
       "      <th>DateOfSale</th>\n",
       "      <th>SalePrice</th>\n",
       "      <th>SalePriceUnit</th>\n",
       "    </tr>\n",
       "    <tr>\n",
       "      <th>ID</th>\n",
       "      <th></th>\n",
       "      <th></th>\n",
       "      <th></th>\n",
       "    </tr>\n",
       "  </thead>\n",
       "  <tbody>\n",
       "    <tr>\n",
       "      <th>15165953</th>\n",
       "      <td>1/5/16</td>\n",
       "      <td>650000.00</td>\n",
       "      <td>$</td>\n",
       "    </tr>\n",
       "    <tr>\n",
       "      <th>80749447</th>\n",
       "      <td>11/10/15</td>\n",
       "      <td>1.15</td>\n",
       "      <td>$M</td>\n",
       "    </tr>\n",
       "    <tr>\n",
       "      <th>15155751</th>\n",
       "      <td>11/10/15</td>\n",
       "      <td>665000.00</td>\n",
       "      <td>$</td>\n",
       "    </tr>\n",
       "    <tr>\n",
       "      <th>15143887</th>\n",
       "      <td>12/31/15</td>\n",
       "      <td>2.10</td>\n",
       "      <td>$M</td>\n",
       "    </tr>\n",
       "    <tr>\n",
       "      <th>15117639</th>\n",
       "      <td>12/23/15</td>\n",
       "      <td>1.35</td>\n",
       "      <td>$M</td>\n",
       "    </tr>\n",
       "  </tbody>\n",
       "</table>\n",
       "</div>"
      ],
      "text/plain": [
       "         DateOfSale  SalePrice SalePriceUnit\n",
       "ID                                          \n",
       "15165953     1/5/16  650000.00             $\n",
       "80749447   11/10/15       1.15            $M\n",
       "15155751   11/10/15  665000.00             $\n",
       "15143887   12/31/15       2.10            $M\n",
       "15117639   12/23/15       1.35            $M"
      ]
     },
     "execution_count": 46,
     "metadata": {},
     "output_type": "execute_result"
    }
   ],
   "source": [
    "transactions_df.head()"
   ]
  },
  {
   "cell_type": "markdown",
   "metadata": {},
   "source": [
    "> ### Merge both `DataFrames`"
   ]
  },
  {
   "cell_type": "markdown",
   "metadata": {},
   "source": [
    "(https://pandas.pydata.org/pandas-docs/stable/generated/pandas.DataFrame.merge.html)"
   ]
  },
  {
   "cell_type": "code",
   "execution_count": 47,
   "metadata": {
    "collapsed": true
   },
   "outputs": [],
   "source": [
    "df = properties_df.merge(transactions_df,  left_index = True, right_index = True)"
   ]
  },
  {
   "cell_type": "code",
   "execution_count": 48,
   "metadata": {
    "collapsed": false
   },
   "outputs": [
    {
     "data": {
      "text/plain": [
       "Index([u'Address', u'Latitude', u'Longitude', u'IsAStudio', u'Beds', u'Baths',\n",
       "       u'Size', u'SizeUnit', u'LotSize', u'LotSizeUnit', u'BuiltInYear',\n",
       "       u'DateOfSale', u'SalePrice', u'SalePriceUnit'],\n",
       "      dtype='object')"
      ]
     },
     "execution_count": 48,
     "metadata": {},
     "output_type": "execute_result"
    }
   ],
   "source": [
    "df.columns"
   ]
  },
  {
   "cell_type": "code",
   "execution_count": 49,
   "metadata": {
    "collapsed": false
   },
   "outputs": [
    {
     "data": {
      "text/html": [
       "<div>\n",
       "<table border=\"1\" class=\"dataframe\">\n",
       "  <thead>\n",
       "    <tr style=\"text-align: right;\">\n",
       "      <th></th>\n",
       "      <th>Address</th>\n",
       "      <th>Latitude</th>\n",
       "      <th>Longitude</th>\n",
       "      <th>IsAStudio</th>\n",
       "      <th>Beds</th>\n",
       "      <th>...</th>\n",
       "      <th>LotSizeUnit</th>\n",
       "      <th>BuiltInYear</th>\n",
       "      <th>DateOfSale</th>\n",
       "      <th>SalePrice</th>\n",
       "      <th>SalePriceUnit</th>\n",
       "    </tr>\n",
       "    <tr>\n",
       "      <th>ID</th>\n",
       "      <th></th>\n",
       "      <th></th>\n",
       "      <th></th>\n",
       "      <th></th>\n",
       "      <th></th>\n",
       "      <th></th>\n",
       "      <th></th>\n",
       "      <th></th>\n",
       "      <th></th>\n",
       "      <th></th>\n",
       "      <th></th>\n",
       "    </tr>\n",
       "  </thead>\n",
       "  <tbody>\n",
       "    <tr>\n",
       "      <th>15165953</th>\n",
       "      <td>14 Stoneyford Ave, San Francisco, CA</td>\n",
       "      <td>37730923</td>\n",
       "      <td>-122421186</td>\n",
       "      <td>False</td>\n",
       "      <td>3.0</td>\n",
       "      <td>...</td>\n",
       "      <td>sqft</td>\n",
       "      <td>1942.0</td>\n",
       "      <td>1/5/16</td>\n",
       "      <td>650000.00</td>\n",
       "      <td>$</td>\n",
       "    </tr>\n",
       "    <tr>\n",
       "      <th>80749447</th>\n",
       "      <td>199 New Montgomery St UNIT 1201, San Francisco...</td>\n",
       "      <td>37786632</td>\n",
       "      <td>-122399101</td>\n",
       "      <td>False</td>\n",
       "      <td>2.0</td>\n",
       "      <td>...</td>\n",
       "      <td>NaN</td>\n",
       "      <td>2004.0</td>\n",
       "      <td>11/10/15</td>\n",
       "      <td>1.15</td>\n",
       "      <td>$M</td>\n",
       "    </tr>\n",
       "    <tr>\n",
       "      <th>15155751</th>\n",
       "      <td>1546 Innes Ave, San Francisco, CA</td>\n",
       "      <td>37739068</td>\n",
       "      <td>-122387681</td>\n",
       "      <td>False</td>\n",
       "      <td>2.0</td>\n",
       "      <td>...</td>\n",
       "      <td>sqft</td>\n",
       "      <td>1938.0</td>\n",
       "      <td>11/10/15</td>\n",
       "      <td>665000.00</td>\n",
       "      <td>$</td>\n",
       "    </tr>\n",
       "    <tr>\n",
       "      <th>15143887</th>\n",
       "      <td>3065-3069 16TH St, San Francisco, CA</td>\n",
       "      <td>37764699</td>\n",
       "      <td>-122420993</td>\n",
       "      <td>False</td>\n",
       "      <td>NaN</td>\n",
       "      <td>...</td>\n",
       "      <td>sqft</td>\n",
       "      <td>1909.0</td>\n",
       "      <td>12/31/15</td>\n",
       "      <td>2.10</td>\n",
       "      <td>$M</td>\n",
       "    </tr>\n",
       "    <tr>\n",
       "      <th>15117639</th>\n",
       "      <td>2195 28th Ave, San Francisco, CA</td>\n",
       "      <td>37746487</td>\n",
       "      <td>-122485890</td>\n",
       "      <td>False</td>\n",
       "      <td>4.0</td>\n",
       "      <td>...</td>\n",
       "      <td>sqft</td>\n",
       "      <td>1939.0</td>\n",
       "      <td>12/23/15</td>\n",
       "      <td>1.35</td>\n",
       "      <td>$M</td>\n",
       "    </tr>\n",
       "    <tr>\n",
       "      <th>...</th>\n",
       "      <td>...</td>\n",
       "      <td>...</td>\n",
       "      <td>...</td>\n",
       "      <td>...</td>\n",
       "      <td>...</td>\n",
       "      <td>...</td>\n",
       "      <td>...</td>\n",
       "      <td>...</td>\n",
       "      <td>...</td>\n",
       "      <td>...</td>\n",
       "      <td>...</td>\n",
       "    </tr>\n",
       "    <tr>\n",
       "      <th>69819708</th>\n",
       "      <td>260 King St UNIT 421, San Francisco, CA</td>\n",
       "      <td>37777641</td>\n",
       "      <td>-122393417</td>\n",
       "      <td>False</td>\n",
       "      <td>1.0</td>\n",
       "      <td>...</td>\n",
       "      <td>NaN</td>\n",
       "      <td>2004.0</td>\n",
       "      <td>12/15/15</td>\n",
       "      <td>731000.00</td>\n",
       "      <td>$</td>\n",
       "    </tr>\n",
       "    <tr>\n",
       "      <th>15076156</th>\n",
       "      <td>1533 Sutter St, San Francisco, CA</td>\n",
       "      <td>37786658</td>\n",
       "      <td>-122426481</td>\n",
       "      <td>False</td>\n",
       "      <td>6.0</td>\n",
       "      <td>...</td>\n",
       "      <td>sqft</td>\n",
       "      <td>1890.0</td>\n",
       "      <td>11/12/15</td>\n",
       "      <td>5.53</td>\n",
       "      <td>$M</td>\n",
       "    </tr>\n",
       "    <tr>\n",
       "      <th>119685619</th>\n",
       "      <td>23 Rodgers St, San Francisco, CA</td>\n",
       "      <td>37775309</td>\n",
       "      <td>-122409205</td>\n",
       "      <td>False</td>\n",
       "      <td>1.0</td>\n",
       "      <td>...</td>\n",
       "      <td>NaN</td>\n",
       "      <td>1908.0</td>\n",
       "      <td>12/21/15</td>\n",
       "      <td>625000.00</td>\n",
       "      <td>$</td>\n",
       "    </tr>\n",
       "    <tr>\n",
       "      <th>15113584</th>\n",
       "      <td>1858 47th Ave, San Francisco, CA</td>\n",
       "      <td>37751825</td>\n",
       "      <td>-122506072</td>\n",
       "      <td>False</td>\n",
       "      <td>3.0</td>\n",
       "      <td>...</td>\n",
       "      <td>sqft</td>\n",
       "      <td>1958.0</td>\n",
       "      <td>12/21/15</td>\n",
       "      <td>895000.00</td>\n",
       "      <td>$</td>\n",
       "    </tr>\n",
       "    <tr>\n",
       "      <th>15068874</th>\n",
       "      <td>1001 Pine St APT 801, San Francisco, CA</td>\n",
       "      <td>37790348</td>\n",
       "      <td>-122412568</td>\n",
       "      <td>False</td>\n",
       "      <td>NaN</td>\n",
       "      <td>...</td>\n",
       "      <td>NaN</td>\n",
       "      <td>1963.0</td>\n",
       "      <td>12/24/15</td>\n",
       "      <td>650000.00</td>\n",
       "      <td>$</td>\n",
       "    </tr>\n",
       "  </tbody>\n",
       "</table>\n",
       "<p>1000 rows × 14 columns</p>\n",
       "</div>"
      ],
      "text/plain": [
       "                                                     Address  Latitude  \\\n",
       "ID                                                                       \n",
       "15165953                14 Stoneyford Ave, San Francisco, CA  37730923   \n",
       "80749447   199 New Montgomery St UNIT 1201, San Francisco...  37786632   \n",
       "15155751                   1546 Innes Ave, San Francisco, CA  37739068   \n",
       "15143887                3065-3069 16TH St, San Francisco, CA  37764699   \n",
       "15117639                    2195 28th Ave, San Francisco, CA  37746487   \n",
       "...                                                      ...       ...   \n",
       "69819708             260 King St UNIT 421, San Francisco, CA  37777641   \n",
       "15076156                   1533 Sutter St, San Francisco, CA  37786658   \n",
       "119685619                   23 Rodgers St, San Francisco, CA  37775309   \n",
       "15113584                    1858 47th Ave, San Francisco, CA  37751825   \n",
       "15068874             1001 Pine St APT 801, San Francisco, CA  37790348   \n",
       "\n",
       "           Longitude IsAStudio  Beds      ...       LotSizeUnit  BuiltInYear  \\\n",
       "ID                                        ...                                  \n",
       "15165953  -122421186     False   3.0      ...              sqft       1942.0   \n",
       "80749447  -122399101     False   2.0      ...               NaN       2004.0   \n",
       "15155751  -122387681     False   2.0      ...              sqft       1938.0   \n",
       "15143887  -122420993     False   NaN      ...              sqft       1909.0   \n",
       "15117639  -122485890     False   4.0      ...              sqft       1939.0   \n",
       "...              ...       ...   ...      ...               ...          ...   \n",
       "69819708  -122393417     False   1.0      ...               NaN       2004.0   \n",
       "15076156  -122426481     False   6.0      ...              sqft       1890.0   \n",
       "119685619 -122409205     False   1.0      ...               NaN       1908.0   \n",
       "15113584  -122506072     False   3.0      ...              sqft       1958.0   \n",
       "15068874  -122412568     False   NaN      ...               NaN       1963.0   \n",
       "\n",
       "          DateOfSale  SalePrice SalePriceUnit  \n",
       "ID                                             \n",
       "15165953      1/5/16  650000.00             $  \n",
       "80749447    11/10/15       1.15            $M  \n",
       "15155751    11/10/15  665000.00             $  \n",
       "15143887    12/31/15       2.10            $M  \n",
       "15117639    12/23/15       1.35            $M  \n",
       "...              ...        ...           ...  \n",
       "69819708    12/15/15  731000.00             $  \n",
       "15076156    11/12/15       5.53            $M  \n",
       "119685619   12/21/15  625000.00             $  \n",
       "15113584    12/21/15  895000.00             $  \n",
       "15068874    12/24/15  650000.00             $  \n",
       "\n",
       "[1000 rows x 14 columns]"
      ]
     },
     "execution_count": 49,
     "metadata": {},
     "output_type": "execute_result"
    }
   ],
   "source": [
    "df"
   ]
  },
  {
   "cell_type": "markdown",
   "metadata": {},
   "source": [
    "> ### Sort rows by increasing ID"
   ]
  },
  {
   "cell_type": "markdown",
   "metadata": {},
   "source": [
    "(https://pandas.pydata.org/pandas-docs/stable/generated/pandas.DataFrame.sort_index.html)"
   ]
  },
  {
   "cell_type": "code",
   "execution_count": 50,
   "metadata": {
    "collapsed": true
   },
   "outputs": [],
   "source": [
    "df.sort_index(inplace = True)"
   ]
  },
  {
   "cell_type": "code",
   "execution_count": 51,
   "metadata": {
    "collapsed": false
   },
   "outputs": [
    {
     "data": {
      "text/html": [
       "<div>\n",
       "<table border=\"1\" class=\"dataframe\">\n",
       "  <thead>\n",
       "    <tr style=\"text-align: right;\">\n",
       "      <th></th>\n",
       "      <th>Address</th>\n",
       "      <th>Latitude</th>\n",
       "      <th>Longitude</th>\n",
       "      <th>IsAStudio</th>\n",
       "      <th>Beds</th>\n",
       "      <th>...</th>\n",
       "      <th>LotSizeUnit</th>\n",
       "      <th>BuiltInYear</th>\n",
       "      <th>DateOfSale</th>\n",
       "      <th>SalePrice</th>\n",
       "      <th>SalePriceUnit</th>\n",
       "    </tr>\n",
       "    <tr>\n",
       "      <th>ID</th>\n",
       "      <th></th>\n",
       "      <th></th>\n",
       "      <th></th>\n",
       "      <th></th>\n",
       "      <th></th>\n",
       "      <th></th>\n",
       "      <th></th>\n",
       "      <th></th>\n",
       "      <th></th>\n",
       "      <th></th>\n",
       "      <th></th>\n",
       "    </tr>\n",
       "  </thead>\n",
       "  <tbody>\n",
       "    <tr>\n",
       "      <th>15063471</th>\n",
       "      <td>55 Vandewater St APT 9, San Francisco, CA</td>\n",
       "      <td>37805103</td>\n",
       "      <td>-122412856</td>\n",
       "      <td>False</td>\n",
       "      <td>1.0</td>\n",
       "      <td>...</td>\n",
       "      <td>NaN</td>\n",
       "      <td>1980.0</td>\n",
       "      <td>12/4/15</td>\n",
       "      <td>710000.00</td>\n",
       "      <td>$</td>\n",
       "    </tr>\n",
       "    <tr>\n",
       "      <th>15063505</th>\n",
       "      <td>740 Francisco St, San Francisco, CA</td>\n",
       "      <td>37804420</td>\n",
       "      <td>-122417389</td>\n",
       "      <td>False</td>\n",
       "      <td>NaN</td>\n",
       "      <td>...</td>\n",
       "      <td>sqft</td>\n",
       "      <td>1948.0</td>\n",
       "      <td>11/30/15</td>\n",
       "      <td>2.15</td>\n",
       "      <td>$M</td>\n",
       "    </tr>\n",
       "    <tr>\n",
       "      <th>15063609</th>\n",
       "      <td>819 Francisco St, San Francisco, CA</td>\n",
       "      <td>37803728</td>\n",
       "      <td>-122419055</td>\n",
       "      <td>False</td>\n",
       "      <td>2.0</td>\n",
       "      <td>...</td>\n",
       "      <td>sqft</td>\n",
       "      <td>1976.0</td>\n",
       "      <td>11/12/15</td>\n",
       "      <td>5.60</td>\n",
       "      <td>$M</td>\n",
       "    </tr>\n",
       "    <tr>\n",
       "      <th>15064044</th>\n",
       "      <td>199 Chestnut St APT 5, San Francisco, CA</td>\n",
       "      <td>37804392</td>\n",
       "      <td>-122406590</td>\n",
       "      <td>False</td>\n",
       "      <td>1.0</td>\n",
       "      <td>...</td>\n",
       "      <td>NaN</td>\n",
       "      <td>1930.0</td>\n",
       "      <td>12/11/15</td>\n",
       "      <td>1.50</td>\n",
       "      <td>$M</td>\n",
       "    </tr>\n",
       "    <tr>\n",
       "      <th>15064257</th>\n",
       "      <td>111 Chestnut St APT 403, San Francisco, CA</td>\n",
       "      <td>37804240</td>\n",
       "      <td>-122405509</td>\n",
       "      <td>False</td>\n",
       "      <td>2.0</td>\n",
       "      <td>...</td>\n",
       "      <td>NaN</td>\n",
       "      <td>1993.0</td>\n",
       "      <td>1/15/16</td>\n",
       "      <td>970000.00</td>\n",
       "      <td>$</td>\n",
       "    </tr>\n",
       "    <tr>\n",
       "      <th>...</th>\n",
       "      <td>...</td>\n",
       "      <td>...</td>\n",
       "      <td>...</td>\n",
       "      <td>...</td>\n",
       "      <td>...</td>\n",
       "      <td>...</td>\n",
       "      <td>...</td>\n",
       "      <td>...</td>\n",
       "      <td>...</td>\n",
       "      <td>...</td>\n",
       "      <td>...</td>\n",
       "    </tr>\n",
       "    <tr>\n",
       "      <th>2124214951</th>\n",
       "      <td>412 Green St APT A, San Francisco, CA</td>\n",
       "      <td>37800040</td>\n",
       "      <td>-122406100</td>\n",
       "      <td>True</td>\n",
       "      <td>NaN</td>\n",
       "      <td>...</td>\n",
       "      <td>NaN</td>\n",
       "      <td>2012.0</td>\n",
       "      <td>1/15/16</td>\n",
       "      <td>390000.00</td>\n",
       "      <td>$</td>\n",
       "    </tr>\n",
       "    <tr>\n",
       "      <th>2126960082</th>\n",
       "      <td>355 1st St UNIT 1905, San Francisco, CA</td>\n",
       "      <td>37787029</td>\n",
       "      <td>-122393638</td>\n",
       "      <td>False</td>\n",
       "      <td>1.0</td>\n",
       "      <td>...</td>\n",
       "      <td>NaN</td>\n",
       "      <td>2004.0</td>\n",
       "      <td>11/20/15</td>\n",
       "      <td>860000.00</td>\n",
       "      <td>$</td>\n",
       "    </tr>\n",
       "    <tr>\n",
       "      <th>2128308939</th>\n",
       "      <td>33 Santa Cruz Ave, San Francisco, CA</td>\n",
       "      <td>37709136</td>\n",
       "      <td>-122465332</td>\n",
       "      <td>False</td>\n",
       "      <td>3.0</td>\n",
       "      <td>...</td>\n",
       "      <td>sqft</td>\n",
       "      <td>1976.0</td>\n",
       "      <td>12/10/15</td>\n",
       "      <td>830000.00</td>\n",
       "      <td>$</td>\n",
       "    </tr>\n",
       "    <tr>\n",
       "      <th>2131957929</th>\n",
       "      <td>1821 Grant Ave, San Francisco, CA</td>\n",
       "      <td>37803760</td>\n",
       "      <td>-122408531</td>\n",
       "      <td>False</td>\n",
       "      <td>2.0</td>\n",
       "      <td>...</td>\n",
       "      <td>NaN</td>\n",
       "      <td>1975.0</td>\n",
       "      <td>12/15/15</td>\n",
       "      <td>835000.00</td>\n",
       "      <td>$</td>\n",
       "    </tr>\n",
       "    <tr>\n",
       "      <th>2136213970</th>\n",
       "      <td>1200 Gough St, San Francisco, CA</td>\n",
       "      <td>37784770</td>\n",
       "      <td>-122424100</td>\n",
       "      <td>False</td>\n",
       "      <td>1.0</td>\n",
       "      <td>...</td>\n",
       "      <td>NaN</td>\n",
       "      <td>1966.0</td>\n",
       "      <td>1/10/16</td>\n",
       "      <td>825000.00</td>\n",
       "      <td>$</td>\n",
       "    </tr>\n",
       "  </tbody>\n",
       "</table>\n",
       "<p>1000 rows × 14 columns</p>\n",
       "</div>"
      ],
      "text/plain": [
       "                                               Address  Latitude  Longitude  \\\n",
       "ID                                                                            \n",
       "15063471     55 Vandewater St APT 9, San Francisco, CA  37805103 -122412856   \n",
       "15063505           740 Francisco St, San Francisco, CA  37804420 -122417389   \n",
       "15063609           819 Francisco St, San Francisco, CA  37803728 -122419055   \n",
       "15064044      199 Chestnut St APT 5, San Francisco, CA  37804392 -122406590   \n",
       "15064257    111 Chestnut St APT 403, San Francisco, CA  37804240 -122405509   \n",
       "...                                                ...       ...        ...   \n",
       "2124214951       412 Green St APT A, San Francisco, CA  37800040 -122406100   \n",
       "2126960082     355 1st St UNIT 1905, San Francisco, CA  37787029 -122393638   \n",
       "2128308939        33 Santa Cruz Ave, San Francisco, CA  37709136 -122465332   \n",
       "2131957929           1821 Grant Ave, San Francisco, CA  37803760 -122408531   \n",
       "2136213970            1200 Gough St, San Francisco, CA  37784770 -122424100   \n",
       "\n",
       "           IsAStudio  Beds      ...       LotSizeUnit  BuiltInYear DateOfSale  \\\n",
       "ID                              ...                                             \n",
       "15063471       False   1.0      ...               NaN       1980.0    12/4/15   \n",
       "15063505       False   NaN      ...              sqft       1948.0   11/30/15   \n",
       "15063609       False   2.0      ...              sqft       1976.0   11/12/15   \n",
       "15064044       False   1.0      ...               NaN       1930.0   12/11/15   \n",
       "15064257       False   2.0      ...               NaN       1993.0    1/15/16   \n",
       "...              ...   ...      ...               ...          ...        ...   \n",
       "2124214951      True   NaN      ...               NaN       2012.0    1/15/16   \n",
       "2126960082     False   1.0      ...               NaN       2004.0   11/20/15   \n",
       "2128308939     False   3.0      ...              sqft       1976.0   12/10/15   \n",
       "2131957929     False   2.0      ...               NaN       1975.0   12/15/15   \n",
       "2136213970     False   1.0      ...               NaN       1966.0    1/10/16   \n",
       "\n",
       "            SalePrice SalePriceUnit  \n",
       "ID                                   \n",
       "15063471    710000.00             $  \n",
       "15063505         2.15            $M  \n",
       "15063609         5.60            $M  \n",
       "15064044         1.50            $M  \n",
       "15064257    970000.00             $  \n",
       "...               ...           ...  \n",
       "2124214951  390000.00             $  \n",
       "2126960082  860000.00             $  \n",
       "2128308939  830000.00             $  \n",
       "2131957929  835000.00             $  \n",
       "2136213970  825000.00             $  \n",
       "\n",
       "[1000 rows x 14 columns]"
      ]
     },
     "execution_count": 51,
     "metadata": {},
     "output_type": "execute_result"
    }
   ],
   "source": [
    "df"
   ]
  },
  {
   "cell_type": "markdown",
   "metadata": {},
   "source": [
    "> ### Remove the `Latitude` and `Longitude` columns"
   ]
  },
  {
   "cell_type": "markdown",
   "metadata": {},
   "source": [
    "(http://pandas.pydata.org/pandas-docs/stable/generated/pandas.DataFrame.drop.html)"
   ]
  },
  {
   "cell_type": "code",
   "execution_count": 52,
   "metadata": {
    "collapsed": true
   },
   "outputs": [],
   "source": [
    "df.drop(['Latitude', 'Longitude'], axis = 1, inplace = True)"
   ]
  },
  {
   "cell_type": "code",
   "execution_count": 53,
   "metadata": {
    "collapsed": false
   },
   "outputs": [
    {
     "data": {
      "text/html": [
       "<div>\n",
       "<table border=\"1\" class=\"dataframe\">\n",
       "  <thead>\n",
       "    <tr style=\"text-align: right;\">\n",
       "      <th></th>\n",
       "      <th>Address</th>\n",
       "      <th>IsAStudio</th>\n",
       "      <th>Beds</th>\n",
       "      <th>Baths</th>\n",
       "      <th>Size</th>\n",
       "      <th>...</th>\n",
       "      <th>LotSizeUnit</th>\n",
       "      <th>BuiltInYear</th>\n",
       "      <th>DateOfSale</th>\n",
       "      <th>SalePrice</th>\n",
       "      <th>SalePriceUnit</th>\n",
       "    </tr>\n",
       "    <tr>\n",
       "      <th>ID</th>\n",
       "      <th></th>\n",
       "      <th></th>\n",
       "      <th></th>\n",
       "      <th></th>\n",
       "      <th></th>\n",
       "      <th></th>\n",
       "      <th></th>\n",
       "      <th></th>\n",
       "      <th></th>\n",
       "      <th></th>\n",
       "      <th></th>\n",
       "    </tr>\n",
       "  </thead>\n",
       "  <tbody>\n",
       "    <tr>\n",
       "      <th>15063471</th>\n",
       "      <td>55 Vandewater St APT 9, San Francisco, CA</td>\n",
       "      <td>False</td>\n",
       "      <td>1.0</td>\n",
       "      <td>NaN</td>\n",
       "      <td>550.0</td>\n",
       "      <td>...</td>\n",
       "      <td>NaN</td>\n",
       "      <td>1980.0</td>\n",
       "      <td>12/4/15</td>\n",
       "      <td>710000.00</td>\n",
       "      <td>$</td>\n",
       "    </tr>\n",
       "    <tr>\n",
       "      <th>15063505</th>\n",
       "      <td>740 Francisco St, San Francisco, CA</td>\n",
       "      <td>False</td>\n",
       "      <td>NaN</td>\n",
       "      <td>2.0</td>\n",
       "      <td>1430.0</td>\n",
       "      <td>...</td>\n",
       "      <td>sqft</td>\n",
       "      <td>1948.0</td>\n",
       "      <td>11/30/15</td>\n",
       "      <td>2.15</td>\n",
       "      <td>$M</td>\n",
       "    </tr>\n",
       "    <tr>\n",
       "      <th>15063609</th>\n",
       "      <td>819 Francisco St, San Francisco, CA</td>\n",
       "      <td>False</td>\n",
       "      <td>2.0</td>\n",
       "      <td>3.5</td>\n",
       "      <td>2040.0</td>\n",
       "      <td>...</td>\n",
       "      <td>sqft</td>\n",
       "      <td>1976.0</td>\n",
       "      <td>11/12/15</td>\n",
       "      <td>5.60</td>\n",
       "      <td>$M</td>\n",
       "    </tr>\n",
       "    <tr>\n",
       "      <th>15064044</th>\n",
       "      <td>199 Chestnut St APT 5, San Francisco, CA</td>\n",
       "      <td>False</td>\n",
       "      <td>1.0</td>\n",
       "      <td>1.0</td>\n",
       "      <td>1060.0</td>\n",
       "      <td>...</td>\n",
       "      <td>NaN</td>\n",
       "      <td>1930.0</td>\n",
       "      <td>12/11/15</td>\n",
       "      <td>1.50</td>\n",
       "      <td>$M</td>\n",
       "    </tr>\n",
       "    <tr>\n",
       "      <th>15064257</th>\n",
       "      <td>111 Chestnut St APT 403, San Francisco, CA</td>\n",
       "      <td>False</td>\n",
       "      <td>2.0</td>\n",
       "      <td>2.0</td>\n",
       "      <td>1299.0</td>\n",
       "      <td>...</td>\n",
       "      <td>NaN</td>\n",
       "      <td>1993.0</td>\n",
       "      <td>1/15/16</td>\n",
       "      <td>970000.00</td>\n",
       "      <td>$</td>\n",
       "    </tr>\n",
       "    <tr>\n",
       "      <th>...</th>\n",
       "      <td>...</td>\n",
       "      <td>...</td>\n",
       "      <td>...</td>\n",
       "      <td>...</td>\n",
       "      <td>...</td>\n",
       "      <td>...</td>\n",
       "      <td>...</td>\n",
       "      <td>...</td>\n",
       "      <td>...</td>\n",
       "      <td>...</td>\n",
       "      <td>...</td>\n",
       "    </tr>\n",
       "    <tr>\n",
       "      <th>2124214951</th>\n",
       "      <td>412 Green St APT A, San Francisco, CA</td>\n",
       "      <td>True</td>\n",
       "      <td>NaN</td>\n",
       "      <td>1.0</td>\n",
       "      <td>264.0</td>\n",
       "      <td>...</td>\n",
       "      <td>NaN</td>\n",
       "      <td>2012.0</td>\n",
       "      <td>1/15/16</td>\n",
       "      <td>390000.00</td>\n",
       "      <td>$</td>\n",
       "    </tr>\n",
       "    <tr>\n",
       "      <th>2126960082</th>\n",
       "      <td>355 1st St UNIT 1905, San Francisco, CA</td>\n",
       "      <td>False</td>\n",
       "      <td>1.0</td>\n",
       "      <td>1.0</td>\n",
       "      <td>691.0</td>\n",
       "      <td>...</td>\n",
       "      <td>NaN</td>\n",
       "      <td>2004.0</td>\n",
       "      <td>11/20/15</td>\n",
       "      <td>860000.00</td>\n",
       "      <td>$</td>\n",
       "    </tr>\n",
       "    <tr>\n",
       "      <th>2128308939</th>\n",
       "      <td>33 Santa Cruz Ave, San Francisco, CA</td>\n",
       "      <td>False</td>\n",
       "      <td>3.0</td>\n",
       "      <td>3.0</td>\n",
       "      <td>1738.0</td>\n",
       "      <td>...</td>\n",
       "      <td>sqft</td>\n",
       "      <td>1976.0</td>\n",
       "      <td>12/10/15</td>\n",
       "      <td>830000.00</td>\n",
       "      <td>$</td>\n",
       "    </tr>\n",
       "    <tr>\n",
       "      <th>2131957929</th>\n",
       "      <td>1821 Grant Ave, San Francisco, CA</td>\n",
       "      <td>False</td>\n",
       "      <td>2.0</td>\n",
       "      <td>2.0</td>\n",
       "      <td>1048.0</td>\n",
       "      <td>...</td>\n",
       "      <td>NaN</td>\n",
       "      <td>1975.0</td>\n",
       "      <td>12/15/15</td>\n",
       "      <td>835000.00</td>\n",
       "      <td>$</td>\n",
       "    </tr>\n",
       "    <tr>\n",
       "      <th>2136213970</th>\n",
       "      <td>1200 Gough St, San Francisco, CA</td>\n",
       "      <td>False</td>\n",
       "      <td>1.0</td>\n",
       "      <td>1.0</td>\n",
       "      <td>900.0</td>\n",
       "      <td>...</td>\n",
       "      <td>NaN</td>\n",
       "      <td>1966.0</td>\n",
       "      <td>1/10/16</td>\n",
       "      <td>825000.00</td>\n",
       "      <td>$</td>\n",
       "    </tr>\n",
       "  </tbody>\n",
       "</table>\n",
       "<p>1000 rows × 12 columns</p>\n",
       "</div>"
      ],
      "text/plain": [
       "                                               Address IsAStudio  Beds  Baths  \\\n",
       "ID                                                                              \n",
       "15063471     55 Vandewater St APT 9, San Francisco, CA     False   1.0    NaN   \n",
       "15063505           740 Francisco St, San Francisco, CA     False   NaN    2.0   \n",
       "15063609           819 Francisco St, San Francisco, CA     False   2.0    3.5   \n",
       "15064044      199 Chestnut St APT 5, San Francisco, CA     False   1.0    1.0   \n",
       "15064257    111 Chestnut St APT 403, San Francisco, CA     False   2.0    2.0   \n",
       "...                                                ...       ...   ...    ...   \n",
       "2124214951       412 Green St APT A, San Francisco, CA      True   NaN    1.0   \n",
       "2126960082     355 1st St UNIT 1905, San Francisco, CA     False   1.0    1.0   \n",
       "2128308939        33 Santa Cruz Ave, San Francisco, CA     False   3.0    3.0   \n",
       "2131957929           1821 Grant Ave, San Francisco, CA     False   2.0    2.0   \n",
       "2136213970            1200 Gough St, San Francisco, CA     False   1.0    1.0   \n",
       "\n",
       "              Size      ...      LotSizeUnit  BuiltInYear DateOfSale  \\\n",
       "ID                      ...                                            \n",
       "15063471     550.0      ...              NaN       1980.0    12/4/15   \n",
       "15063505    1430.0      ...             sqft       1948.0   11/30/15   \n",
       "15063609    2040.0      ...             sqft       1976.0   11/12/15   \n",
       "15064044    1060.0      ...              NaN       1930.0   12/11/15   \n",
       "15064257    1299.0      ...              NaN       1993.0    1/15/16   \n",
       "...            ...      ...              ...          ...        ...   \n",
       "2124214951   264.0      ...              NaN       2012.0    1/15/16   \n",
       "2126960082   691.0      ...              NaN       2004.0   11/20/15   \n",
       "2128308939  1738.0      ...             sqft       1976.0   12/10/15   \n",
       "2131957929  1048.0      ...              NaN       1975.0   12/15/15   \n",
       "2136213970   900.0      ...              NaN       1966.0    1/10/16   \n",
       "\n",
       "            SalePrice SalePriceUnit  \n",
       "ID                                   \n",
       "15063471    710000.00             $  \n",
       "15063505         2.15            $M  \n",
       "15063609         5.60            $M  \n",
       "15064044         1.50            $M  \n",
       "15064257    970000.00             $  \n",
       "...               ...           ...  \n",
       "2124214951  390000.00             $  \n",
       "2126960082  860000.00             $  \n",
       "2128308939  830000.00             $  \n",
       "2131957929  835000.00             $  \n",
       "2136213970  825000.00             $  \n",
       "\n",
       "[1000 rows x 12 columns]"
      ]
     },
     "execution_count": 53,
     "metadata": {},
     "output_type": "execute_result"
    }
   ],
   "source": [
    "df"
   ]
  },
  {
   "cell_type": "markdown",
   "metadata": {},
   "source": [
    "> ### `SalePrice`: scale all amount to `$M`"
   ]
  },
  {
   "cell_type": "markdown",
   "metadata": {},
   "source": [
    "- (http://pandas.pydata.org/pandas-docs/stable/generated/pandas.Series.unique.html)\n",
    "- (http://pandas.pydata.org/pandas-docs/stable/generated/pandas.concat.html)"
   ]
  },
  {
   "cell_type": "code",
   "execution_count": 54,
   "metadata": {
    "collapsed": false
   },
   "outputs": [
    {
     "data": {
      "text/plain": [
       "array(['$', '$M'], dtype=object)"
      ]
     },
     "execution_count": 54,
     "metadata": {},
     "output_type": "execute_result"
    }
   ],
   "source": [
    "df.SalePriceUnit.unique()"
   ]
  },
  {
   "cell_type": "code",
   "execution_count": 55,
   "metadata": {
    "collapsed": true
   },
   "outputs": [],
   "source": [
    "df_1 = df[df.SalePriceUnit == '$']\n",
    "df_1 = df_1.drop('SalePriceUnit', axis = 1)\n",
    "\n",
    "# Scaling sale price to $M\n",
    "df_1.SalePrice /= 10 ** 6\n",
    "\n",
    "df_6 = df[df.SalePriceUnit == '$M']\n",
    "df_6 = df_6.drop('SalePriceUnit', axis = 1)"
   ]
  },
  {
   "cell_type": "code",
   "execution_count": 56,
   "metadata": {
    "collapsed": true
   },
   "outputs": [],
   "source": [
    "# Concatenate of two DataFrames by rows\n",
    "df = pd.concat([df_1, df_6])"
   ]
  },
  {
   "cell_type": "code",
   "execution_count": 57,
   "metadata": {
    "collapsed": true
   },
   "outputs": [],
   "source": [
    "# Resort the new DataFrame\n",
    "df.sort_index(inplace = True)"
   ]
  },
  {
   "cell_type": "markdown",
   "metadata": {},
   "source": [
    "> ### `IsAStudio`: convert from a Boolean to a binary variable (i.e., 0 or 1)"
   ]
  },
  {
   "cell_type": "code",
   "execution_count": 58,
   "metadata": {
    "collapsed": true
   },
   "outputs": [],
   "source": [
    "df.IsAStudio *= 1"
   ]
  },
  {
   "cell_type": "code",
   "execution_count": 59,
   "metadata": {
    "collapsed": false
   },
   "outputs": [
    {
     "data": {
      "text/plain": [
       "ID\n",
       "15063471      0\n",
       "15063505      0\n",
       "15063609      0\n",
       "15064044      0\n",
       "15064257      0\n",
       "             ..\n",
       "2124214951    1\n",
       "2126960082    0\n",
       "2128308939    0\n",
       "2131957929    0\n",
       "2136213970    0\n",
       "Name: IsAStudio, dtype: object"
      ]
     },
     "execution_count": 59,
     "metadata": {},
     "output_type": "execute_result"
    }
   ],
   "source": [
    "df.IsAStudio"
   ]
  },
  {
   "cell_type": "markdown",
   "metadata": {},
   "source": [
    "> ### `Size`"
   ]
  },
  {
   "cell_type": "code",
   "execution_count": 60,
   "metadata": {
    "collapsed": false
   },
   "outputs": [
    {
     "data": {
      "text/plain": [
       "array(['sqft', nan], dtype=object)"
      ]
     },
     "execution_count": 60,
     "metadata": {},
     "output_type": "execute_result"
    }
   ],
   "source": [
    "df.SizeUnit.unique()"
   ]
  },
  {
   "cell_type": "markdown",
   "metadata": {},
   "source": [
    "Size is either in square feet or missing.  Almost no work needed except to remove size unit."
   ]
  },
  {
   "cell_type": "code",
   "execution_count": 61,
   "metadata": {
    "collapsed": true
   },
   "outputs": [],
   "source": [
    "df.drop('SizeUnit', axis = 1, inplace = True)"
   ]
  },
  {
   "cell_type": "markdown",
   "metadata": {},
   "source": [
    "> ### `LotSize`: scale all values to square feet"
   ]
  },
  {
   "cell_type": "code",
   "execution_count": 62,
   "metadata": {
    "collapsed": false
   },
   "outputs": [
    {
     "data": {
      "text/plain": [
       "array([nan, 'sqft', 'ac'], dtype=object)"
      ]
     },
     "execution_count": 62,
     "metadata": {},
     "output_type": "execute_result"
    }
   ],
   "source": [
    "df.LotSizeUnit.unique()"
   ]
  },
  {
   "cell_type": "markdown",
   "metadata": {},
   "source": [
    "Lot sizes are either in square feet or in acres.  Let's convert them all to square feet."
   ]
  },
  {
   "cell_type": "markdown",
   "metadata": {},
   "source": [
    "> Group #1: the `na` values:"
   ]
  },
  {
   "cell_type": "code",
   "execution_count": 63,
   "metadata": {
    "collapsed": false
   },
   "outputs": [
    {
     "data": {
      "text/plain": [
       "444"
      ]
     },
     "execution_count": 63,
     "metadata": {},
     "output_type": "execute_result"
    }
   ],
   "source": [
    "df_na = df[df.LotSizeUnit.isnull()]\n",
    "df_na = df_na.drop('LotSizeUnit', axis = 1)\n",
    "\n",
    "df_na.shape[0]"
   ]
  },
  {
   "cell_type": "markdown",
   "metadata": {},
   "source": [
    "> Group #2: the `sqft` values:"
   ]
  },
  {
   "cell_type": "code",
   "execution_count": 64,
   "metadata": {
    "collapsed": false
   },
   "outputs": [
    {
     "data": {
      "text/plain": [
       "552"
      ]
     },
     "execution_count": 64,
     "metadata": {},
     "output_type": "execute_result"
    }
   ],
   "source": [
    "df_sqft = df[df.LotSizeUnit == 'sqft']\n",
    "df_sqft = df_sqft.drop('LotSizeUnit', axis = 1)\n",
    "\n",
    "df_sqft.shape[0]"
   ]
  },
  {
   "cell_type": "markdown",
   "metadata": {},
   "source": [
    "> Group #3: the `ac` values:"
   ]
  },
  {
   "cell_type": "code",
   "execution_count": 65,
   "metadata": {
    "collapsed": false
   },
   "outputs": [
    {
     "data": {
      "text/plain": [
       "4"
      ]
     },
     "execution_count": 65,
     "metadata": {},
     "output_type": "execute_result"
    }
   ],
   "source": [
    "df_ac = df[df.LotSizeUnit == 'ac']\n",
    "df_ac = df_ac.drop('LotSizeUnit', axis = 1)\n",
    "\n",
    "df_ac.shape[0]"
   ]
  },
  {
   "cell_type": "markdown",
   "metadata": {},
   "source": [
    "> Let's scale these `acre` values into `sqft`:"
   ]
  },
  {
   "cell_type": "code",
   "execution_count": 66,
   "metadata": {
    "collapsed": true
   },
   "outputs": [],
   "source": [
    "# (1 acre = 43,560 sqft)\n",
    "\n",
    "df_ac.LotSize *= 43560."
   ]
  },
  {
   "cell_type": "markdown",
   "metadata": {},
   "source": [
    "Let's now put everything back together..."
   ]
  },
  {
   "cell_type": "code",
   "execution_count": 67,
   "metadata": {
    "collapsed": true
   },
   "outputs": [],
   "source": [
    "df = pd.concat([df_na, df_sqft, df_ac]).sort_index()"
   ]
  },
  {
   "cell_type": "code",
   "execution_count": 68,
   "metadata": {
    "collapsed": false
   },
   "outputs": [
    {
     "data": {
      "text/html": [
       "<div>\n",
       "<table border=\"1\" class=\"dataframe\">\n",
       "  <thead>\n",
       "    <tr style=\"text-align: right;\">\n",
       "      <th></th>\n",
       "      <th>Address</th>\n",
       "      <th>IsAStudio</th>\n",
       "      <th>Beds</th>\n",
       "      <th>Baths</th>\n",
       "      <th>Size</th>\n",
       "      <th>LotSize</th>\n",
       "      <th>BuiltInYear</th>\n",
       "      <th>DateOfSale</th>\n",
       "      <th>SalePrice</th>\n",
       "    </tr>\n",
       "    <tr>\n",
       "      <th>ID</th>\n",
       "      <th></th>\n",
       "      <th></th>\n",
       "      <th></th>\n",
       "      <th></th>\n",
       "      <th></th>\n",
       "      <th></th>\n",
       "      <th></th>\n",
       "      <th></th>\n",
       "      <th></th>\n",
       "    </tr>\n",
       "  </thead>\n",
       "  <tbody>\n",
       "    <tr>\n",
       "      <th>15063471</th>\n",
       "      <td>55 Vandewater St APT 9, San Francisco, CA</td>\n",
       "      <td>0</td>\n",
       "      <td>1.0</td>\n",
       "      <td>NaN</td>\n",
       "      <td>550.0</td>\n",
       "      <td>NaN</td>\n",
       "      <td>1980.0</td>\n",
       "      <td>12/4/15</td>\n",
       "      <td>0.710</td>\n",
       "    </tr>\n",
       "    <tr>\n",
       "      <th>15063505</th>\n",
       "      <td>740 Francisco St, San Francisco, CA</td>\n",
       "      <td>0</td>\n",
       "      <td>NaN</td>\n",
       "      <td>2.0</td>\n",
       "      <td>1430.0</td>\n",
       "      <td>2435.0</td>\n",
       "      <td>1948.0</td>\n",
       "      <td>11/30/15</td>\n",
       "      <td>2.150</td>\n",
       "    </tr>\n",
       "    <tr>\n",
       "      <th>15063609</th>\n",
       "      <td>819 Francisco St, San Francisco, CA</td>\n",
       "      <td>0</td>\n",
       "      <td>2.0</td>\n",
       "      <td>3.5</td>\n",
       "      <td>2040.0</td>\n",
       "      <td>3920.0</td>\n",
       "      <td>1976.0</td>\n",
       "      <td>11/12/15</td>\n",
       "      <td>5.600</td>\n",
       "    </tr>\n",
       "    <tr>\n",
       "      <th>15064044</th>\n",
       "      <td>199 Chestnut St APT 5, San Francisco, CA</td>\n",
       "      <td>0</td>\n",
       "      <td>1.0</td>\n",
       "      <td>1.0</td>\n",
       "      <td>1060.0</td>\n",
       "      <td>NaN</td>\n",
       "      <td>1930.0</td>\n",
       "      <td>12/11/15</td>\n",
       "      <td>1.500</td>\n",
       "    </tr>\n",
       "    <tr>\n",
       "      <th>15064257</th>\n",
       "      <td>111 Chestnut St APT 403, San Francisco, CA</td>\n",
       "      <td>0</td>\n",
       "      <td>2.0</td>\n",
       "      <td>2.0</td>\n",
       "      <td>1299.0</td>\n",
       "      <td>NaN</td>\n",
       "      <td>1993.0</td>\n",
       "      <td>1/15/16</td>\n",
       "      <td>0.970</td>\n",
       "    </tr>\n",
       "    <tr>\n",
       "      <th>...</th>\n",
       "      <td>...</td>\n",
       "      <td>...</td>\n",
       "      <td>...</td>\n",
       "      <td>...</td>\n",
       "      <td>...</td>\n",
       "      <td>...</td>\n",
       "      <td>...</td>\n",
       "      <td>...</td>\n",
       "      <td>...</td>\n",
       "    </tr>\n",
       "    <tr>\n",
       "      <th>2124214951</th>\n",
       "      <td>412 Green St APT A, San Francisco, CA</td>\n",
       "      <td>1</td>\n",
       "      <td>NaN</td>\n",
       "      <td>1.0</td>\n",
       "      <td>264.0</td>\n",
       "      <td>NaN</td>\n",
       "      <td>2012.0</td>\n",
       "      <td>1/15/16</td>\n",
       "      <td>0.390</td>\n",
       "    </tr>\n",
       "    <tr>\n",
       "      <th>2126960082</th>\n",
       "      <td>355 1st St UNIT 1905, San Francisco, CA</td>\n",
       "      <td>0</td>\n",
       "      <td>1.0</td>\n",
       "      <td>1.0</td>\n",
       "      <td>691.0</td>\n",
       "      <td>NaN</td>\n",
       "      <td>2004.0</td>\n",
       "      <td>11/20/15</td>\n",
       "      <td>0.860</td>\n",
       "    </tr>\n",
       "    <tr>\n",
       "      <th>2128308939</th>\n",
       "      <td>33 Santa Cruz Ave, San Francisco, CA</td>\n",
       "      <td>0</td>\n",
       "      <td>3.0</td>\n",
       "      <td>3.0</td>\n",
       "      <td>1738.0</td>\n",
       "      <td>2299.0</td>\n",
       "      <td>1976.0</td>\n",
       "      <td>12/10/15</td>\n",
       "      <td>0.830</td>\n",
       "    </tr>\n",
       "    <tr>\n",
       "      <th>2131957929</th>\n",
       "      <td>1821 Grant Ave, San Francisco, CA</td>\n",
       "      <td>0</td>\n",
       "      <td>2.0</td>\n",
       "      <td>2.0</td>\n",
       "      <td>1048.0</td>\n",
       "      <td>NaN</td>\n",
       "      <td>1975.0</td>\n",
       "      <td>12/15/15</td>\n",
       "      <td>0.835</td>\n",
       "    </tr>\n",
       "    <tr>\n",
       "      <th>2136213970</th>\n",
       "      <td>1200 Gough St, San Francisco, CA</td>\n",
       "      <td>0</td>\n",
       "      <td>1.0</td>\n",
       "      <td>1.0</td>\n",
       "      <td>900.0</td>\n",
       "      <td>NaN</td>\n",
       "      <td>1966.0</td>\n",
       "      <td>1/10/16</td>\n",
       "      <td>0.825</td>\n",
       "    </tr>\n",
       "  </tbody>\n",
       "</table>\n",
       "<p>1000 rows × 9 columns</p>\n",
       "</div>"
      ],
      "text/plain": [
       "                                               Address IsAStudio  Beds  Baths  \\\n",
       "ID                                                                              \n",
       "15063471     55 Vandewater St APT 9, San Francisco, CA         0   1.0    NaN   \n",
       "15063505           740 Francisco St, San Francisco, CA         0   NaN    2.0   \n",
       "15063609           819 Francisco St, San Francisco, CA         0   2.0    3.5   \n",
       "15064044      199 Chestnut St APT 5, San Francisco, CA         0   1.0    1.0   \n",
       "15064257    111 Chestnut St APT 403, San Francisco, CA         0   2.0    2.0   \n",
       "...                                                ...       ...   ...    ...   \n",
       "2124214951       412 Green St APT A, San Francisco, CA         1   NaN    1.0   \n",
       "2126960082     355 1st St UNIT 1905, San Francisco, CA         0   1.0    1.0   \n",
       "2128308939        33 Santa Cruz Ave, San Francisco, CA         0   3.0    3.0   \n",
       "2131957929           1821 Grant Ave, San Francisco, CA         0   2.0    2.0   \n",
       "2136213970            1200 Gough St, San Francisco, CA         0   1.0    1.0   \n",
       "\n",
       "              Size  LotSize  BuiltInYear DateOfSale  SalePrice  \n",
       "ID                                                              \n",
       "15063471     550.0      NaN       1980.0    12/4/15      0.710  \n",
       "15063505    1430.0   2435.0       1948.0   11/30/15      2.150  \n",
       "15063609    2040.0   3920.0       1976.0   11/12/15      5.600  \n",
       "15064044    1060.0      NaN       1930.0   12/11/15      1.500  \n",
       "15064257    1299.0      NaN       1993.0    1/15/16      0.970  \n",
       "...            ...      ...          ...        ...        ...  \n",
       "2124214951   264.0      NaN       2012.0    1/15/16      0.390  \n",
       "2126960082   691.0      NaN       2004.0   11/20/15      0.860  \n",
       "2128308939  1738.0   2299.0       1976.0   12/10/15      0.830  \n",
       "2131957929  1048.0      NaN       1975.0   12/15/15      0.835  \n",
       "2136213970   900.0      NaN       1966.0    1/10/16      0.825  \n",
       "\n",
       "[1000 rows x 9 columns]"
      ]
     },
     "execution_count": 68,
     "metadata": {},
     "output_type": "execute_result"
    }
   ],
   "source": [
    "df"
   ]
  },
  {
   "cell_type": "markdown",
   "metadata": {},
   "source": [
    "> ## `.to_csv`: save the `DataFrame` into a `.csv` file"
   ]
  },
  {
   "cell_type": "markdown",
   "metadata": {},
   "source": [
    "At the end of each phase (i.e., wrangling) of your data science project, it is a good idea to save your dataset into disk.  Then for the next step, create a new Jupyther notebook and load your updated dataset"
   ]
  },
  {
   "cell_type": "code",
   "execution_count": 69,
   "metadata": {
    "collapsed": true
   },
   "outputs": [],
   "source": [
    "df.to_csv(os.path.join('..', 'datasets', 'dataset-03-zillow.csv'), index_label = 'ID')"
   ]
  },
  {
   "cell_type": "markdown",
   "metadata": {},
   "source": [
    "## Part C | Advanced topics"
   ]
  },
  {
   "cell_type": "markdown",
   "metadata": {},
   "source": [
    "### `.groupby()`"
   ]
  },
  {
   "cell_type": "markdown",
   "metadata": {},
   "source": [
    "(http://pandas.pydata.org/pandas-docs/stable/groupby.html)"
   ]
  },
  {
   "cell_type": "markdown",
   "metadata": {},
   "source": [
    "> What is the mean price of houses by number of bathrooms?"
   ]
  },
  {
   "cell_type": "code",
   "execution_count": 70,
   "metadata": {
    "collapsed": true
   },
   "outputs": [],
   "source": [
    "df = pd.read_csv(os.path.join('..', 'datasets', 'dataset-03-zillow.csv'))"
   ]
  },
  {
   "cell_type": "code",
   "execution_count": 71,
   "metadata": {
    "collapsed": false
   },
   "outputs": [
    {
     "data": {
      "text/html": [
       "<div>\n",
       "<table border=\"1\" class=\"dataframe\">\n",
       "  <thead>\n",
       "    <tr style=\"text-align: right;\">\n",
       "      <th></th>\n",
       "      <th>SalePrice</th>\n",
       "    </tr>\n",
       "    <tr>\n",
       "      <th>Baths</th>\n",
       "      <th></th>\n",
       "    </tr>\n",
       "  </thead>\n",
       "  <tbody>\n",
       "    <tr>\n",
       "      <th>1.00</th>\n",
       "      <td>0.987656</td>\n",
       "    </tr>\n",
       "    <tr>\n",
       "      <th>1.10</th>\n",
       "      <td>1.420000</td>\n",
       "    </tr>\n",
       "    <tr>\n",
       "      <th>1.25</th>\n",
       "      <td>1.600000</td>\n",
       "    </tr>\n",
       "    <tr>\n",
       "      <th>1.50</th>\n",
       "      <td>1.223378</td>\n",
       "    </tr>\n",
       "    <tr>\n",
       "      <th>1.75</th>\n",
       "      <td>0.928000</td>\n",
       "    </tr>\n",
       "    <tr>\n",
       "      <th>...</th>\n",
       "      <td>...</td>\n",
       "    </tr>\n",
       "    <tr>\n",
       "      <th>6.50</th>\n",
       "      <td>16.000000</td>\n",
       "    </tr>\n",
       "    <tr>\n",
       "      <th>7.00</th>\n",
       "      <td>0.999000</td>\n",
       "    </tr>\n",
       "    <tr>\n",
       "      <th>7.50</th>\n",
       "      <td>5.530000</td>\n",
       "    </tr>\n",
       "    <tr>\n",
       "      <th>8.00</th>\n",
       "      <td>13.100000</td>\n",
       "    </tr>\n",
       "    <tr>\n",
       "      <th>14.00</th>\n",
       "      <td>1.000000</td>\n",
       "    </tr>\n",
       "  </tbody>\n",
       "</table>\n",
       "<p>20 rows × 1 columns</p>\n",
       "</div>"
      ],
      "text/plain": [
       "       SalePrice\n",
       "Baths           \n",
       "1.00    0.987656\n",
       "1.10    1.420000\n",
       "1.25    1.600000\n",
       "1.50    1.223378\n",
       "1.75    0.928000\n",
       "...          ...\n",
       "6.50   16.000000\n",
       "7.00    0.999000\n",
       "7.50    5.530000\n",
       "8.00   13.100000\n",
       "14.00   1.000000\n",
       "\n",
       "[20 rows x 1 columns]"
      ]
     },
     "execution_count": 71,
     "metadata": {},
     "output_type": "execute_result"
    }
   ],
   "source": [
    "df[ ['Baths', 'SalePrice'] ].groupby('Baths').mean()"
   ]
  },
  {
   "cell_type": "markdown",
   "metadata": {},
   "source": [
    "### `.map()`"
   ]
  },
  {
   "cell_type": "markdown",
   "metadata": {},
   "source": [
    "(http://pandas.pydata.org/pandas-docs/stable/generated/pandas.Series.map.html)"
   ]
  },
  {
   "cell_type": "markdown",
   "metadata": {},
   "source": [
    "When converting `SalePrice`, `Size`, and `LotSize` into `$M` and sqft, we could also have done the following:"
   ]
  },
  {
   "cell_type": "code",
   "execution_count": 72,
   "metadata": {
    "collapsed": true
   },
   "outputs": [],
   "source": [
    "df = pd.read_csv(os.path.join('..', 'datasets', 'dataset-03-zillow-transactions.csv'))"
   ]
  },
  {
   "cell_type": "code",
   "execution_count": 73,
   "metadata": {
    "collapsed": false
   },
   "outputs": [
    {
     "data": {
      "text/plain": [
       "array(['$', '$M'], dtype=object)"
      ]
     },
     "execution_count": 73,
     "metadata": {},
     "output_type": "execute_result"
    }
   ],
   "source": [
    "df.SalePriceUnit.unique()"
   ]
  },
  {
   "cell_type": "code",
   "execution_count": 74,
   "metadata": {
    "collapsed": false
   },
   "outputs": [
    {
     "data": {
      "text/plain": [
       "0      0.000001\n",
       "1      1.000000\n",
       "2      0.000001\n",
       "3      1.000000\n",
       "4      1.000000\n",
       "         ...   \n",
       "995    0.000001\n",
       "996    1.000000\n",
       "997    0.000001\n",
       "998    0.000001\n",
       "999    0.000001\n",
       "Name: SalePriceUnit, dtype: float64"
      ]
     },
     "execution_count": 74,
     "metadata": {},
     "output_type": "execute_result"
    }
   ],
   "source": [
    "df.SalePriceUnit.map({'$': 1. / (10 ** 6), '$M': 1.})"
   ]
  },
  {
   "cell_type": "code",
   "execution_count": 75,
   "metadata": {
    "collapsed": true
   },
   "outputs": [],
   "source": [
    "df.SalePrice *= df.SalePriceUnit.map({'$': 1. / (10 ** 6), '$M': 1.})"
   ]
  },
  {
   "cell_type": "code",
   "execution_count": 76,
   "metadata": {
    "collapsed": false
   },
   "outputs": [
    {
     "data": {
      "text/plain": [
       "0      0.650\n",
       "1      1.150\n",
       "2      0.665\n",
       "3      2.100\n",
       "4      1.350\n",
       "       ...  \n",
       "995    0.731\n",
       "996    5.530\n",
       "997    0.625\n",
       "998    0.895\n",
       "999    0.650\n",
       "Name: SalePrice, dtype: float64"
      ]
     },
     "execution_count": 76,
     "metadata": {},
     "output_type": "execute_result"
    }
   ],
   "source": [
    "df.SalePrice"
   ]
  },
  {
   "cell_type": "code",
   "execution_count": 77,
   "metadata": {
    "collapsed": true
   },
   "outputs": [],
   "source": [
    "df.drop('SalePriceUnit', axis = 1, inplace = True)"
   ]
  },
  {
   "cell_type": "code",
   "execution_count": 78,
   "metadata": {
    "collapsed": false
   },
   "outputs": [
    {
     "data": {
      "text/html": [
       "<div>\n",
       "<table border=\"1\" class=\"dataframe\">\n",
       "  <thead>\n",
       "    <tr style=\"text-align: right;\">\n",
       "      <th></th>\n",
       "      <th>ID</th>\n",
       "      <th>DateOfSale</th>\n",
       "      <th>SalePrice</th>\n",
       "    </tr>\n",
       "  </thead>\n",
       "  <tbody>\n",
       "    <tr>\n",
       "      <th>0</th>\n",
       "      <td>15165953</td>\n",
       "      <td>1/5/16</td>\n",
       "      <td>0.650</td>\n",
       "    </tr>\n",
       "    <tr>\n",
       "      <th>1</th>\n",
       "      <td>80749447</td>\n",
       "      <td>11/10/15</td>\n",
       "      <td>1.150</td>\n",
       "    </tr>\n",
       "    <tr>\n",
       "      <th>2</th>\n",
       "      <td>15155751</td>\n",
       "      <td>11/10/15</td>\n",
       "      <td>0.665</td>\n",
       "    </tr>\n",
       "    <tr>\n",
       "      <th>3</th>\n",
       "      <td>15143887</td>\n",
       "      <td>12/31/15</td>\n",
       "      <td>2.100</td>\n",
       "    </tr>\n",
       "    <tr>\n",
       "      <th>4</th>\n",
       "      <td>15117639</td>\n",
       "      <td>12/23/15</td>\n",
       "      <td>1.350</td>\n",
       "    </tr>\n",
       "    <tr>\n",
       "      <th>...</th>\n",
       "      <td>...</td>\n",
       "      <td>...</td>\n",
       "      <td>...</td>\n",
       "    </tr>\n",
       "    <tr>\n",
       "      <th>995</th>\n",
       "      <td>69819708</td>\n",
       "      <td>12/15/15</td>\n",
       "      <td>0.731</td>\n",
       "    </tr>\n",
       "    <tr>\n",
       "      <th>996</th>\n",
       "      <td>15076156</td>\n",
       "      <td>11/12/15</td>\n",
       "      <td>5.530</td>\n",
       "    </tr>\n",
       "    <tr>\n",
       "      <th>997</th>\n",
       "      <td>119685619</td>\n",
       "      <td>12/21/15</td>\n",
       "      <td>0.625</td>\n",
       "    </tr>\n",
       "    <tr>\n",
       "      <th>998</th>\n",
       "      <td>15113584</td>\n",
       "      <td>12/21/15</td>\n",
       "      <td>0.895</td>\n",
       "    </tr>\n",
       "    <tr>\n",
       "      <th>999</th>\n",
       "      <td>15068874</td>\n",
       "      <td>12/24/15</td>\n",
       "      <td>0.650</td>\n",
       "    </tr>\n",
       "  </tbody>\n",
       "</table>\n",
       "<p>1000 rows × 3 columns</p>\n",
       "</div>"
      ],
      "text/plain": [
       "            ID DateOfSale  SalePrice\n",
       "0     15165953     1/5/16      0.650\n",
       "1     80749447   11/10/15      1.150\n",
       "2     15155751   11/10/15      0.665\n",
       "3     15143887   12/31/15      2.100\n",
       "4     15117639   12/23/15      1.350\n",
       "..         ...        ...        ...\n",
       "995   69819708   12/15/15      0.731\n",
       "996   15076156   11/12/15      5.530\n",
       "997  119685619   12/21/15      0.625\n",
       "998   15113584   12/21/15      0.895\n",
       "999   15068874   12/24/15      0.650\n",
       "\n",
       "[1000 rows x 3 columns]"
      ]
     },
     "execution_count": 78,
     "metadata": {},
     "output_type": "execute_result"
    }
   ],
   "source": [
    "df"
   ]
  },
  {
   "cell_type": "markdown",
   "metadata": {},
   "source": [
    "> ### Activity:  Using `.map()`, convert `Size` and `LotSize` to sqft."
   ]
  },
  {
   "cell_type": "code",
   "execution_count": 79,
   "metadata": {
    "collapsed": true
   },
   "outputs": [],
   "source": [
    "df = pd.read_csv(os.path.join('..', 'datasets', 'dataset-03-zillow-properties.csv'))"
   ]
  },
  {
   "cell_type": "code",
   "execution_count": 80,
   "metadata": {
    "collapsed": false
   },
   "outputs": [
    {
     "data": {
      "text/plain": [
       "array(['sqft', nan], dtype=object)"
      ]
     },
     "execution_count": 80,
     "metadata": {},
     "output_type": "execute_result"
    }
   ],
   "source": [
    "df.SizeUnit.unique()"
   ]
  },
  {
   "cell_type": "code",
   "execution_count": 81,
   "metadata": {
    "collapsed": true
   },
   "outputs": [],
   "source": [
    "df.drop('SizeUnit', axis = 1, inplace = True)"
   ]
  },
  {
   "cell_type": "code",
   "execution_count": 82,
   "metadata": {
    "collapsed": false
   },
   "outputs": [
    {
     "data": {
      "text/plain": [
       "array([nan, 'sqft', 'ac'], dtype=object)"
      ]
     },
     "execution_count": 82,
     "metadata": {},
     "output_type": "execute_result"
    }
   ],
   "source": [
    "df.LotSizeUnit.unique()"
   ]
  },
  {
   "cell_type": "code",
   "execution_count": 83,
   "metadata": {
    "collapsed": true
   },
   "outputs": [],
   "source": [
    "df.LotSize *= df.LotSizeUnit.map({'sqft': 1., 'ac': 43560.})"
   ]
  },
  {
   "cell_type": "code",
   "execution_count": 84,
   "metadata": {
    "collapsed": true
   },
   "outputs": [],
   "source": [
    "df.drop('LotSizeUnit', axis = 1, inplace = True)"
   ]
  },
  {
   "cell_type": "markdown",
   "metadata": {},
   "source": [
    "### `.to_datetime()`"
   ]
  },
  {
   "cell_type": "markdown",
   "metadata": {},
   "source": [
    "(http://pandas.pydata.org/pandas-docs/stable/generated/pandas.to_datetime.html)"
   ]
  },
  {
   "cell_type": "code",
   "execution_count": 85,
   "metadata": {
    "collapsed": true
   },
   "outputs": [],
   "source": [
    "df = pd.read_csv(os.path.join('..', 'datasets', 'dataset-03-zillow.csv'))"
   ]
  },
  {
   "cell_type": "code",
   "execution_count": 86,
   "metadata": {
    "collapsed": false
   },
   "outputs": [
    {
     "data": {
      "text/plain": [
       "0       12/4/15\n",
       "1      11/30/15\n",
       "2      11/12/15\n",
       "3      12/11/15\n",
       "4       1/15/16\n",
       "         ...   \n",
       "995     1/15/16\n",
       "996    11/20/15\n",
       "997    12/10/15\n",
       "998    12/15/15\n",
       "999     1/10/16\n",
       "Name: DateOfSale, dtype: object"
      ]
     },
     "execution_count": 86,
     "metadata": {},
     "output_type": "execute_result"
    }
   ],
   "source": [
    "df.DateOfSale"
   ]
  },
  {
   "cell_type": "markdown",
   "metadata": {},
   "source": [
    "So far, the dates stored in the `DataFrame` are just strings.  We cannot easily extract the day, month, year.  Thanksfully, `pandas` provides some facilities to do so."
   ]
  },
  {
   "cell_type": "code",
   "execution_count": 87,
   "metadata": {
    "collapsed": false
   },
   "outputs": [
    {
     "data": {
      "text/plain": [
       "0     2015-12-04\n",
       "1     2015-11-30\n",
       "2     2015-11-12\n",
       "3     2015-12-11\n",
       "4     2016-01-15\n",
       "         ...    \n",
       "995   2016-01-15\n",
       "996   2015-11-20\n",
       "997   2015-12-10\n",
       "998   2015-12-15\n",
       "999   2016-01-10\n",
       "Name: DateOfSale, dtype: datetime64[ns]"
      ]
     },
     "execution_count": 87,
     "metadata": {},
     "output_type": "execute_result"
    }
   ],
   "source": [
    "pd.to_datetime(df.DateOfSale)"
   ]
  },
  {
   "cell_type": "code",
   "execution_count": 88,
   "metadata": {
    "collapsed": true
   },
   "outputs": [],
   "source": [
    "df.DateOfSale = pd.to_datetime(df.DateOfSale)"
   ]
  },
  {
   "cell_type": "markdown",
   "metadata": {},
   "source": [
    "### `.apply()`"
   ]
  },
  {
   "cell_type": "markdown",
   "metadata": {},
   "source": [
    "(http://pandas.pydata.org/pandas-docs/stable/generated/pandas.Series.apply.html)"
   ]
  },
  {
   "cell_type": "code",
   "execution_count": 89,
   "metadata": {
    "collapsed": false
   },
   "outputs": [
    {
     "data": {
      "text/plain": [
       "0      2015\n",
       "1      2015\n",
       "2      2015\n",
       "3      2015\n",
       "4      2016\n",
       "       ... \n",
       "995    2016\n",
       "996    2015\n",
       "997    2015\n",
       "998    2015\n",
       "999    2016\n",
       "Name: DateOfSale, dtype: int64"
      ]
     },
     "execution_count": 89,
     "metadata": {},
     "output_type": "execute_result"
    }
   ],
   "source": [
    "df.DateOfSale.apply(lambda date_of_sale: date_of_sale.year)"
   ]
  },
  {
   "cell_type": "code",
   "execution_count": 90,
   "metadata": {
    "collapsed": true
   },
   "outputs": [],
   "source": [
    "df['YearOfSale'] = df.DateOfSale.apply(lambda date_of_sale: date_of_sale.year)\n",
    "df['MonthOfSale'] = df.DateOfSale.apply(lambda date_of_sale: date_of_sale.month)\n",
    "df['DayOfSale'] = df.DateOfSale.apply(lambda date_of_sale: date_of_sale.day)\n",
    "df['WeekDayOfSale'] = df.DateOfSale.apply(lambda date_of_sale: date_of_sale.weekday_name)\n",
    "\n",
    "df.drop('DateOfSale', axis = 1, inplace = True)"
   ]
  },
  {
   "cell_type": "markdown",
   "metadata": {},
   "source": [
    "Now, we have the day, day of the week, month, and year of the sale as features in our dataset."
   ]
  },
  {
   "cell_type": "code",
   "execution_count": 91,
   "metadata": {
    "collapsed": false
   },
   "outputs": [
    {
     "data": {
      "text/html": [
       "<div>\n",
       "<table border=\"1\" class=\"dataframe\">\n",
       "  <thead>\n",
       "    <tr style=\"text-align: right;\">\n",
       "      <th></th>\n",
       "      <th>ID</th>\n",
       "      <th>Address</th>\n",
       "      <th>IsAStudio</th>\n",
       "      <th>Beds</th>\n",
       "      <th>Baths</th>\n",
       "      <th>...</th>\n",
       "      <th>SalePrice</th>\n",
       "      <th>YearOfSale</th>\n",
       "      <th>MonthOfSale</th>\n",
       "      <th>DayOfSale</th>\n",
       "      <th>WeekDayOfSale</th>\n",
       "    </tr>\n",
       "  </thead>\n",
       "  <tbody>\n",
       "    <tr>\n",
       "      <th>0</th>\n",
       "      <td>15063471</td>\n",
       "      <td>55 Vandewater St APT 9, San Francisco, CA</td>\n",
       "      <td>0.0</td>\n",
       "      <td>1.0</td>\n",
       "      <td>NaN</td>\n",
       "      <td>...</td>\n",
       "      <td>0.710</td>\n",
       "      <td>2015</td>\n",
       "      <td>12</td>\n",
       "      <td>4</td>\n",
       "      <td>Friday</td>\n",
       "    </tr>\n",
       "    <tr>\n",
       "      <th>1</th>\n",
       "      <td>15063505</td>\n",
       "      <td>740 Francisco St, San Francisco, CA</td>\n",
       "      <td>0.0</td>\n",
       "      <td>NaN</td>\n",
       "      <td>2.0</td>\n",
       "      <td>...</td>\n",
       "      <td>2.150</td>\n",
       "      <td>2015</td>\n",
       "      <td>11</td>\n",
       "      <td>30</td>\n",
       "      <td>Monday</td>\n",
       "    </tr>\n",
       "    <tr>\n",
       "      <th>2</th>\n",
       "      <td>15063609</td>\n",
       "      <td>819 Francisco St, San Francisco, CA</td>\n",
       "      <td>0.0</td>\n",
       "      <td>2.0</td>\n",
       "      <td>3.5</td>\n",
       "      <td>...</td>\n",
       "      <td>5.600</td>\n",
       "      <td>2015</td>\n",
       "      <td>11</td>\n",
       "      <td>12</td>\n",
       "      <td>Thursday</td>\n",
       "    </tr>\n",
       "    <tr>\n",
       "      <th>3</th>\n",
       "      <td>15064044</td>\n",
       "      <td>199 Chestnut St APT 5, San Francisco, CA</td>\n",
       "      <td>0.0</td>\n",
       "      <td>1.0</td>\n",
       "      <td>1.0</td>\n",
       "      <td>...</td>\n",
       "      <td>1.500</td>\n",
       "      <td>2015</td>\n",
       "      <td>12</td>\n",
       "      <td>11</td>\n",
       "      <td>Friday</td>\n",
       "    </tr>\n",
       "    <tr>\n",
       "      <th>4</th>\n",
       "      <td>15064257</td>\n",
       "      <td>111 Chestnut St APT 403, San Francisco, CA</td>\n",
       "      <td>0.0</td>\n",
       "      <td>2.0</td>\n",
       "      <td>2.0</td>\n",
       "      <td>...</td>\n",
       "      <td>0.970</td>\n",
       "      <td>2016</td>\n",
       "      <td>1</td>\n",
       "      <td>15</td>\n",
       "      <td>Friday</td>\n",
       "    </tr>\n",
       "    <tr>\n",
       "      <th>...</th>\n",
       "      <td>...</td>\n",
       "      <td>...</td>\n",
       "      <td>...</td>\n",
       "      <td>...</td>\n",
       "      <td>...</td>\n",
       "      <td>...</td>\n",
       "      <td>...</td>\n",
       "      <td>...</td>\n",
       "      <td>...</td>\n",
       "      <td>...</td>\n",
       "      <td>...</td>\n",
       "    </tr>\n",
       "    <tr>\n",
       "      <th>995</th>\n",
       "      <td>2124214951</td>\n",
       "      <td>412 Green St APT A, San Francisco, CA</td>\n",
       "      <td>1.0</td>\n",
       "      <td>NaN</td>\n",
       "      <td>1.0</td>\n",
       "      <td>...</td>\n",
       "      <td>0.390</td>\n",
       "      <td>2016</td>\n",
       "      <td>1</td>\n",
       "      <td>15</td>\n",
       "      <td>Friday</td>\n",
       "    </tr>\n",
       "    <tr>\n",
       "      <th>996</th>\n",
       "      <td>2126960082</td>\n",
       "      <td>355 1st St UNIT 1905, San Francisco, CA</td>\n",
       "      <td>0.0</td>\n",
       "      <td>1.0</td>\n",
       "      <td>1.0</td>\n",
       "      <td>...</td>\n",
       "      <td>0.860</td>\n",
       "      <td>2015</td>\n",
       "      <td>11</td>\n",
       "      <td>20</td>\n",
       "      <td>Friday</td>\n",
       "    </tr>\n",
       "    <tr>\n",
       "      <th>997</th>\n",
       "      <td>2128308939</td>\n",
       "      <td>33 Santa Cruz Ave, San Francisco, CA</td>\n",
       "      <td>0.0</td>\n",
       "      <td>3.0</td>\n",
       "      <td>3.0</td>\n",
       "      <td>...</td>\n",
       "      <td>0.830</td>\n",
       "      <td>2015</td>\n",
       "      <td>12</td>\n",
       "      <td>10</td>\n",
       "      <td>Thursday</td>\n",
       "    </tr>\n",
       "    <tr>\n",
       "      <th>998</th>\n",
       "      <td>2131957929</td>\n",
       "      <td>1821 Grant Ave, San Francisco, CA</td>\n",
       "      <td>0.0</td>\n",
       "      <td>2.0</td>\n",
       "      <td>2.0</td>\n",
       "      <td>...</td>\n",
       "      <td>0.835</td>\n",
       "      <td>2015</td>\n",
       "      <td>12</td>\n",
       "      <td>15</td>\n",
       "      <td>Tuesday</td>\n",
       "    </tr>\n",
       "    <tr>\n",
       "      <th>999</th>\n",
       "      <td>2136213970</td>\n",
       "      <td>1200 Gough St, San Francisco, CA</td>\n",
       "      <td>0.0</td>\n",
       "      <td>1.0</td>\n",
       "      <td>1.0</td>\n",
       "      <td>...</td>\n",
       "      <td>0.825</td>\n",
       "      <td>2016</td>\n",
       "      <td>1</td>\n",
       "      <td>10</td>\n",
       "      <td>Sunday</td>\n",
       "    </tr>\n",
       "  </tbody>\n",
       "</table>\n",
       "<p>1000 rows × 13 columns</p>\n",
       "</div>"
      ],
      "text/plain": [
       "             ID                                     Address  IsAStudio  Beds  \\\n",
       "0      15063471   55 Vandewater St APT 9, San Francisco, CA        0.0   1.0   \n",
       "1      15063505         740 Francisco St, San Francisco, CA        0.0   NaN   \n",
       "2      15063609         819 Francisco St, San Francisco, CA        0.0   2.0   \n",
       "3      15064044    199 Chestnut St APT 5, San Francisco, CA        0.0   1.0   \n",
       "4      15064257  111 Chestnut St APT 403, San Francisco, CA        0.0   2.0   \n",
       "..          ...                                         ...        ...   ...   \n",
       "995  2124214951       412 Green St APT A, San Francisco, CA        1.0   NaN   \n",
       "996  2126960082     355 1st St UNIT 1905, San Francisco, CA        0.0   1.0   \n",
       "997  2128308939        33 Santa Cruz Ave, San Francisco, CA        0.0   3.0   \n",
       "998  2131957929           1821 Grant Ave, San Francisco, CA        0.0   2.0   \n",
       "999  2136213970            1200 Gough St, San Francisco, CA        0.0   1.0   \n",
       "\n",
       "     Baths      ...        SalePrice  YearOfSale  MonthOfSale  DayOfSale  \\\n",
       "0      NaN      ...            0.710        2015           12          4   \n",
       "1      2.0      ...            2.150        2015           11         30   \n",
       "2      3.5      ...            5.600        2015           11         12   \n",
       "3      1.0      ...            1.500        2015           12         11   \n",
       "4      2.0      ...            0.970        2016            1         15   \n",
       "..     ...      ...              ...         ...          ...        ...   \n",
       "995    1.0      ...            0.390        2016            1         15   \n",
       "996    1.0      ...            0.860        2015           11         20   \n",
       "997    3.0      ...            0.830        2015           12         10   \n",
       "998    2.0      ...            0.835        2015           12         15   \n",
       "999    1.0      ...            0.825        2016            1         10   \n",
       "\n",
       "     WeekDayOfSale  \n",
       "0           Friday  \n",
       "1           Monday  \n",
       "2         Thursday  \n",
       "3           Friday  \n",
       "4           Friday  \n",
       "..             ...  \n",
       "995         Friday  \n",
       "996         Friday  \n",
       "997       Thursday  \n",
       "998        Tuesday  \n",
       "999         Sunday  \n",
       "\n",
       "[1000 rows x 13 columns]"
      ]
     },
     "execution_count": 91,
     "metadata": {},
     "output_type": "execute_result"
    }
   ],
   "source": [
    "df"
   ]
  }
 ],
 "metadata": {
  "kernelspec": {
   "display_name": "Python 2",
   "language": "python",
   "name": "python2"
  },
  "language_info": {
   "codemirror_mode": {
    "name": "ipython",
    "version": 2
   },
   "file_extension": ".py",
   "mimetype": "text/x-python",
   "name": "python",
   "nbconvert_exporter": "python",
   "pygments_lexer": "ipython2",
   "version": "2.7.13"
  }
 },
 "nbformat": 4,
 "nbformat_minor": 0
}
