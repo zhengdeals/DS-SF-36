{
 "cells": [
  {
   "cell_type": "code",
   "execution_count": 2,
   "metadata": {
    "collapsed": true
   },
   "outputs": [],
   "source": [
    "import numpy as np\n",
    "import time\n",
    "import requests\n",
    "import os\n",
    "import gzip\n",
    "import json\n",
    "import lxml.html\n",
    "import dateutil"
   ]
  },
  {
   "cell_type": "code",
   "execution_count": null,
   "metadata": {
    "collapsed": true
   },
   "outputs": [],
   "source": []
  },
  {
   "cell_type": "markdown",
   "metadata": {},
   "source": [
    "https://www.amazon.com/s/ref=sr_pg_2?fst=as%3Aon&rh=n%3A3375251%2Cn%3A10971181011%2Ck%3Ascope+mount&page=2&keywords=scope+mount&ie=UTF8&qid=1499467712&spIA=B071NG2MWS,B01NCTPST1,B01A5IF6EQ,B071L3NZ5D\n",
    "https://www.amazon.com/s/ref=nb_sb_noss_2?url=search-alias%3Daps&field-keywords=scope+mount\n",
    "https://www.amazon.com/s/ref=sr_pg_3?fst=as%3Aon&rh=n%3A3375251%2Cn%3A10971181011%2Ck%3Ascope+mount&page=3&keywords=scope+mount&ie=UTF8&qid=1499467726&spIA=B00NZ98OKG,B06XYM3DM1,B01N1Z56E5,B06WVHJQT4,B071NG2MWS,B01NCTPST1,B01A5IF6EQ,B071L3NZ5D"
   ]
  },
  {
   "cell_type": "code",
   "execution_count": 3,
   "metadata": {
    "collapsed": false
   },
   "outputs": [],
   "source": [
    "response = requests.get('https://www.amazon.com/s/ref=sr_pg_3?fst=as%3Aon&rh=n%3A3375251%2Cn%3A10971181011%2Ck%3Ascope+mount&page=3&keywords=scope+mount',\n",
    "    headers = {'User-agent': 'Mozilla/5.0 (Macintosh; Intel Mac OS X 10_12) AppleWebKit/602.1.43 (KHTML, like Gecko) Version/10.0 Safari/602.1.43'})"
   ]
  },
  {
   "cell_type": "code",
   "execution_count": 6,
   "metadata": {
    "collapsed": false
   },
   "outputs": [],
   "source": [
    "with gzip.open(os.path.join('..', 'datasets', 'dataset-keyword-search.json.gz'), 'wb') as f:\n",
    "        f.write(json.dumps(response.content, ensure_ascii = False, indent = 4, sort_keys = True))"
   ]
  },
  {
   "cell_type": "code",
   "execution_count": 7,
   "metadata": {
    "collapsed": true
   },
   "outputs": [],
   "source": [
    "with gzip.open(os.path.join('..', 'datasets', 'dataset-keyword-search.json.gz'), 'rb') as f:\n",
    "    pages = json.loads(f.read())"
   ]
  },
  {
   "cell_type": "code",
   "execution_count": 9,
   "metadata": {
    "collapsed": false
   },
   "outputs": [],
   "source": [
    "document = lxml.html.fromstring(pages)"
   ]
  },
  {
   "cell_type": "code",
   "execution_count": 13,
   "metadata": {
    "collapsed": true
   },
   "outputs": [],
   "source": [
    "reviews = document.xpath('//*[@class=\"a-link-normal s-access-detail-page  s-color-twister-title-link a-text-normal\"]')"
   ]
  },
  {
   "cell_type": "markdown",
   "metadata": {},
   "source": [
    "//*[@id=\"result_48\"]/div/div/div/div[2]/div[1]/div[1]/a\n",
    "//*[@id=\"result_49\"]/div/div/div/div[2]/div[1]/div[1]/a/h2\n",
    "//*[@id=\"result_50\"]/div/div/div/div[2]\n",
    "//*[@id=\"result_49\"]/div/div/div/div[2]/div[1]/div[1]/a\n",
    "<a class=\"a-link-normal s-access-detail-page  s-color-twister-title-link a-text-normal\" title=\"Mizugiwa 1inch /30mm Cantilever Weaver Forward Reach Dual Ring Rifle Scope Mount\" href=\"https://www.amazon.com/Mizugiwa-1inch-Cantilever-Weaver-Forward/dp/B01DY9K5UI/ref=sr_1_50?s=sports-and-fitness&amp;ie=UTF8&amp;qid=1499468280&amp;sr=1-50&amp;keywords=scope+mount\"><h2 data-attribute=\"Mizugiwa 1inch /30mm Cantilever Weaver Forward Reach Dual Ring Rifle Scope Mount\" data-max-rows=\"0\" class=\"a-size-medium s-inline  s-access-title  a-text-normal\">Mizugiwa 1inch /30mm Cantilever Weaver Forward Reach Dual Ring Rifle Scope Mount</h2></a>"
   ]
  },
  {
   "cell_type": "code",
   "execution_count": 17,
   "metadata": {
    "collapsed": false
   },
   "outputs": [
    {
     "data": {
      "text/plain": [
       "'https://www.amazon.com/Mizugiwa-1inch-Cantilever-Weaver-Forward/dp/B01DY9K5UI/ref=sr_1_50/142-6656709-4860031?s=sports-and-fitness&ie=UTF8&qid=1499468700&sr=1-50&keywords=scope+mount'"
      ]
     },
     "execution_count": 17,
     "metadata": {},
     "output_type": "execute_result"
    }
   ],
   "source": [
    "reviews[1].get('href')"
   ]
  },
  {
   "cell_type": "code",
   "execution_count": 1,
   "metadata": {
    "collapsed": false
   },
   "outputs": [
    {
     "ename": "NameError",
     "evalue": "name 'reviews' is not defined",
     "output_type": "error",
     "traceback": [
      "\u001b[1;31m---------------------------------------------------------------------------\u001b[0m",
      "\u001b[1;31mNameError\u001b[0m                                 Traceback (most recent call last)",
      "\u001b[1;32m<ipython-input-1-6987e999c2c1>\u001b[0m in \u001b[0;36m<module>\u001b[1;34m()\u001b[0m\n\u001b[1;32m----> 1\u001b[1;33m \u001b[0mreviews\u001b[0m\u001b[1;33m[\u001b[0m\u001b[1;36m1\u001b[0m\u001b[1;33m]\u001b[0m\u001b[1;33m.\u001b[0m\u001b[0mget\u001b[0m\u001b[1;33m(\u001b[0m\u001b[1;34m'title'\u001b[0m\u001b[1;33m)\u001b[0m\u001b[1;33m\u001b[0m\u001b[0m\n\u001b[0m",
      "\u001b[1;31mNameError\u001b[0m: name 'reviews' is not defined"
     ]
    }
   ],
   "source": [
    "reviews[1].get('title')"
   ]
  },
  {
   "cell_type": "code",
   "execution_count": null,
   "metadata": {
    "collapsed": true
   },
   "outputs": [],
   "source": []
  },
  {
   "cell_type": "code",
   "execution_count": null,
   "metadata": {
    "collapsed": true
   },
   "outputs": [],
   "source": []
  },
  {
   "cell_type": "code",
   "execution_count": null,
   "metadata": {
    "collapsed": true
   },
   "outputs": [],
   "source": []
  }
 ],
 "metadata": {
  "anaconda-cloud": {},
  "kernelspec": {
   "display_name": "Python [Root]",
   "language": "python",
   "name": "Python [Root]"
  },
  "language_info": {
   "codemirror_mode": {
    "name": "ipython",
    "version": 2
   },
   "file_extension": ".py",
   "mimetype": "text/x-python",
   "name": "python",
   "nbconvert_exporter": "python",
   "pygments_lexer": "ipython2",
   "version": "2.7.11"
  }
 },
 "nbformat": 4,
 "nbformat_minor": 0
}
